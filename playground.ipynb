{
 "cells": [
  {
   "cell_type": "code",
   "execution_count": 2,
   "metadata": {},
   "outputs": [],
   "source": [
    "using PyPlot"
   ]
  },
  {
   "cell_type": "code",
   "execution_count": 7,
   "metadata": {},
   "outputs": [
    {
     "data": {
      "image/png": "[encoded data removed]",
      "text/plain": [
       "Figure(PyObject <Figure size 640x480 with 1 Axes>)"
      ]
     },
     "metadata": {},
     "output_type": "display_data"
    },
    {
     "name": "stderr",
     "output_type": "stream",
     "text": [
      "sys:1: UserWarning: Matplotlib is currently using agg, which is a non-GUI backend, so cannot show the figure.\n"
     ]
    }
   ],
   "source": [
    "plt.figure()\n",
    "f(x) = x\n",
    "x = collect(range(0,1,length=10))\n",
    "plt.plot(x,f.(x))\n",
    "plt.show()\n"
   ]
  },
  {
   "cell_type": "code",
   "execution_count": 24,
   "metadata": {},
   "outputs": [
    {
     "data": {
      "text/plain": [
       "PyObject <module 'irbasis3' from '/Users/fumiya_kakizawa/.pyenv/versions/3.10.1/lib/python3.10/site-packages/irbasis3/__init__.py'>"
      ]
     },
     "execution_count": 24,
     "metadata": {},
     "output_type": "execute_result"
    }
   ],
   "source": [
    "using PyCall \n",
    "irbasis3 = pyimport(\"irbasis3\")"
   ]
  },
  {
   "cell_type": "code",
   "execution_count": 11,
   "metadata": {},
   "outputs": [
    {
     "name": "stdout",
     "output_type": "stream",
     "text": [
      "PyObject <irbasis3.basis.FiniteTempBasis object at 0x1475fd270>\n",
      "conditon number of tau = 5.818091566886036\n",
      "conditon number of matsubara = 9.633471018396389\n"
     ]
    }
   ],
   "source": [
    "beta    = 10.0\n",
    "wmax    = 10.0\n",
    "lambda_ = beta * wmax\n",
    "eps     = 1e-7\n",
    "\n",
    "K     = irbasis3.KernelFFlat(lambda_=lambda_)\n",
    "basis = irbasis3.FiniteTempBasis(K, statistics=\"F\", beta=beta, eps=eps)\n",
    "println(basis)\n",
    "#L     = basis.size\n",
    "\n",
    "smpl_tau = irbasis3.TauSampling(basis)\n",
    "#ntau     = smpl_tau.sampling_points.size\n",
    "println(\"conditon number of tau = $(smpl_tau.cond)\")\n",
    "\n",
    "smpl_matsubara = irbasis3.MatsubaraSampling(basis)\n",
    "#nw = smpl_matsubara.sampling_points.size\n",
    "println(\"conditon number of matsubara = $(smpl_matsubara.cond)\")"
   ]
  },
  {
   "cell_type": "code",
   "execution_count": 32,
   "metadata": {},
   "outputs": [
    {
     "ename": "LoadError",
     "evalue": "ArgumentError: ref of NULL PyObject",
     "output_type": "error",
     "traceback": [
      "ArgumentError: ref of NULL PyObject",
      "",
      "Stacktrace:",
      " [1] _getproperty",
      "   @ ~/.julia/packages/PyCall/L0fLP/src/PyCall.jl:299 [inlined]",
      " [2] __getproperty(o::PyObject, s::Symbol)",
      "   @ PyCall ~/.julia/packages/PyCall/L0fLP/src/PyCall.jl:306",
      " [3] getproperty(o::PyObject, s::Symbol)",
      "   @ PyCall ~/.julia/packages/PyCall/L0fLP/src/PyCall.jl:312",
      " [4] top-level scope",
      "   @ In[32]:1",
      " [5] eval",
      "   @ ./boot.jl:373 [inlined]",
      " [6] include_string(mapexpr::typeof(REPL.softscope), mod::Module, code::String, filename::String)",
      "   @ Base ./loading.jl:1196"
     ]
    }
   ],
   "source": [
    "plt.figure()\n",
    "#=\n",
    "f(x) = x\n",
    "x = collect(range(0,1,length=10))\n",
    "plt.plot(x,f.(x))\n",
    "plt.show()\n",
    "=#"
   ]
  },
  {
   "cell_type": "code",
   "execution_count": 14,
   "metadata": {},
   "outputs": [
    {
     "ename": "LoadError",
     "evalue": "ArgumentError: ref of NULL PyObject",
     "output_type": "error",
     "traceback": [
      "ArgumentError: ref of NULL PyObject",
      "",
      "Stacktrace:",
      " [1] _getproperty",
      "   @ ~/.julia/packages/PyCall/L0fLP/src/PyCall.jl:299 [inlined]",
      " [2] __getproperty(o::PyObject, s::Symbol)",
      "   @ PyCall ~/.julia/packages/PyCall/L0fLP/src/PyCall.jl:306",
      " [3] getproperty(o::PyObject, s::Symbol)",
      "   @ PyCall ~/.julia/packages/PyCall/L0fLP/src/PyCall.jl:312",
      " [4] top-level scope",
      "   @ In[14]:4",
      " [5] eval",
      "   @ ./boot.jl:373 [inlined]",
      " [6] include_string(mapexpr::typeof(REPL.softscope), mod::Module, code::String, filename::String)",
      "   @ Base ./loading.jl:1196"
     ]
    }
   ],
   "source": [
    "rho_omega(omega)  = sqrt(4-omega^2) / (2*π)\n",
    "test_omega = collect(range(-2,2,length=100)) \n",
    "test_rho_omega = rho_omega.(test_omega)\n",
    "plt.plot(test_omega,test_rho_omega)"
   ]
  },
  {
   "cell_type": "code",
   "execution_count": null,
   "metadata": {},
   "outputs": [],
   "source": []
  }
 ],
 "metadata": {
  "interpreter": {
   "hash": "aee8b7b246df8f9039afb4144a1f6fd8d2ca17a180786b69acc140d282b71a49"
  },
  "kernelspec": {
   "display_name": "Julia 1.7.1",
   "language": "julia",
   "name": "julia-1.7"
  },
  "language_info": {
   "file_extension": ".jl",
   "mimetype": "application/julia",
   "name": "julia",
   "version": "1.7.1"
  }
 },
 "nbformat": 4,
 "nbformat_minor": 4
}
