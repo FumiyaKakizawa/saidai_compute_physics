{
 "cells": [
  {
   "cell_type": "code",
   "execution_count": 30,
   "id": "95c3ea82-cd6f-45dd-90f0-63946d9fc980",
   "metadata": {},
   "outputs": [
    {
     "data": {
      "text/plain": [
       "\"\\\\usepackage{amsmath}\""
      ]
     },
     "execution_count": 30,
     "metadata": {},
     "output_type": "execute_result"
    }
   ],
   "source": [
    "using PyPlot\n",
    "\n",
    "rcParams = PyPlot.PyDict(PyPlot.matplotlib.\"rcParams\")\n",
    "\n",
    "rcParams[\"text.usetex\"] = true\n",
    "rcParams[\"font.family\"] = \"serif\"\n",
    "rcParams[\"font.size\"] = 16\n",
    "rcParams[\"text.latex.preamble\"] = raw\"\\usepackage{amsmath}\""
   ]
  },
  {
   "cell_type": "code",
   "execution_count": 31,
   "id": "4efaf424",
   "metadata": {},
   "outputs": [
    {
     "name": "stdout",
     "output_type": "stream",
     "text": [
      "/Users/fumiya_kakizawa/.pyenv/versions/3.10.1/bin/python3\n"
     ]
    },
    {
     "name": "stderr",
     "output_type": "stream",
     "text": [
      "\u001b[32m\u001b[1m    Building\u001b[22m\u001b[39m Conda ─→ `~/.julia/scratchspaces/44cfe95a-1eb2-52ea-b672-e2afdf69b78f/6e47d11ea2776bc5627421d59cdcc1296c058071/build.log`\n",
      "\u001b[32m\u001b[1m    Building\u001b[22m\u001b[39m PyCall → `~/.julia/scratchspaces/44cfe95a-1eb2-52ea-b672-e2afdf69b78f/71fd4022ecd0c6d20180e23ff1b3e05a143959c2/build.log`\n"
     ]
    },
    {
     "data": {
      "text/plain": [
       "\"/Users/fumiya_kakizawa/.pyenv/versions/3.10.1/bin/python3\""
      ]
     },
     "execution_count": 31,
     "metadata": {},
     "output_type": "execute_result"
    }
   ],
   "source": [
    "python_path = string(run(`which python3`))\n",
    "ENV[\"PYTHON\"] = python_path\n",
    "using Pkg \n",
    "Pkg.build(\"PyCall\")\n",
    "using PyCall\n",
    "PyCall.python"
   ]
  },
  {
   "cell_type": "code",
   "execution_count": 32,
   "id": "095a5750",
   "metadata": {},
   "outputs": [
    {
     "name": "stderr",
     "output_type": "stream",
     "text": [
      "\u001b[32m\u001b[1m    Updating\u001b[22m\u001b[39m registry at `~/.julia/registries/General.toml`\n",
      "\u001b[32m\u001b[1m   Resolving\u001b[22m\u001b[39m package versions...\n",
      "\u001b[32m\u001b[1m  No Changes\u001b[22m\u001b[39m to `~/.julia/environments/v1.7/Project.toml`\n",
      "\u001b[32m\u001b[1m  No Changes\u001b[22m\u001b[39m to `~/.julia/environments/v1.7/Manifest.toml`\n",
      "\u001b[32m\u001b[1m    Building\u001b[22m\u001b[39m Conda → `~/.julia/scratchspaces/44cfe95a-1eb2-52ea-b672-e2afdf69b78f/6e47d11ea2776bc5627421d59cdcc1296c058071/build.log`\n"
     ]
    }
   ],
   "source": [
    "Pkg.add(\"Conda\")\n",
    "Pkg.build(\"Conda\")"
   ]
  },
  {
   "cell_type": "code",
   "execution_count": 33,
   "id": "85c1f007",
   "metadata": {},
   "outputs": [
    {
     "name": "stdout",
     "output_type": "stream",
     "text": [
      "Collecting package metadata (current_repodata.json): ...working... done\n",
      "Solving environment: ...working... done\n",
      "\n",
      "# All requested packages already installed.\n",
      "\n",
      "Collecting package metadata (current_repodata.json): ...working... done\n",
      "Solving environment: ...working... failed with initial frozen solve. Retrying with flexible solve.\n",
      "Collecting package metadata (repodata.json): ...working... done\n",
      "Solving environment: ...working... failed with initial frozen solve. Retrying with flexible solve.\n"
     ]
    },
    {
     "name": "stderr",
     "output_type": "stream",
     "text": [
      "┌ Info: Running `conda update -y --all conda` in root environment\n",
      "└ @ Conda /Users/fumiya_kakizawa/.julia/packages/Conda/x2UxR/src/Conda.jl:127\n",
      "┌ Info: Running `conda install -y -c h.shinaoka xprec` in root environment\n",
      "└ @ Conda /Users/fumiya_kakizawa/.julia/packages/Conda/x2UxR/src/Conda.jl:127\n",
      "\n",
      "PackagesNotFoundError: The following packages are not available from current channels:\n",
      "\n",
      "  - xprec\n",
      "\n",
      "Current channels:\n",
      "\n",
      "  - https://conda.anaconda.org/h.shinaoka/osx-arm64\n",
      "  - https://conda.anaconda.org/h.shinaoka/noarch\n",
      "  - https://conda.anaconda.org/conda-forge/osx-arm64\n",
      "  - https://conda.anaconda.org/conda-forge/noarch\n",
      "\n",
      "To search for alternate channels that may provide the conda package you're\n",
      "looking for, navigate to\n",
      "\n",
      "    https://anaconda.org\n",
      "\n",
      "and use the search bar at the top of the page.\n",
      "\n",
      "\n"
     ]
    },
    {
     "ename": "LoadError",
     "evalue": "failed process: Process(setenv(`\u001b[4m/Users/fumiya_kakizawa/.julia/conda/3/bin/conda\u001b[24m \u001b[4minstall\u001b[24m \u001b[4m-y\u001b[24m \u001b[4m-c\u001b[24m \u001b[4mh.shinaoka\u001b[24m \u001b[4mxprec\u001b[24m`,[\"PATH=/Applications/Julia-1.7.app/Contents/Resources/julia/bin:/Users/fumiya_kakizawa/.pyenv/versions/3.10.1/bin:/Applications/Julia-1.7.app/Contents/Resources/julia/bin:/Users/fumiya_kakizawa/.pyenv/bin:/opt/homebrew/bin:/opt/homebrew/sbin:/usr/local/bin:/usr/bin:/bin:/usr/sbin:/sbin:/opt/X11/bin:/Library/Apple/usr/bin\", \"VSCODE_NLS_CONFIG={\\\"locale\\\":\\\"ja\\\",\\\"availableLanguages\\\":{},\\\"_languagePackSupport\\\":true}\", \"MANPATH=/opt/homebrew/share/man::\", \"VSCODE_IPC_HOOK_EXTHOST=/var/folders/sj/r6r7g8b92sn7bsfckjxgg8lr0000gn/T/vscode-ipc-35c3b1b0-8185-44ac-a110-898613b5f971.sock\", \"PYENV_ROOT=/Users/fumiya_kakizawa/.pyenv\", \"USER=fumiya_kakizawa\", \"COLUMNS=80\", \"SHELL=/bin/zsh\", \"TMPDIR=/var/folders/sj/r6r7g8b92sn7bsfckjxgg8lr0000gn/T/\", \"CONDARC=/Users/fumiya_kakizawa/.julia/conda/3/condarc-julia.yml\"  …  \"VSCODE_HANDLES_UNCAUGHT_ERRORS=true\", \"PWD=/\", \"DISPLAY=/private/tmp/com.apple.launchd.3NqXZpelT9/org.xquartz:0\", \"VSCODE_AMD_ENTRYPOINT=vs/workbench/services/extensions/node/extensionHostProcess\", \"VSCODE_VERBOSE_LOGGING=true\", \"JPY_PARENT_PID=48788\", \"ORIGINAL_XDG_CURRENT_DESKTOP=undefined\", \"CONDA_PREFIX=/Users/fumiya_kakizawa/.julia/conda/3\", \"PYDEVD_USE_FRAME_EVAL=NO\", \"OPENBLAS_MAIN_FREE=1\"]), ProcessExited(1)) [1]\n",
     "output_type": "error",
     "traceback": [
      "failed process: Process(setenv(`\u001b[4m/Users/fumiya_kakizawa/.julia/conda/3/bin/conda\u001b[24m \u001b[4minstall\u001b[24m \u001b[4m-y\u001b[24m \u001b[4m-c\u001b[24m \u001b[4mh.shinaoka\u001b[24m \u001b[4mxprec\u001b[24m`,[\"PATH=/Applications/Julia-1.7.app/Contents/Resources/julia/bin:/Users/fumiya_kakizawa/.pyenv/versions/3.10.1/bin:/Applications/Julia-1.7.app/Contents/Resources/julia/bin:/Users/fumiya_kakizawa/.pyenv/bin:/opt/homebrew/bin:/opt/homebrew/sbin:/usr/local/bin:/usr/bin:/bin:/usr/sbin:/sbin:/opt/X11/bin:/Library/Apple/usr/bin\", \"VSCODE_NLS_CONFIG={\\\"locale\\\":\\\"ja\\\",\\\"availableLanguages\\\":{},\\\"_languagePackSupport\\\":true}\", \"MANPATH=/opt/homebrew/share/man::\", \"VSCODE_IPC_HOOK_EXTHOST=/var/folders/sj/r6r7g8b92sn7bsfckjxgg8lr0000gn/T/vscode-ipc-35c3b1b0-8185-44ac-a110-898613b5f971.sock\", \"PYENV_ROOT=/Users/fumiya_kakizawa/.pyenv\", \"USER=fumiya_kakizawa\", \"COLUMNS=80\", \"SHELL=/bin/zsh\", \"TMPDIR=/var/folders/sj/r6r7g8b92sn7bsfckjxgg8lr0000gn/T/\", \"CONDARC=/Users/fumiya_kakizawa/.julia/conda/3/condarc-julia.yml\"  …  \"VSCODE_HANDLES_UNCAUGHT_ERRORS=true\", \"PWD=/\", \"DISPLAY=/private/tmp/com.apple.launchd.3NqXZpelT9/org.xquartz:0\", \"VSCODE_AMD_ENTRYPOINT=vs/workbench/services/extensions/node/extensionHostProcess\", \"VSCODE_VERBOSE_LOGGING=true\", \"JPY_PARENT_PID=48788\", \"ORIGINAL_XDG_CURRENT_DESKTOP=undefined\", \"CONDA_PREFIX=/Users/fumiya_kakizawa/.julia/conda/3\", \"PYDEVD_USE_FRAME_EVAL=NO\", \"OPENBLAS_MAIN_FREE=1\"]), ProcessExited(1)) [1]\n",
      "",
      "Stacktrace:",
      " [1] pipeline_error",
      "   @ ./process.jl:531 [inlined]",
      " [2] run(::Cmd; wait::Bool)",
      "   @ Base ./process.jl:446",
      " [3] run",
      "   @ ./process.jl:444 [inlined]",
      " [4] runconda(args::Cmd, env::String)",
      "   @ Conda ~/.julia/packages/Conda/x2UxR/src/Conda.jl:128",
      " [5] add(pkg::String, env::String; channel::String)",
      "   @ Conda ~/.julia/packages/Conda/x2UxR/src/Conda.jl:222",
      " [6] top-level scope",
      "   @ In[33]:3",
      " [7] eval",
      "   @ ./boot.jl:373 [inlined]",
      " [8] include_string(mapexpr::typeof(REPL.softscope), mod::Module, code::String, filename::String)",
      "   @ Base ./loading.jl:1196"
     ]
    }
   ],
   "source": [
    "using Conda\n",
    "Conda.update()\n",
    "Conda.add(\"xprec\", channel=\"h.shinaoka\")"
   ]
  },
  {
   "cell_type": "code",
   "execution_count": null,
   "id": "a8f8af9e",
   "metadata": {},
   "outputs": [],
   "source": [
    "Pkg.add(\"SparseIR\")\n",
    "Pkg.build(\"SparseIR\")"
   ]
  },
  {
   "cell_type": "code",
   "execution_count": null,
   "id": "e33e28b2",
   "metadata": {},
   "outputs": [
    {
     "ename": "LoadError",
     "evalue": "ArgumentError: ref of NULL PyObject",
     "output_type": "error",
     "traceback": [
      "ArgumentError: ref of NULL PyObject",
      "",
      "Stacktrace:",
      " [1] _getproperty",
      "   @ ~/.julia/packages/PyCall/L0fLP/src/PyCall.jl:299 [inlined]",
      " [2] __getproperty(o::PyObject, s::Symbol)",
      "   @ PyCall ~/.julia/packages/PyCall/L0fLP/src/PyCall.jl:306",
      " [3] getproperty",
      "   @ ~/.julia/packages/PyCall/L0fLP/src/PyCall.jl:312 [inlined]",
      " [4] KernelFFlat(lambda::Int64)",
      "   @ SparseIR ~/.julia/packages/SparseIR/5brXf/src/kernel.jl:11",
      " [5] top-level scope",
      "   @ In[29]:6",
      " [6] eval",
      "   @ ./boot.jl:373 [inlined]",
      " [7] include_string(mapexpr::typeof(REPL.softscope), mod::Module, code::String, filename::String)",
      "   @ Base ./loading.jl:1196"
     ]
    }
   ],
   "source": [
    "using SparseIR\n",
    "\n",
    "lambda = 100\n",
    "beta = 10\n",
    "eps = 1e-7\n",
    "k = KernelFFlat(lambda)\n",
    "basis_f = FiniteTempBasis(k, fermion, beta, eps)\n",
    "basis_b = FiniteTempBasis(k, boson, beta, eps)"
   ]
  },
  {
   "cell_type": "code",
   "execution_count": null,
   "id": "2037f243",
   "metadata": {},
   "outputs": [],
   "source": []
  },
  {
   "cell_type": "code",
   "execution_count": null,
   "id": "f446caa3",
   "metadata": {},
   "outputs": [],
   "source": []
  }
 ],
 "metadata": {
  "kernelspec": {
   "display_name": "Julia 1.7.1",
   "language": "julia",
   "name": "julia-1.7"
  },
  "language_info": {
   "file_extension": ".jl",
   "mimetype": "application/julia",
   "name": "julia",
   "version": "1.7.1"
  }
 },
 "nbformat": 4,
 "nbformat_minor": 5
}
