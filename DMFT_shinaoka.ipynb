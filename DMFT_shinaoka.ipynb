{
 "cells": [
  {
   "cell_type": "code",
   "execution_count": 80,
   "metadata": {},
   "outputs": [],
   "source": [
    "self_energy_intial_value = 0\n",
    "chemical_potential = 0"
   ]
  },
  {
   "cell_type": "code",
   "execution_count": 81,
   "metadata": {},
   "outputs": [],
   "source": [
    "def rho(epsilon):\n",
    "    return (1/(2*np.pi)) * np.sqrt(4 - epsilon**2)\n"
   ]
  },
  {
   "cell_type": "code",
   "execution_count": 82,
   "metadata": {},
   "outputs": [],
   "source": [
    "import numpy as np\n",
    "from scipy.interpolate import interp1d\n",
    "#from matplotlib import pyplot as plt\n",
    "from scipy import integrate"
   ]
  },
  {
   "cell_type": "code",
   "execution_count": 83,
   "metadata": {},
   "outputs": [],
   "source": [
    "import numpy as np\n",
    "%matplotlib inline\n",
    "import matplotlib.pyplot as plt\n",
    "import irbasis3\n",
    "\n",
    "plt.rcParams.update({\n",
    "    \"font.family\": \"serif\",\n",
    "    \"font.size\": 16,\n",
    "})"
   ]
  },
  {
   "cell_type": "code",
   "execution_count": 84,
   "metadata": {},
   "outputs": [],
   "source": [
    "from scipy.integrate import quad\n",
    "assert np.abs(quad(rho, -2, 2)[0] - 1) < 1e-9 # Check rule"
   ]
  },
  {
   "cell_type": "code",
   "execution_count": 85,
   "metadata": {},
   "outputs": [
    {
     "name": "stdout",
     "output_type": "stream",
     "text": [
      "cond (tau):  11.408396757532548\n",
      "cond (matsu):  17.755472692037568\n"
     ]
    }
   ],
   "source": [
    "D = 2\n",
    "temp = 0.1/D\n",
    "beta = 1/temp\n",
    "wmax = 10.0 * D\n",
    "lambda_ = beta * wmax\n",
    "eps = 1e-9\n",
    "\n",
    "wmax = lambda_/beta\n",
    "K = irbasis3.KernelFFlat(lambda_=lambda_)\n",
    "basis = irbasis3.FiniteTempBasis(K, statistics=\"F\", beta=beta, eps=eps)\n",
    "L = basis.size\n",
    "\n",
    "# Sparse sampling in tau\n",
    "smpl_tau = irbasis3.TauSampling(basis)\n",
    "ntau = smpl_tau.sampling_points.size\n",
    "print(\"cond (tau): \", smpl_tau.cond)\n",
    "\n",
    "# Sparse sampling in Matsubara frequencies\n",
    "smpl_matsu = irbasis3.MatsubaraSampling(basis)\n",
    "nw = smpl_matsu.sampling_points.size\n",
    "print(\"cond (matsu): \", smpl_matsu.cond)"
   ]
  },
  {
   "cell_type": "code",
   "execution_count": 86,
   "metadata": {},
   "outputs": [
    {
     "name": "stdout",
     "output_type": "stream",
     "text": [
      "[-879 -837 -795 -339 -201 -137 -101  -75  -59  -45  -35  -29  -23  -19\n",
      "  -15  -13  -11   -9   -7   -5   -3   -1    1    3    5    7    9   11\n",
      "   13   15   19   23   29   35   45   59   75  101  137  201  339  795\n",
      "  837  879]\n"
     ]
    }
   ],
   "source": [
    "print(smpl_matsu.sampling_points)"
   ]
  },
  {
   "cell_type": "code",
   "execution_count": 87,
   "metadata": {},
   "outputs": [],
   "source": [
    "from numpy.polynomial.legendre import leggauss\n",
    "\n",
    "def scale_quad(x, w, xmin, xmax):\n",
    "    \"\"\" Scale weights and notes of quadrature to the interval [xmin, xmax] \"\"\"\n",
    "    assert xmin < xmax\n",
    "    dx = xmax - xmin\n",
    "    w_ = 0.5 * dx * w\n",
    "    x_ = (0.5 * dx) * (x + 1) + xmin\n",
    "    return x_, w_\n",
    "\n",
    "class IPTSolver:\n",
    "    def __init__(self, U, basis, rho_omega, omega_range, deg_leggauss=1000):\n",
    "        assert isinstance(omega_range, tuple)\n",
    "        assert omega_range[0] < omega_range[1]\n",
    "        self.U = U\n",
    "        self.basis = basis\n",
    "        self.beta = basis.beta\n",
    "        self.rho_omega = rho_omega\n",
    "\n",
    "        x_, w_ = leggauss(deg_leggauss)\n",
    "        self._quad_rule = scale_quad(x_, w_, omega_range[0], omega_range[1])\n",
    "\n",
    "        self._smpl_matsu = irbasis3.MatsubaraSampling(basis)\n",
    "        self._smpl_tau = irbasis3.TauSampling(basis)\n",
    "\n",
    "    def gloc_iv(self, sigma_iv):\n",
    "        \"\"\"\n",
    "        Compute G_loc(iv) from Sigma_iv\n",
    "\n",
    "        G_loc(iv) \\simeq \\sum_q w_q rho(x_q)/(iv - w_q - \\Sigma(iv))\n",
    "        \"\"\"\n",
    "        quad_points = self._quad_rule[0]\n",
    "        quad_weight = self._quad_rule[1]\n",
    "        #print(quad_points, quad_weight)\n",
    "        #松原周波数\n",
    "        iv = 1j * self._smpl_matsu.sampling_points * np.pi/self.beta\n",
    "        r = np.einsum('q,q,wq->w',\n",
    "            quad_weight,\n",
    "            self.rho_omega(quad_points),\n",
    "            1/((iv-sigma_iv)[:,None] - quad_points[None,:]),\n",
    "            optimize=True\n",
    "        )\n",
    "        return r\n",
    "    \n",
    "    def g0_iv(self, gloc, sigma_iw):\n",
    "        \"\"\"\n",
    "        Compute \\mathcal{G}(iv) from G_loc(iv) and Sigma(iv)\n",
    "        \"\"\"\n",
    "        return 1/(1/gloc + sigma_iw)\n",
    "\n",
    "    def sigma_iv(self, g0_iv):\n",
    "        \"\"\"\n",
    "        Compute Sigma(tau) from \\mathcal{G}(iv)\n",
    "        \"\"\"\n",
    "        g0_IR = self._smpl_matsu.fit(g0_iv, axis=0)\n",
    "        g0_tau = self._smpl_tau.evaluate(g0_IR)\n",
    "        sigma_tau = (self.U**2) * (g0_tau**2) * g0_tau[::-1]\n",
    "        sigma_IR = self._smpl_tau.fit(sigma_tau)\n",
    "        return self._smpl_matsu.evaluate(sigma_IR, axis=0)\n",
    "    \n",
    "    def new_sigma_iv(self, sigma_iv):\n",
    "        gloc_iv = self.gloc_iv(sigma_iv)\n",
    "        g0_iv = self.g0_iv(gloc_iv, sigma_iv)\n",
    "        r = self.sigma_iv(g0_iv)\n",
    "        return r"
   ]
  },
  {
   "cell_type": "markdown",
   "metadata": {},
   "source": []
  },
  {
   "cell_type": "code",
   "execution_count": 88,
   "metadata": {},
   "outputs": [
    {
     "name": "stdout",
     "output_type": "stream",
     "text": [
      "U= 5.0\n"
     ]
    },
    {
     "name": "stderr",
     "output_type": "stream",
     "text": [
      "/var/folders/sj/r6r7g8b92sn7bsfckjxgg8lr0000gn/T/ipykernel_40761/3742850191.py:19: RuntimeWarning: divide by zero encountered in double_scalars\n",
      "  rdiff = np.abs(new_sigma_iv - sigma_iv).max()/np.abs(sigma_iv).max()\n"
     ]
    },
    {
     "name": "stdout",
     "output_type": "stream",
     "text": [
      "DEBUG A: -0.6930120950724621\n",
      "DEBUG B: 0.6930120950724616\n",
      "DEBUG C: 1\n",
      "DEBUG D: -1\n",
      "DEBUG E: 0.5906632344272764\n",
      "U= 5.078947368421052\n",
      "DEBUG A: -0.747885247468118\n",
      "DEBUG B: 0.7478852474681178\n",
      "DEBUG C: 1\n",
      "DEBUG D: -1\n",
      "DEBUG E: 0.572119938336078\n",
      "U= 5.157894736842105\n",
      "DEBUG A: -0.8097629269732644\n",
      "DEBUG B: 0.8097629269732627\n",
      "DEBUG C: 1\n",
      "DEBUG D: -1\n",
      "DEBUG E: 0.5525585617296566\n",
      "U= 5.2368421052631575\n",
      "DEBUG A: -0.8803029439950186\n",
      "DEBUG B: 0.880302943995018\n",
      "DEBUG C: 1\n",
      "DEBUG D: -1\n",
      "DEBUG E: 0.5318291944357288\n",
      "U= 5.315789473684211\n",
      "DEBUG A: -0.9618597749242869\n",
      "DEBUG B: 0.9618597749242849\n",
      "DEBUG C: 1\n",
      "DEBUG D: -1\n",
      "DEBUG E: 0.5097204258844611\n",
      "U= 5.394736842105263\n",
      "DEBUG A: -1.0579627966962009\n",
      "DEBUG B: 1.0579627966961982\n",
      "DEBUG C: 1\n",
      "DEBUG D: -1\n",
      "DEBUG E: 0.4859174333012114\n",
      "U= 5.473684210526316\n",
      "DEBUG A: -1.1743730227026552\n",
      "DEBUG B: 1.1743730227026448\n",
      "DEBUG C: 1\n",
      "DEBUG D: -1\n",
      "DEBUG E: 0.4599026889861998\n",
      "U= 5.552631578947368\n",
      "DEBUG A: -1.321721960374943\n",
      "DEBUG B: 1.3217219603748498\n",
      "DEBUG C: 1\n",
      "DEBUG D: -1\n",
      "DEBUG E: 0.43071479577103483\n",
      "U= 5.631578947368421\n",
      "DEBUG A: -1.5243606374770793\n",
      "DEBUG B: 1.5243606374667595\n",
      "DEBUG C: 1\n",
      "DEBUG D: -1\n",
      "DEBUG E: 0.3961399116892718\n",
      "U= 5.7105263157894735\n",
      "DEBUG A: -1.8770832047986576\n",
      "DEBUG B: 1.8770827265456307\n",
      "DEBUG C: 1\n",
      "DEBUG D: -1\n",
      "DEBUG E: 0.34757426599492586\n",
      "U= 5.7894736842105265\n",
      "DEBUG A: -30.11371310805182\n",
      "DEBUG B: 30.113713108051943\n",
      "DEBUG C: 1\n",
      "DEBUG D: -1\n",
      "DEBUG E: 0.03214016908001929\n",
      "U= 5.868421052631579\n",
      "DEBUG A: -31.807050763544886\n",
      "DEBUG B: 31.807050763544847\n",
      "DEBUG C: 1\n",
      "DEBUG D: -1\n",
      "DEBUG E: 0.030481252557794623\n",
      "U= 5.947368421052632\n",
      "DEBUG A: -33.495958883432884\n",
      "DEBUG B: 33.495958883433566\n",
      "DEBUG C: 1\n",
      "DEBUG D: -1\n",
      "DEBUG E: 0.028988902827114995\n",
      "U= 6.026315789473684\n",
      "DEBUG A: -35.184453992568855\n",
      "DEBUG B: 35.18445399256809\n",
      "DEBUG C: 1\n",
      "DEBUG D: -1\n",
      "DEBUG E: 0.02763617768573706\n",
      "U= 6.105263157894736\n",
      "DEBUG A: -36.875713240433676\n",
      "DEBUG B: 36.8757132404342\n",
      "DEBUG C: 1\n",
      "DEBUG D: -1\n",
      "DEBUG E: 0.02640214307390144\n",
      "U= 6.184210526315789\n",
      "DEBUG A: -38.572214885384675\n",
      "DEBUG B: 38.57221488538544\n",
      "DEBUG C: 1\n",
      "DEBUG D: -1\n",
      "DEBUG E: 0.025270255983809574\n",
      "U= 6.2631578947368425\n",
      "DEBUG A: -40.275946033259544\n",
      "DEBUG B: 40.27594603325945\n",
      "DEBUG C: 1\n",
      "DEBUG D: -1\n",
      "DEBUG E: 0.024227185470060843\n",
      "U= 6.342105263157895\n",
      "DEBUG A: -41.98844267920067\n",
      "DEBUG B: 41.9884426792007\n",
      "DEBUG C: 1\n",
      "DEBUG D: -1\n",
      "DEBUG E: 0.02326206621306231\n",
      "U= 6.421052631578947\n",
      "DEBUG A: -43.7111189839445\n",
      "DEBUG B: 43.71111898394347\n",
      "DEBUG C: 1\n",
      "DEBUG D: -1\n",
      "DEBUG E: 0.022365801230765564\n",
      "U= 6.5\n",
      "DEBUG A: -45.445092408760146\n",
      "DEBUG B: 45.44509240876024\n",
      "DEBUG C: 1\n",
      "DEBUG D: -1\n",
      "DEBUG E: 0.021530800093991977\n"
     ]
    }
   ],
   "source": [
    "niter = 10000\n",
    "mixing = 0.1\n",
    "\n",
    "#U_1 = np.linspace(12/D,13/D,5)\n",
    "#U_1 = 2*np.array([1e-3/D, 1/D, 2/D, 3/D, 4/D, 5/D, 6/D, 6.5/D])\n",
    "U_1 = 2*np.linspace(5/D, 6.5/D, 20)\n",
    "\n",
    "def normalize_factor(u, sigma_ini=None) :\n",
    "    # Initialize solver\n",
    "    solver = IPTSolver(u, basis, rho, (-2,2))\n",
    "\n",
    "    if sigma_ini is None:\n",
    "        sigma_ini = np.zeros_like(solver._smpl_matsu.sampling_points.size, dtype=np.complex128)\n",
    "\n",
    "    sigma_iv = sigma_ini.copy()\n",
    "\n",
    "    for iter in range(niter):\n",
    "        new_sigma_iv = solver.new_sigma_iv(sigma_iv)\n",
    "        rdiff = np.abs(new_sigma_iv - sigma_iv).max()/np.abs(sigma_iv).max()\n",
    "        #print(iter, rdiff)\n",
    "        if rdiff < 1e-5:\n",
    "            break\n",
    "        sigma_iv = mixing * new_sigma_iv + (1-mixing) * sigma_iv\n",
    "\n",
    "    center = int(len(sigma_iv.imag)/2)\n",
    "    print(\"DEBUG A:\",sigma_iv.imag[center])\n",
    "    print(\"DEBUG B:\",sigma_iv.imag[center-1])\n",
    "    print(\"DEBUG C:\",solver._smpl_matsu.sampling_points[center])\n",
    "    print(\"DEBUG D:\",solver._smpl_matsu.sampling_points[center-1])\n",
    "    z = 1/(1-(sigma_iv.imag[center] - sigma_iv.imag[center-1])/(solver._smpl_matsu.sampling_points[center] - solver._smpl_matsu.sampling_points[center-1]))\n",
    "    print(\"DEBUG E:\",z)\n",
    "\n",
    "    return z, sigma_iv\n",
    "\n",
    "Z = []\n",
    "Sigma_U = []\n",
    "for u in U_1:\n",
    "    print(\"U=\",u)\n",
    "    zz, s_u = normalize_factor(u, Sigma_U[-1] if len(Sigma_U) > 0 else None)\n",
    "    Sigma_U.append(s_u)\n",
    "    #print(Sigma_U)\n",
    "    if abs(zz) > 1e-10:\n",
    "        Z.append(zz)\n",
    "\n",
    "    else:\n",
    "        break\n",
    "\n"
   ]
  },
  {
   "cell_type": "code",
   "execution_count": 89,
   "metadata": {},
   "outputs": [
    {
     "data": {
      "text/plain": [
       "[0.5906632344272764,\n",
       " 0.572119938336078,\n",
       " 0.5525585617296566,\n",
       " 0.5318291944357288,\n",
       " 0.5097204258844611,\n",
       " 0.4859174333012114,\n",
       " 0.4599026889861998,\n",
       " 0.43071479577103483,\n",
       " 0.3961399116892718,\n",
       " 0.34757426599492586,\n",
       " 0.03214016908001929,\n",
       " 0.030481252557794623,\n",
       " 0.028988902827114995,\n",
       " 0.02763617768573706,\n",
       " 0.02640214307390144,\n",
       " 0.025270255983809574,\n",
       " 0.024227185470060843,\n",
       " 0.02326206621306231,\n",
       " 0.022365801230765564,\n",
       " 0.021530800093991977]"
      ]
     },
     "execution_count": 89,
     "metadata": {},
     "output_type": "execute_result"
    }
   ],
   "source": [
    "Z"
   ]
  },
  {
   "cell_type": "code",
   "execution_count": 90,
   "metadata": {},
   "outputs": [
    {
     "data": {
      "image/png": "[encoded data removed]",
      "text/plain": [
       "<Figure size 432x288 with 1 Axes>"
      ]
     },
     "metadata": {
      "needs_background": "light"
     },
     "output_type": "display_data"
    }
   ],
   "source": [
    "plt.plot(U_1,Z, marker=\">\")\n",
    "#plt.xticks(np.arange(0,7,1))\n",
    "plt.xlabel(\"U\")\n",
    "plt.ylabel(\"z=$[1-\\dfrac{\\partial \\Sigma}{\\partial \\omega}]^{-1}$\")\n",
    "#plt.ylim(0,1.1)\n",
    "plt.title(\"$T={0}$\".format(1/beta))\n",
    "plt.grid()"
   ]
  },
  {
   "cell_type": "code",
   "execution_count": 91,
   "metadata": {},
   "outputs": [
    {
     "data": {
      "text/plain": [
       "<matplotlib.legend.Legend at 0x12efe4040>"
      ]
     },
     "execution_count": 91,
     "metadata": {},
     "output_type": "execute_result"
    },
    {
     "data": {
      "image/png": "[encoded data removed]",
      "text/plain": [
       "<Figure size 432x288 with 1 Axes>"
      ]
     },
     "metadata": {
      "needs_background": "light"
     },
     "output_type": "display_data"
    }
   ],
   "source": [
    "for i in range(len(Sigma_U)):\n",
    "    plt.plot(smpl_matsu.sampling_points, Sigma_U[i].imag, label=str(i))\n",
    "plt.grid()\n",
    "plt.legend()"
   ]
  },
  {
   "cell_type": "code",
   "execution_count": 92,
   "metadata": {},
   "outputs": [],
   "source": [
    "#plt.plot(solver._quad_rule[0],solver._quad_rule[1])"
   ]
  },
  {
   "cell_type": "code",
   "execution_count": 93,
   "metadata": {},
   "outputs": [],
   "source": [
    "# lll = leggauss(10000)\n",
    "# plt.plot(lll[0],lll[1])"
   ]
  },
  {
   "cell_type": "code",
   "execution_count": 94,
   "metadata": {},
   "outputs": [],
   "source": [
    "\n",
    "# sigma_iv = np.zeros_like(\n",
    "#     solver._smpl_matsu.sampling_points.size, dtype=np.complex128)"
   ]
  },
  {
   "cell_type": "code",
   "execution_count": 95,
   "metadata": {},
   "outputs": [],
   "source": [
    "# # Gloc_iv\n",
    "# gloc_iv = solver.gloc_iv(sigma_iv)\n",
    "# plt.plot(\n",
    "#     solver._smpl_matsu.sampling_points,\n",
    "#     gloc_iv.real,label = \"Re $G_{local}(i\\omega_n)$\"\n",
    "# )\n",
    "# plt.plot(\n",
    "#     solver._smpl_matsu.sampling_points,\n",
    "#     gloc_iv.imag, label = \"Im $G_{local}(i\\omega_n)$\"\n",
    "# )\n",
    "\n",
    "# plt.xlabel(\"$\\omega_n$\")\n",
    "# plt.legend()"
   ]
  },
  {
   "cell_type": "code",
   "execution_count": 96,
   "metadata": {},
   "outputs": [],
   "source": [
    "# # Gloc_iv\n",
    "# g0_iv = solver.g0_iv(gloc_iv, sigma_iv)\n",
    "# plt.plot(\n",
    "#     solver._smpl_matsu.sampling_points,\n",
    "#     g0_iv.real ,label = \"Re $G_{0}(i\\omega_n)$\"\n",
    "# )\n",
    "# plt.plot(\n",
    "#     solver._smpl_matsu.sampling_points,\n",
    "#     g0_iv.imag,  label = \"Im $G_{0}(i\\omega_n)$\"\n",
    "# )\n",
    "# plt.xlabel(\"$\\omega_n$\")\n",
    "# plt.legend()\n"
   ]
  },
  {
   "cell_type": "code",
   "execution_count": 97,
   "metadata": {},
   "outputs": [],
   "source": [
    "# for iter in range(niter):\n",
    "#     new_sigma_iv = solver.new_sigma_iv(sigma_iv)\n",
    "#     rdiff = np.abs(new_sigma_iv - sigma_iv).max()/np.abs(sigma_iv).max()\n",
    "#     print(iter, rdiff)\n",
    "#     if rdiff < 1e-10:\n",
    "#         break\n",
    "#     sigma_iv = mixing * new_sigma_iv + (1-mixing) * sigma_iv\n"
   ]
  },
  {
   "cell_type": "code",
   "execution_count": 98,
   "metadata": {},
   "outputs": [],
   "source": [
    "# fig = plt.figure(figsize=(12,5))\n",
    "# plt.plot(\n",
    "#     solver._smpl_matsu.sampling_points,\n",
    "#     sigma_iv.imag,\n",
    "#     marker=\"x\"\n",
    "# )\n",
    "# plt.xticks(np.arange(min(solver._smpl_matsu.sampling_points),max(solver._smpl_matsu.sampling_points),20))\n",
    "# plt.grid()"
   ]
  },
  {
   "cell_type": "code",
   "execution_count": 99,
   "metadata": {},
   "outputs": [],
   "source": [
    "# center = int(len(sigma_iv.imag)/2)\n",
    "# print(center)\n",
    "# (sigma_iv.imag[center] - sigma_iv.imag[center-1])/(solver._smpl_matsu.sampling_points[center] - solver._smpl_matsu.sampling_points[center-1])\n"
   ]
  },
  {
   "cell_type": "code",
   "execution_count": 100,
   "metadata": {},
   "outputs": [],
   "source": [
    "# plt.plot(\n",
    "#     solver._smpl_matsu.sampling_points,\n",
    "#     sigma_iv.real,\n",
    "#     marker=\"x\"\n",
    "# )\n",
    "# plt.ylim(-0.1,0.1)"
   ]
  },
  {
   "cell_type": "code",
   "execution_count": 101,
   "metadata": {},
   "outputs": [],
   "source": [
    "#max(solver._smpl_matsu.sampling_points)"
   ]
  },
  {
   "cell_type": "code",
   "execution_count": 102,
   "metadata": {},
   "outputs": [],
   "source": [
    "# plt.rcParams.update({\n",
    "#     #\"text.usetex\": True,\n",
    "#     \"font.family\": \"serif\",\n",
    "#     \"font.size\": 16\n",
    "# })"
   ]
  },
  {
   "cell_type": "code",
   "execution_count": 103,
   "metadata": {},
   "outputs": [],
   "source": [
    "# from scipy.special import eval_legendre\n",
    "\n",
    "# nx = 1000\n",
    "# nvec = np.arange(5)\n",
    "# xvec = np.linspace(-1, 1, nx)\n",
    "# legval = eval_legendre(nvec[None,:], xvec[:,None])\n",
    "# print(legval.shape)"
   ]
  },
  {
   "cell_type": "code",
   "execution_count": 104,
   "metadata": {},
   "outputs": [],
   "source": [
    "# for n in nvec:\n",
    "#     plt.plot(xvec, legval[:,n], label=r'$n='+str(n)+r'$')\n",
    "# plt.grid()\n",
    "# plt.legend(loc='best', frameon=False)\n",
    "# plt.xlabel(r'$x$')\n",
    "# plt.ylabel(r'$P_n(x)$')\n",
    "# plt.tight_layout()\n",
    "# plt.savefig('legendre_polynomials.pdf', transparent=True)\n",
    "# ;\n",
    "# ''"
   ]
  },
  {
   "cell_type": "code",
   "execution_count": null,
   "metadata": {},
   "outputs": [],
   "source": []
  }
 ],
 "metadata": {
  "interpreter": {
   "hash": "94d44e62a1577ee572a9858a500661dceac399c5758753fd10c38c237b1f9efc"
  },
  "kernelspec": {
   "display_name": "Python 3.8.3 64-bit ('base': conda)",
   "name": "python3"
  },
  "language_info": {
   "codemirror_mode": {
    "name": "ipython",
    "version": 3
   },
   "file_extension": ".py",
   "mimetype": "text/x-python",
   "name": "python",
   "nbconvert_exporter": "python",
   "pygments_lexer": "ipython3",
   "version": "3.10.1"
  }
 },
 "nbformat": 4,
 "nbformat_minor": 4
}
