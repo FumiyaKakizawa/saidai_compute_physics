{
 "cells": [
  {
   "cell_type": "markdown",
   "metadata": {},
   "source": [
    "# Exercise 1\n",
    "plot following Green's functions of the single-orbital fermionic Hubbard atom at half filling,\n",
    "$$\n",
    "G_{\\sigma\\sigma'}(z) = \\frac{1}{2}\\left(\\frac{1}{z-U/2} + \\frac{1}{z+U/2} \\right)\\delta_{\\sigma\\sigma'}\n",
    "$$\n",
    "\n",
    "$$\n",
    "G_{\\sigma\\sigma'} = \\frac{-1}{2}\\left(\\frac{e^{-\\tau U/2}}{1+e^{-\\beta U/2}} + \\frac{e^{\\tau U/2}}{1+e^{\\beta U/2}} \\right)\n",
    "$$"
   ]
  },
  {
   "cell_type": "code",
   "execution_count": 217,
   "metadata": {},
   "outputs": [],
   "source": [
    "using PyPlot\n",
    "using LinearAlgebra\n",
    "using BenchmarkTools\n",
    "using PyCall "
   ]
  },
  {
   "cell_type": "code",
   "execution_count": 218,
   "metadata": {},
   "outputs": [
    {
     "data": {
      "text/plain": [
       "G (generic function with 2 methods)"
      ]
     },
     "metadata": {},
     "output_type": "display_data"
    }
   ],
   "source": [
    "function G(τ,U,β)\n",
    "\t- (exp(-τ*U/2)/(1+exp(-β*U/2)) + exp(τ*U/2)/(1+exp(β*U/2))) / 2\n",
    "end"
   ]
  },
  {
   "cell_type": "code",
   "execution_count": 219,
   "metadata": {},
   "outputs": [],
   "source": [
    "U = 1\n",
    "β = 300\n",
    "τs = LinRange(0,300,600)\n",
    "plt.figure()\n",
    "plt.plot(τs,G.(τs,U,β))\n",
    "plt.title(\"G(τ) computed for the Hubbard atom withU= 1 and β= 300.\")\n",
    "plt.xlabel(\"τ\")\n",
    "plt.ylabel(\"G(τ)\")\n",
    "plt.savefig(\"exercise_1_1.pdf\")"
   ]
  },
  {
   "cell_type": "code",
   "execution_count": 220,
   "metadata": {},
   "outputs": [],
   "source": [
    "plt.figure()\n",
    "plt.plot(τs,abs.(G.(τs,U,β)))\n",
    "plt.title(\"G(τ) computed for the Hubbard atom withU= 1 and β= 300.\")\n",
    "plt.yscale(\"log\")\n",
    "plt.xlabel(\"τ\")\n",
    "plt.ylabel(\"|G|\")\n",
    "plt.savefig(\"exercise_1_2.pdf\")"
   ]
  },
  {
   "cell_type": "code",
   "execution_count": 221,
   "metadata": {},
   "outputs": [],
   "source": [
    "function G(z,U)\n",
    "\t(1/(z-U/2) + 1/(z+U/2))/2\n",
    "end\n",
    "\n",
    "U  = 1.0\n",
    "νs = LinRange(-4,4,100)\n",
    "plt.figure()\n",
    "plt.plot(νs,imag.(G.(im.*νs,U)),marker=\"o\",label=\"Im G(iν)\")\n",
    "plt.plot(νs,1 ./ νs,label=\"1/ν\")\n",
    "plt.title(\"G(iν) computed for the Hubbard atom withU= 1 and β= 300.\")\n",
    "plt.xlabel(\"ν\")\n",
    "plt.ylabel(\"Im G(iν)\")\n",
    "plt.ylim(-1.5,1.5)\n",
    "plt.legend(loc=\"upper right\")\n",
    "plt.savefig(\"exercise_1_3.pdf\")"
   ]
  },
  {
   "cell_type": "markdown",
   "metadata": {},
   "source": [
    "# Exercise 2\n",
    "For the Hubbard atom, Green's function reads\n",
    "$$\n",
    "G_{\\sigma\\sigma'}(z) = \\frac{1}{2}\\left(\\frac{1}{z-U/2} + \\frac{1}{z+U/2} \\right)\\delta_{\\sigma\\sigma'}.\n",
    "$$\n",
    "Using this formula\n",
    "$$\n",
    "T\\sum_{\\nu}\\frac{e^{-i\\nu T}}{i\\nu-\\epsilon} = -\\frac{e^{-\\epsilon\\tau}}{1+e^{-\\beta\\epsilon}},\n",
    "$$\n",
    "we obtain \n",
    "$$\n",
    "G_{\\sigma\\sigma'}(\\tau) \n",
    "= T\\sum_n e^{-i\\omega_n\\tau}G(i\\omega_n)\n",
    "= \\frac{T}{2}\\sum_n \\left[\\frac{e^{-i\\omega_n\\tau}}{i\\omega_n-U/2} + \\frac{e^{-i\\omega_n\\tau}}{i\\omega_n+U/2}\\right]\\delta_{\\sigma\\sigma'}\n",
    "= -\\frac{1}{2}\\left(\\frac{e^{\\tau U/2}}{1+e^{-\\beta U/2}} + \\frac{e^{\\tau U/2}}{1+e^{\\beta U/2}}\\right)\\delta_{\\sigma\\sigma'}\n",
    "$$"
   ]
  },
  {
   "cell_type": "markdown",
   "metadata": {},
   "source": [
    "# Exercise 3\n",
    "Please numerically check how $G(\\tau)$ of the Hubbard atom behaves near $\\tau= 0$ if we truncate the summation in the following equation at some frequency.\n",
    "$$\n",
    "T\\sum_{\\nu}\\frac{e^{-i\\nu T}}{i\\nu-\\epsilon} = -\\frac{e^{-\\epsilon\\tau}}{1+e^{-\\beta\\epsilon}}.\n",
    "$$\n",
    "$G(\\tau)$ reads\n",
    "$$\n",
    "G(\\tau) = T\\sum_n e^{-i\\omega_n\\tau}G(i\\omega_n)\n",
    "$$\n",
    "where $\\omega_n = (2n+1)\\pi T.$"
   ]
  },
  {
   "cell_type": "code",
   "execution_count": 222,
   "metadata": {},
   "outputs": [],
   "source": [
    "#ω_n = (2n+1)πT\n",
    "U = 1.\n",
    "β = 300.\n",
    "T = 1/β\n",
    "num_tau = 1000\n",
    "τs = LinRange(0,β,num_tau)\n",
    "num_omega = 200\n",
    "ω_n = [(2n+1)*π*T for n in -num_omega:num_omega]\n",
    "\n",
    "function naive_inverse_Giv_forloop(num_tau,ω_n,U,T,τs)\n",
    "\tG_tau = zeros(Complex,num_tau) \n",
    "\n",
    "    for i_tau in 1:num_tau\n",
    "\t    for j_omega in 1:length(ω_n)\n",
    "\t\t    G_tau[i_tau] += T * exp(- im * ω_n[j_omega] * τs[i_tau]) * G(im * ω_n[j_omega],U)\n",
    "\t    end\n",
    "    end\n",
    "\tG_tau\n",
    "end\n",
    "\n",
    "G_tau = naive_inverse_Giv_forloop(num_tau,ω_n,U,T,τs)\n",
    "plt.figure()\n",
    "plt.plot(τs,real.(G_tau))\n",
    "plt.plot(τs,G.(τs,U,β))\n",
    "plt.xlim(-0.5,10)\n",
    "plt.xlabel(\"τ\")\n",
    "plt.ylabel(\"G(τ)\")\n",
    "plt.title(\"Naive inverse transform of G(iν) for the Hubbard atom with U=1 and β=300\")\n",
    "plt.savefig(\"Exercise_3.pdf\")"
   ]
  },
  {
   "cell_type": "code",
   "execution_count": 223,
   "metadata": {},
   "outputs": [],
   "source": [
    "# 行列積での計算\n",
    "#ω_n = (2n+1)πT\n",
    "U = 1.\n",
    "β = 300.\n",
    "T = 1/β\n",
    "num_tau = 1000\n",
    "τs = collect(LinRange(0,β,num_tau))\n",
    "num_omega = 200\n",
    "ω_n = [(2n+1)*π*T for n in -num_omega:num_omega]\n",
    "\n",
    "function naive_inverse_Giv_matprod(τs,ω_n,U,T)\n",
    "\tG_iν = G.(im .* ω_n,U)\n",
    "    exp_tau_iomega = exp.(τs * transpose(-im .* ω_n))\n",
    "    G_tau = T .* (exp_tau_iomega * G_iν)\n",
    "end\n",
    "\n",
    "G_tau = naive_inverse_Giv_matprod(τs,ω_n,U,T)\n",
    "plt.figure()\n",
    "plt.plot(τs,real.(G_tau))\n",
    "plt.plot(τs,G.(τs,U,β))\n",
    "plt.xlim(-0.5,10)\n",
    "plt.xlabel(\"τ\")\n",
    "plt.ylabel(\"G(τ)\")\n",
    "plt.title(\"Naive inverse transform of G(iν) for the Hubbard atom with U=1 and β=300\")\n",
    "plt.savefig(\"Exercise_3.pdf\")"
   ]
  },
  {
   "cell_type": "code",
   "execution_count": 224,
   "metadata": {},
   "outputs": [],
   "source": [
    "G_tau_1 = naive_inverse_Giv_forloop(num_tau,ω_n,U,T,τs)\n",
    "G_tau_2 = naive_inverse_Giv_matprod(τs,ω_n,U,T)\n",
    "plt.figure()\n",
    "plt.plot(τs,real.(G_tau_1),label=\"with for loop\",marker=\"o\")\n",
    "plt.plot(τs,real.(G_tau_2),label=\"with matrix product\")\n",
    "plt.xlim(0,10)\n",
    "plt.xlabel(\"τ\")\n",
    "plt.ylabel(\"G(τ)\")\n",
    "plt.legend(loc=\"upper right\")\n",
    "plt.savefig(\"check_exercise_3.pdf\")"
   ]
  },
  {
   "cell_type": "code",
   "execution_count": 225,
   "metadata": {},
   "outputs": [
    {
     "data": {
      "text/plain": [
       "BenchmarkTools.Trial: \n",
       "  memory estimate:  24.48 MiB\n",
       "  allocs estimate:  802001\n",
       "  --------------\n",
       "  minimum time:     45.966 ms (0.00% GC)\n",
       "  median time:      60.967 ms (0.00% GC)\n",
       "  mean time:        86.382 ms (5.87% GC)\n",
       "  maximum time:     482.338 ms (4.43% GC)\n",
       "  --------------\n",
       "  samples:          59\n",
       "  evals/sample:     1"
      ]
     },
     "metadata": {},
     "output_type": "display_data"
    }
   ],
   "source": [
    "# Benchmark\n",
    "@benchmark naive_inverse_Giv_forloop(num_tau,ω_n,U,T,τs)"
   ]
  },
  {
   "cell_type": "code",
   "execution_count": 226,
   "metadata": {},
   "outputs": [
    {
     "data": {
      "text/plain": [
       "BenchmarkTools.Trial: \n",
       "  memory estimate:  12.28 MiB\n",
       "  allocs estimate:  8\n",
       "  --------------\n",
       "  minimum time:     9.305 ms (0.00% GC)\n",
       "  median time:      11.661 ms (0.00% GC)\n",
       "  mean time:        17.008 ms (10.94% GC)\n",
       "  maximum time:     173.700 ms (0.00% GC)\n",
       "  --------------\n",
       "  samples:          294\n",
       "  evals/sample:     1"
      ]
     },
     "metadata": {},
     "output_type": "display_data"
    }
   ],
   "source": [
    "@benchmark naive_inverse_Giv_matprod(τs,ω_n,U,T)"
   ]
  },
  {
   "cell_type": "markdown",
   "metadata": {},
   "source": [
    "# Exercise 4"
   ]
  },
  {
   "cell_type": "code",
   "execution_count": 227,
   "metadata": {},
   "outputs": [],
   "source": [
    "using Interpolations,Dierckx"
   ]
  },
  {
   "cell_type": "code",
   "execution_count": 228,
   "metadata": {},
   "outputs": [],
   "source": [
    "# linear and cubic spline interpolations of G(τ)\n",
    "U = 1.\n",
    "β = 300.\n",
    "num_tau = 100\n",
    "\n",
    "τs = collect(range(0.0,β,length=num_tau))\n",
    "G_tau_abs = abs.(G.(τs,U,β))\n",
    "τs_new = collect(range(0,β,length=10*num_tau))\n",
    "\n",
    "# Linear interpolation\n",
    "G_tau_linear = LinearInterpolation(τs,G_tau_abs)(τs_new)\n",
    "\n",
    "# Cubic spline interpolation\n",
    "G_tau_cubic_spline = Spline1D(τs,G_tau_abs)(τs_new)\n",
    "\n",
    "plt.figure()\n",
    "plt.plot(τs,G_tau_abs,marker=\"o\",label=\"Data points\",color=\"black\")\n",
    "plt.plot(τs_new,abs.(G.(τs_new,U,β)),label=\"Exact\",color=\"black\")\n",
    "plt.plot(τs_new,G_tau_linear,ls=\"--\",label=\"Linear\",color=\"red\")\n",
    "plt.plot(τs_new,G_tau_cubic_spline,ls=\"-.\",label=\"Cubic spline\",color=\"blue\")\n",
    "plt.xlabel(\"τ\")\n",
    "plt.ylabel(\"|G(τ)|\")\n",
    "plt.xlim(0,20)\n",
    "plt.legend(loc=\"upper right\")\n",
    "plt.tight_layout()\n",
    "plt.savefig(\"Exercise_4_1.pdf\")"
   ]
  },
  {
   "cell_type": "code",
   "execution_count": 229,
   "metadata": {},
   "outputs": [],
   "source": [
    "plt.figure()\n",
    "plt.semilogy(τs_new,abs.(G_tau_linear       - G.(τs_new,U,β)), ls=\"--\",label=\"Linear\",      color=\"red\")\n",
    "plt.semilogy(τs_new,abs.(G_tau_cubic_spline - G.(τs_new,U,β)), ls=\"-.\",label=\"Cubic spline\",color=\"blue\")\n",
    "plt.xlabel(\"τ\")\n",
    "plt.ylabel(\"Absolute Error\")\n",
    "plt.xlim(0,20)\n",
    "plt.ylim(1e-5,1)\n",
    "plt.legend(loc=\"upper right\")\n",
    "plt.tight_layout()\n",
    "plt.savefig(\"Exercise_4_2.pdf\")"
   ]
  },
  {
   "cell_type": "markdown",
   "metadata": {},
   "source": [
    "# Exercise 4.5\n",
    "Implement Fourier transform using Gauss quadrature.\n",
    "$$\n",
    "G(i\\nu) = \\int_0^{\\beta}\\mathrm{d}\\tau e^{i\\nu_n\\tau}G(\\tau) \\sim \\sum_{i=1}^n \\tilde{\\omega_i}e^{i\\nu\\tau_i}G(\\tau_i)\n",
    "$$\n",
    "where $\\tau_i = (x_i+1)\\beta/2$ and $\\tilde{\\omega_i} = \\beta\\omega_i/2$"
   ]
  },
  {
   "cell_type": "code",
   "execution_count": 230,
   "metadata": {},
   "outputs": [],
   "source": [
    "using FastGaussQuadrature,SpecialPolynomials"
   ]
  },
  {
   "cell_type": "code",
   "execution_count": 231,
   "metadata": {},
   "outputs": [],
   "source": [
    "U = 1.\n",
    "β = 300.\n",
    "deg = 1000\n",
    "x, w = gausslegendre(deg)\n",
    "τs_leggauss = (x .+ 1)*β/2\n",
    "ws_leggauss = (β/2) * w\n",
    "\n",
    "ω_max = 2000\n",
    "ω_n = [(2i+1)*π/β for i in -ω_max:ω_max][1:20:end]\n",
    "G_tau = G.(τs_leggauss,U,β)\n",
    "exp_iomega_tau = exp.((im .* ω_n) * transpose(τs_leggauss))\n",
    "\n",
    "G_iν_leggauss = exp_iomega_tau * (ws_leggauss .* G_tau)\n",
    "G_iν_exact    = G.(im .* ω_n,U)\n",
    " \n",
    "plt.figure()\n",
    "plt.plot(ω_n,imag.(G_iν_leggauss),ls=\"-\",marker=\"x\",label=\"Gauss-Legendre\")\n",
    "plt.plot(ω_n,imag.(G_iν_exact),   ls=\"-\",marker=\"o\",label=\"Exact\")\n",
    "plt.xlim(-40,40)\n",
    "plt.ylim(-1,1)\n",
    "plt.xlabel(\"ν\")\n",
    "plt.ylabel(\"Im G(iν)\")\n",
    "plt.legend(loc=\"upper right\")\n",
    "plt.savefig(\"Exercise_4.5_1.pdf\")"
   ]
  },
  {
   "cell_type": "code",
   "execution_count": 232,
   "metadata": {},
   "outputs": [],
   "source": [
    "plt.figure()\n",
    "plt.semilogy(ω_n,abs.(G_iν_leggauss .- G_iν_exact),ls=\"-\",label=\"Absolute Error\")\n",
    "plt.semilogy(ω_n,abs.((G_iν_leggauss .- G_iν_exact) ./ G_iν_exact),ls=\"--\",label=\"Relative Error\")\n",
    "plt.xlabel(\"ν\")\n",
    "plt.ylabel(\"Error\")\n",
    "plt.legend(loc=\"upper center\")\n",
    "plt.savefig(\"Exercise_4.5_2.pdf\")\n"
   ]
  },
  {
   "cell_type": "markdown",
   "metadata": {},
   "source": [
    "# Exercise 5\n"
   ]
  },
  {
   "cell_type": "markdown",
   "metadata": {},
   "source": [
    "# Exercise 6\n",
    "Implement following equations for the Hubbard atom \n",
    "$$\n",
    "\\tilde{G}(i\\nu) = G(i\\nu) - \\frac{c^0}{i\\nu}, \n",
    "$$\n",
    "$$\n",
    "G(\\tau) \\sim \\sum_{n=-n_{\\mathrm{max}}}^{n_{\\mathrm{max}}}e^{i\\nu_n\\tau}\\tilde{G}(i\\nu) - \\frac{c^0}{2}\n",
    "$$\n",
    "and comform that the discontinuity at $\\tau = 0$ is correctly reproduced."
   ]
  },
  {
   "cell_type": "code",
   "execution_count": 233,
   "metadata": {},
   "outputs": [],
   "source": [
    "# 行列積での計算\n",
    "#ω_n = (2n+1)πT\n",
    "U = 1.\n",
    "β = 300.\n",
    "T = 1/β\n",
    "num_tau = 1000\n",
    "τs = collect(range(0,β,length=num_tau))\n",
    "num_omega = 200\n",
    "ω_n = [(2n+1)*π*T for n in -num_omega:num_omega]\n",
    "\n",
    "function trickey_inverse_Giv_matprod(τs,ω_n,U,T)\n",
    "\tG_iν_tilde = G.(im .* ω_n,U) .- (1 ./ (im .* ω_n))\n",
    "    exp_tau_iomega = exp.(τs * transpose(-im .* ω_n))\n",
    "    G_tau = T .* (exp_tau_iomega * G_iν_tilde) .- 1/2\n",
    "end\n",
    "\n",
    "G_tau = trickey_inverse_Giv_matprod(τs,ω_n,U,T)\n",
    "plt.figure()\n",
    "plt.plot(τs,real.(G_tau),marker=\"o\",label=\"tricky inverse of G(iν)\")\n",
    "plt.plot(τs,G.(τs,U,β),label=\"Exact\")\n",
    "plt.xlim(-0.5,10)\n",
    "plt.xlabel(\"τ\")\n",
    "plt.ylabel(\"G(τ)\")\n",
    "plt.title(\"trickey inverse transform of G(iν) for the Hubbard atom with U=1 and β=300\")\n",
    "plt.legend(loc=\"upper left\")\n",
    "plt.savefig(\"Exercise_6.pdf\")"
   ]
  },
  {
   "cell_type": "markdown",
   "metadata": {},
   "source": [
    "# Exercise 7\n",
    "Compute expansion coefficients of the Green’s function of the Hubbard atom for lower temperatures. Check how the number of basis functions scales with respect to $\\beta$.\n",
    "For $0<\\tau<\\beta$,\n",
    "$$\n",
    "G(\\tau) = \\sum_{l=0}^{\\infty}\\frac{\\sqrt{2l+1}}{\\beta}P_l(x(\\tau))G_l\n",
    "$$\n",
    "$$\n",
    "G_l = \\sqrt{2l+1}\\int_0^{\\beta}\\mathrm{d}\\tau P_l(x(\\tau))G(\\tau)\n",
    "$$"
   ]
  },
  {
   "cell_type": "code",
   "execution_count": 234,
   "metadata": {},
   "outputs": [],
   "source": [
    "deg = 100\n",
    "lvec = [(i-1) for i in 1:deg]\n",
    "P_l  = [SpecialPolynomials.basis(Legendre,l-1) for l in 1:deg]\n",
    "xs = collect(range(-1,1,length=1000))\n",
    "plt.figure()\n",
    "for l in 1:3\n",
    "    plt.plot(xs,P_l[l].(xs),label=\"l=$(l-1)\")\n",
    "end\n",
    "plt.legend(loc=\"upper right\")\n",
    "plt.savefig(\"check_legendre_basis.pdf\")"
   ]
  },
  {
   "cell_type": "code",
   "execution_count": 235,
   "metadata": {},
   "outputs": [
    {
     "name": "stdout",
     "output_type": "stream",
     "text": [
      "Legendre{Float64,:x,1}\n",
      "(1,)\n"
     ]
    }
   ],
   "source": [
    "println(typeof(P_l[1]))\n",
    "println(size(P_l[1]))\n",
    "legg_val = zeros(Float64,length(x),deg)\n",
    "for l in 1:deg\n",
    "    legg_val[:,l] = P_l[l].(xs)\n",
    "end\n",
    "legg_val\n",
    "plt.figure()\n",
    "for l in 1:3\n",
    "    plt.plot(xs,legg_val[:,l],label=\"l=$(l-1)\")\n",
    "end\n",
    "plt.xlabel(\"x\")\n",
    "plt.ylabel(\"P_l(x)\")\n",
    "plt.legend(loc=\"upper right\")\n",
    "plt.savefig(\"check_legendre_basis2.pdf\")\n"
   ]
  },
  {
   "cell_type": "code",
   "execution_count": 236,
   "metadata": {},
   "outputs": [],
   "source": [
    "using OMEinsum,Einsum"
   ]
  },
  {
   "cell_type": "code",
   "execution_count": 237,
   "metadata": {},
   "outputs": [],
   "source": [
    "U = 1.\n",
    "β = 300.\n",
    "# set Gauss-Legendre quadrature\n",
    "deg = 100\n",
    "x, w = gausslegendre(deg)\n",
    "τs_leggauss = (x .+ 1)*β/2\n",
    "ws_leggauss = (β/2) * w\n",
    "\n",
    "lvec = [(l-1) for l in 1:deg]\n",
    "P_l  = [SpecialPolynomials.basis(Legendre,l-1) for l in 1:deg]\n",
    "legg_val = zeros(Float64,deg,deg)\n",
    "for l in 1:deg\n",
    "    legg_val[:,l] = P_l[l].(x)\n",
    "end\n",
    "\n",
    "G_tau = G.(τs_leggauss,U,β)\n",
    "\n",
    "G_l = zeros(Complex,deg)\n",
    "@einsum G_l[l] = sqrt(2*lvec[l]+1) * legg_val[t,l] * G_tau[t] * ws_leggauss[t]\n",
    "\n",
    "plt.figure()\n",
    "plt.semilogy(lvec,abs.(G_l),ls=\" \",marker=\"x\")\n",
    "plt.xlabel(\"l\")\n",
    "plt.ylabel(\"|G_l|\")\n",
    "plt.savefig(\"Exercise_7.pdf\")"
   ]
  },
  {
   "cell_type": "markdown",
   "metadata": {},
   "source": [
    "# Exercise 7.5\n",
    "reconstruct $G(i\\nu)$ from the expansion coefficients in the Legendre basis for the Hubbard atom with $U=1$ and $\\beta = 300.$\n",
    "We obtain Matsubara Green' function given by\n",
    "$$\n",
    "G(i\\nu) = \\sum_{l=0}^{\\infty}T_{nl}G_l,\n",
    "$$\n",
    "where \n",
    "$$\n",
    "T_{nl} = \\frac{\\sqrt{2l+1}}{\\beta}\\int_0^{\\beta}\\mathrm{d}\\tau e^{i\\nu\\tau}P_l(x(\\tau)) \n",
    "       = (-1)^ni^{l+1}\\sqrt{2l+1}j_l(n\\pi/2)\n",
    "$$"
   ]
  },
  {
   "cell_type": "code",
   "execution_count": 238,
   "metadata": {},
   "outputs": [],
   "source": [
    "using SpecialFunctions"
   ]
  },
  {
   "cell_type": "code",
   "execution_count": 239,
   "metadata": {},
   "outputs": [],
   "source": [
    "U = 1.\n",
    "β = 300.\n",
    "T = 1/β\n",
    "# set Gauss-Legendre quadrature\n",
    "deg = 100\n",
    "x, w = gausslegendre(deg)\n",
    "τs_leggauss = (x .+ 1)*β/2\n",
    "ws_leggauss = (β/2) * w\n",
    "\n",
    "lvec = [(l-1) for l in 1:deg]\n",
    "P_l  = [SpecialPolynomials.basis(Legendre,l-1) for l in 1:deg]\n",
    "legg_val = zeros(Float64,deg,deg)\n",
    "for l in 1:deg\n",
    "    legg_val[:,l] = P_l[l].(x)\n",
    "end\n",
    "\n",
    "n_max = 2000\n",
    "step_ν = 20\n",
    "νs = [(2n+1)*π*T for n in -n_max:step_ν:n_max]\n",
    "T_nl = zeros(Complex,length(νs),deg)\n",
    "\n",
    "for i_l in 1:deg\n",
    "    i_l = lvec[i_l]\n",
    "    for j_n in 1:length(νs)\n",
    "        j_ν = νs[j_n]\n",
    "        T_nl[j_n,i_l+1] = (-1)^(((1 + step_ν*(j_n-1)))-(n_max+1)) * im^(i_l+1) * sqrt(2*i_l+1) * sphericalbesselj(i_l,abs(j_ν / (π*T)) * π/2)\n",
    "    end\n",
    "end\n",
    "\n",
    "G_iν_reconst =  T_nl * G_l\n",
    "\n",
    "# Exact\n",
    "G_iν_exact = G.(im .* νs,U)\n",
    "\n",
    "plt.figure()\n",
    "plt.plot(νs,imag.(G_iν_reconst),ls=\"-\",marker=\"x\",label=\"Reconstructed\")\n",
    "plt.plot(νs,imag.(G_iν_exact)  ,ls=\"-\",marker=\"o\",label=\"Exact\")\n",
    "plt.xlabel(\"ν\")\n",
    "plt.ylabel(\"Im G(iν)\")\n",
    "plt.xlim(-40,40)\n",
    "plt.ylim(-1,1)\n",
    "plt.legend(loc=\"upper right\")\n",
    "plt.savefig(\"Exercise_7.5_1.pdf\")"
   ]
  },
  {
   "cell_type": "code",
   "execution_count": 240,
   "metadata": {},
   "outputs": [],
   "source": [
    "plt.figure()\n",
    "plt.semilogy(νs,abs.(G_iν_reconst .- G_iν_exact),label=\"Absolute error\")\n",
    "plt.semilogy(νs,abs.((G_iν_reconst .- G_iν_exact) ./ G_iν_exact),ls=\"-\",label=\"Relative error\")\n",
    "plt.xlabel(\"ν\")\n",
    "plt.ylabel(\"Error\")\n",
    "plt.xlim(-40,40)\n",
    "plt.legend(loc=\"upper right\")\n",
    "plt.savefig(\"Exercise_7.5_2.pdf\")"
   ]
  },
  {
   "cell_type": "markdown",
   "metadata": {},
   "source": [
    "# Exercise 8\n",
    "$$\n",
    "G(\\tau) = - \\int_{}^{}\\mathrm{d}\\omega K^{\\mathrm{F}}(\\tau,\\omega)\\rho(\\omega),\n",
    "$$\n",
    "where\n",
    "$$\n",
    "K^{\\mathrm{F}}(\\tau,\\omega) = \\frac{e^{-\\tau\\omega}}{1+e^{-\\beta\\omega}},\n",
    "$$\n",
    "$$\n",
    "G(\\tau_i) = -\\frac{2\\omega_{\\mathrm{max}}}{N_\\omega} \\sum_j K(\\tau_i,\\omega_j)\\rho(\\omega_j).\n",
    "$$"
   ]
  },
  {
   "cell_type": "code",
   "execution_count": 241,
   "metadata": {},
   "outputs": [],
   "source": [
    "function gaussian(x,μ,σ)\n",
    "    (1/(sqrt(2π)*σ)) * exp(-((x-μ)/σ)^2)\n",
    "end\n",
    "\n",
    "ρ = ω -> 0.2 * gaussian(ω,0.0,0.15) + 0.4 * gaussian(ω,1.0,0.8) + 0.4 * gaussian(ω,-1.0,0.8)\n",
    "ωs = collect(range(-2.5,2.5,length=1000))\n",
    "plt.figure()\n",
    "plt.plot(ωs,ρ.(ωs))\n",
    "plt.xlabel(\"ω\")\n",
    "plt.ylabel(\"ρ(ω)\")\n",
    "plt.savefig(\"check_spectural_function.pdf\")"
   ]
  },
  {
   "cell_type": "code",
   "execution_count": 242,
   "metadata": {},
   "outputs": [],
   "source": [
    "function kernel_f(τ,ω,β)\n",
    "    exp(-τ*ω) / (1+exp(-β*ω))\n",
    "end\n",
    "\n",
    "β = 10.0\n",
    "ω_max = 10.0\n",
    "N_ω = 1000\n",
    "N_τ = 1000\n",
    "ωs = collect(range(-ω_max,ω_max,length=N_ω))\n",
    "τs = collect(range(0,β,length=N_τ))\n",
    "K_tau_omega = zeros(Float64,N_τ,N_ω)\n",
    "for j_ω in 1:N_ω\n",
    "    for i_τ in 1:N_τ\n",
    "        K_tau_omega[i_τ,j_ω] = kernel_f(τs[i_τ],ωs[j_ω],β)\n",
    "    end\n",
    "end\n",
    "\n",
    "ρ_ω = ρ.(ωs)\n",
    "G_tau = zeros(Float64,N_τ)\n",
    "@einsum G_tau[i] = - (2ω_max/N_ω) * K_tau_omega[i,j] * ρ_ω[j]\n",
    "\n",
    "plt.figure()\n",
    "plt.plot(τs,G_tau)\n",
    "plt.xlabel(\"τ\")\n",
    "plt.ylabel(\"G(τ)\")\n",
    "plt.ylim(-0.6,0)\n",
    "plt.grid()\n",
    "plt.savefig(\"check_g_tau.pdf\")\n"
   ]
  },
  {
   "cell_type": "markdown",
   "metadata": {},
   "source": [
    "Reconstruct $\\rho(\\omega)$\n",
    "$$\n",
    "\\rho(\\omega_j) = -\\sum_i(K^{-1})_{ji}G(\\tau_i)\n",
    "$$\n",
    "where $K^{-1}$ is inverse matrix of $K$ given by\n",
    "$$\n",
    "(K)_{ij} = \\frac{2\\omega_{\\mathrm{max}}}{N_{\\omega}}K(\\tau_i,\\omega_i).\n",
    "$$"
   ]
  },
  {
   "cell_type": "code",
   "execution_count": 243,
   "metadata": {},
   "outputs": [],
   "source": [
    "ρ_ω_reconst =  zeros(Float64,N_ω)\n",
    "K_ij = (2ω_max/N_ω) .* K_tau_omega\n",
    "K_inv = pinv(K_ij,rtol=1e-3)\n",
    "@einsum ρ_ω_reconst[j] =  - K_inv[j,i] * G_tau[i]\n",
    "\n",
    "plt.figure()\n",
    "plt.plot(ωs,ρ.(ωs),label=\"Original\")\n",
    "plt.plot(ωs,ρ_ω_reconst,label=\"Reconstructed\")\n",
    "plt.xlabel(\"ω\")\n",
    "plt.ylabel(\"ρ(ω)\")\n",
    "plt.grid()\n",
    "plt.legend(loc=\"upper right\")\n",
    "plt.savefig(\"check_reconstructed_rho.pdf\")\n",
    "\n",
    "#G_tau_reconst = zeros(Float64,N_τ)\n",
    "#@einsum G_tau_reconst[i] = - K_ij[i,j] * ρ_ω_reconst[j]\n",
    "G_tau_reconst = - K_ij * ρ_ω_reconst\n",
    "plt.figure()\n",
    "plt.semilogy(τs,-G_tau,label=\"Original\")\n",
    "plt.semilogy(τs[1:10:end],-G_tau_reconst[1:10:end],label=\"Reconstructed\",ls=\"-\",marker=\"x\")\n",
    "plt.semilogy(τs,abs.(G_tau .- G_tau_reconst),label=\"Difference\")\n",
    "plt.xlabel(\"τ\")\n",
    "plt.ylabel(\"G(τ)\")\n",
    "plt.grid()\n",
    "plt.legend(loc=\"center\")\n",
    "plt.savefig(\"check_reconstructed_gtau.pdf\")"
   ]
  },
  {
   "cell_type": "code",
   "execution_count": 244,
   "metadata": {},
   "outputs": [],
   "source": [
    "plt.figure()\n",
    "plt.plot(τs,abs.(G_tau .- G_tau_reconst),ls=\"-\",marker=\"x\")\n",
    "plt.xlabel(\"τ\")\n",
    "plt.ylabel(\"Error in G(τ)\")\n",
    "plt.savefig(\"check_error_in_gtau.pdf\")"
   ]
  },
  {
   "cell_type": "markdown",
   "metadata": {},
   "source": [
    "we use singular value decompositon of K\n",
    "$$\n",
    "\\bm{K} = \\bm{U}\\bm{S}\\bm{V^{\\dagger}}.\n",
    "$$\n",
    "where $\\bm{U},\\bm{V}$ are matrices consisteng of singular vectors and $\\bm{S}$ is diagonal matrix consisting of the corresponding singular values $s_i(\\ge0).$"
   ]
  },
  {
   "cell_type": "code",
   "execution_count": 245,
   "metadata": {},
   "outputs": [],
   "source": [
    "u,s,v = svd(K_ij)\n",
    "@assert K_ij ≈ u * Diagonal(s) * v' # ' operator denotes Hermite conjugate\n",
    "\n",
    "plt.figure()\n",
    "plt.semilogy(s[1:30],ls=\"\",marker=\"x\")\n",
    "plt.xlabel(\"i\")\n",
    "plt.ylabel(\"si\")\n",
    "plt.savefig(\"check_singular_values.pdf\")"
   ]
  },
  {
   "cell_type": "code",
   "execution_count": 246,
   "metadata": {},
   "outputs": [],
   "source": [
    "num_sv = 4\n",
    "plt.figure()\n",
    "for i in 1:num_sv\n",
    "    plt.plot(τs,u[:,i],label=\"i = $(i)\")\n",
    "end\n",
    "plt.xlabel(\"τ\")\n",
    "plt.ylabel(\"u_i\")\n",
    "plt.tight_layout()\n",
    "plt.legend(loc=\"upper right\")\n",
    "plt.savefig(\"check_u.pdf\")\n",
    "\n",
    "plt.figure()\n",
    "for i in 1:num_sv\n",
    "    plt.plot(ωs,v[:,i],label=\"i = $(i)\")\n",
    "end\n",
    "plt.xlabel(\"ω\")\n",
    "plt.ylabel(\"v_i\")\n",
    "plt.legend(loc=\"upper right\")\n",
    "plt.tight_layout()\n",
    "plt.savefig(\"check_v.pdf\")\n",
    "\n"
   ]
  },
  {
   "cell_type": "markdown",
   "metadata": {},
   "source": [
    "We obtain original and reconstructed $G(\\tau)$/$\\rho(\\omega)$ projected onto $u_i$/$v_i$\n",
    "$$\n",
    "g_i = u_i^{\\dagger}\\bm{g} ,\\ \\rho_i = v_i^{\\dagger}\\bm{\\rho},\n",
    "$$"
   ]
  },
  {
   "cell_type": "code",
   "execution_count": 247,
   "metadata": {},
   "outputs": [],
   "source": [
    "g_i_original = u' * G_tau\n",
    "g_i_reconst  = u' * G_tau_reconst\n",
    "i = [i for i in 1:length(g_i_original)]\n",
    "plt.figure()\n",
    "plt.semilogy(i[1:2:end],abs.(g_i_original[1:2:end]),ls=\"\",marker=\"+\",label=\"Original\")\n",
    "plt.semilogy(i[1:2:end],abs.(g_i_reconst[1:2:end]), ls=\"\",marker=\"x\",label=\"Reconstructed\")\n",
    "plt.xlabel(\"i\")\n",
    "plt.ylabel(\"|g_i|\")\n",
    "plt.xlim(0,30)\n",
    "plt.ylim(1e-10,10)\n",
    "plt.savefig(\"check_g_i.pdf\")"
   ]
  },
  {
   "cell_type": "code",
   "execution_count": 248,
   "metadata": {},
   "outputs": [],
   "source": [
    "ρ_i_original = v' * ρ_ω\n",
    "ρ_i_reconst  = v' * ρ_ω_reconst\n",
    "i = [i for i in 1:length(ρ_i_original)]\n",
    "plt.figure()\n",
    "plt.semilogy(i[1:2:end],abs.(ρ_i_original[1:2:end]),ls=\"\",marker=\"+\",label=\"Original\")\n",
    "plt.semilogy(i[1:2:end],abs.(ρ_i_reconst[1:2:end]), ls=\"\",marker=\"x\",label=\"Reconstructed\")\n",
    "plt.xlabel(\"i\")\n",
    "plt.ylabel(\"|ρ_i|\")\n",
    "plt.xlim(0,30)\n",
    "plt.ylim(1e-3,10)\n",
    "plt.savefig(\"check_rho_i.pdf\")"
   ]
  },
  {
   "cell_type": "markdown",
   "metadata": {},
   "source": [
    "# Exercise 9\n",
    "We expand some spectral functions $\\rho(\\omega)$ in $V_l(\\omega)$ using\n",
    "$$\n",
    "\\rho_l = \\int_{\\omega_{\\mathrm{max}}}^{\\omega_{\\mathrm{max}}}\\mathrm{d}\\omega V_l(\\omega)\\rho(\\omega),\n",
    "$$\n",
    "and compute the expansion coefficients of $G(\\tau)$ using\n",
    "$$\n",
    "G_l = - S_l \\rho_l.\n",
    "$$\n",
    "Then evaluate $G(\\tau)$ on a uniform $\\tau$ mesh."
   ]
  },
  {
   "cell_type": "code",
   "execution_count": 249,
   "metadata": {},
   "outputs": [
    {
     "data": {
      "text/plain": [
       "PyObject <module 'irbasis3' from '/Users/humiyakakizawa/.pyenv/versions/3.9.0/lib/python3.9/site-packages/irbasis3/__init__.py'>"
      ]
     },
     "metadata": {},
     "output_type": "display_data"
    }
   ],
   "source": [
    "using PyCall \n",
    "irbasis3 = pyimport(\"irbasis3\")"
   ]
  },
  {
   "cell_type": "code",
   "execution_count": 250,
   "metadata": {},
   "outputs": [
    {
     "data": {
      "text/plain": [
       "PyObject <irbasis3.basis.FiniteTempBasis object at 0x17936b490>"
      ]
     },
     "metadata": {},
     "output_type": "display_data"
    }
   ],
   "source": [
    "lambda_ = 100\n",
    "beta = 10\n",
    "K = irbasis3.KernelFFlat(lambda_=lambda_)\n",
    "basis = irbasis3.FiniteTempBasis(K,statistics=\"F\",beta=beta,eps=1e-10)"
   ]
  },
  {
   "cell_type": "code",
   "execution_count": 251,
   "metadata": {},
   "outputs": [],
   "source": [
    "# check S,U,V\n",
    "plt.figure()\n",
    "plt.semilogy(basis.s,ls=\"\",marker=\"o\")\n",
    "plt.xlabel(\"l\")\n",
    "plt.ylabel(\"S_l\")\n",
    "plt.savefig(\"check_irbasis_s.pdf\")\n",
    "\n",
    "N_τ = 1000\n",
    "τs = collect(range(0,beta,length=N_τ))\n",
    "max_l = 4\n",
    "plt.figure()\n",
    "for l in 1:max_l\n",
    "    plt.plot(τs,basis.u[l].(τs),label=\"l = $(l)\")\n",
    "end\n",
    "plt.xlabel(\"τ\")\n",
    "plt.ylabel(\"U_l(τ)\")\n",
    "plt.legend(loc=\"upper right\")\n",
    "plt.savefig(\"check_irbasis_u_1.pdf\")\n",
    "\n",
    "\n",
    "N_ω = 1000\n",
    "ω_max = 10\n",
    "ωs = collect(range(-ω_max,ω_max,length=N_ω))\n",
    "max_l = 4\n",
    "plt.figure()\n",
    "for l in 1:max_l\n",
    "    plt.plot(ωs,basis.v[l].(ωs),label=\"l = $(l)\")\n",
    "end\n",
    "plt.xlabel(\"ω\")\n",
    "plt.ylabel(\"V_l(τ)\")\n",
    "plt.legend(loc=\"upper right\")\n",
    "plt.savefig(\"check_irbasis_v.pdf\")\n"
   ]
  },
  {
   "cell_type": "code",
   "execution_count": 252,
   "metadata": {},
   "outputs": [
    {
     "ename": "PyCall.PyJlError",
     "evalue": "PyCall.PyJlError(MethodError(-, ([-9.999789856040653, -9.998894919128139, -9.997293631124608, -9.99500058323833, -9.992037140805982, -9.988430962065898, -9.984215713370574, -9.979430749890506, -9.974120746842072, -9.968335281925054, -9.962128372256252, -9.955557969950235, -9.948685420999437, -9.941574892484065, -9.93429277345069, -9.926907055049195, -9.919486695713491, -9.912100977311997, -9.904818858278622, -9.89770832976325, -9.890835780812452, -9.884265378506434, -9.878058468837633, -9.872273003920615, -9.86696300087218, -9.862178037392113, -9.857962788696788, -9.854356609956705, -9.851393167524357, -9.849100119638079, -9.847498831634548, -9.846603894722033, -9.845936484130197, -9.843989129614062, -9.840504777385764, -9.835515177454624, -9.829066820119891, -9.821219888836476, -9.81204764052636, -9.801635710800202, -9.790081311520808, -9.777492322200393, -9.763986282382657, -9.749689294042447, -9.734734844125873, -9.719262558177123, -9.703416896669173, -9.687345806201314, -9.671199338152384, -9.655128247684525, -9.639282586176575, -9.623810300227825, -9.608855850311251, -9.594558861971041, -9.581052822153305, -9.56846383283289, -9.556909433553496, -9.546497503827338, -9.537325255517223, -9.529478324233807, -9.523029966899074, -9.518040366967934, -9.514556014739636, -9.512608660223501, -9.511482465216146, -9.508633710027787, -9.503536504354042, -9.496237294798771, -9.486804091310907, -9.475324935347722, -9.461906993341856, -9.446675540320605, -9.429772786033794, -9.411356545772666, -9.391598766341048, -9.370683920392546, -9.348807283942469, -9.326173113067531, -9.30299273678795, -9.27948258392489, -9.255862162349386, -9.232352009486327, -9.209171633206745, -9.186537462331808, -9.16466082588173, -9.143745979933229, -9.12398820050161, -9.105571960240482, -9.088669205953671, -9.07343775293242, -9.060019810926555, -9.04854065496337, -9.039107451475505, -9.031808241920235, -9.026711036246489, -9.02386228105813, -9.022367264774783, -9.018849216649224, -9.012554462035215, -9.003540359805967, -8.991890898320436, -8.977714803693459, -8.961144420279862, -8.942334455503001, -8.92146053019047, -8.898717537112217, -8.874317820640043, -8.848489193846792, -8.821472811333052, -8.793520917556599, -8.764894491651924, -8.735860810713158, -8.70669095428318, -8.677657273344414, -8.64903084743974, -8.621078953663286, -8.594062571149546, -8.568233944356296, -8.54383422788412, -8.521091234805867, -8.500217309493337, -8.481407344716477, -8.464836961302879, -8.450660866675902, -8.43901140519037, -8.429997302961123, -8.423702548347114, -8.420184500221556, -8.418433530527446, -8.414494750406247, -8.407447190663854, -8.397355069861673, -8.384312420732309, -8.368440972213078, -8.34988889604449, -8.328829401489738, -8.305459112301516, -8.279996228953674, -8.252678490601747, -8.223760955042174, -8.19351361714513, -8.162218887901174, -8.130168957578972, -8.097663067595247, -8.065004716559647, -8.032498826575923, -8.00044889625372, -7.969154167009763, -7.938906829112721, -7.909989293553148, -7.882671555201221, -7.857208671853379, -7.8338383826651565, -7.8127788881104046, -7.794226811941817, -7.778355363422586, -7.765312714293221, -7.75522059349104, -7.748173033748648, -7.744234253627448, -7.742339646466707, -7.738209891626816, -7.730820625645983, -7.720239180770892, -7.706564148981966, -7.689923161335664, -7.670471573790858, -7.648390993792232, -7.6238875785431155, -7.597190108131563, -7.568547848675, -7.538228224639094, -7.506514321798512, -7.473702244053245, -7.4400983487370524, -7.406016386211972, -7.371774570446165, -7.337692607921085, -7.304088712604893, -7.271276634859625, -7.239562732019043, -7.209243107983137, -7.180600848526574, -7.153903378115022, -7.1293999628659055, -7.107319382867279, -7.087867795322473, -7.0712268076761715, -7.057551775887245, -7.0469703310121545, -7.039581065031321, -7.03545131019143, -7.033511583480651, -7.029380653411723, -7.021989284623267, -7.011404828523113, -6.997725905148589, -6.98108018187689, -6.9616230588774615, -6.939536195276102, -6.915025806943534, -6.888320739073129, -6.85967032871746, -6.829342076444777, -6.797619148589159, -6.764797733314651, -6.7311842751369575, -6.697092613703931, -6.6628410535397835, -6.628749392106757, -6.595135933929063, -6.5623145186545555, -6.530591590798937, -6.5002633385262545, -6.471612928170585, -6.44490786030018, -6.420397471967612, -6.398310608366253, -6.378853485366824, -6.362207762095125, -6.348528838720601, -6.337944382620448, -6.330553013831992, -6.326422083763063, -6.324515058377541, -6.320524568178666, -6.313384484900941, -6.303159870195942, -6.2899459913002955, -6.2738661752635805, -6.255070539091586, -6.233734566016646, -6.210057461156551, -6.184260289619151, -6.1565839117065835, -6.127286733728804, -6.096642295170126, -6.064936714639661, -6.032466018411393, -5.999533376478009, -5.96644627191546, -5.933513629982077, -5.901042933753809, -5.869337353223344, -5.838692914664666, -5.809395736686886, -5.7817193587743185, -5.755922187236918, -5.732245082376823, -5.710909109301883, -5.692113473129889, -5.676033657093174, -5.662819778197528, -5.652595163492529, -5.645455080214804, -5.641464590015929, -5.639645734026351, -5.635890289635095, -5.629170767881607, -5.619548398189419, -5.607112836413234, -5.59198014545599, -5.574291600208571, -5.55421234767994, -5.531929859510176, -5.507652179743495, -5.481605981652018, -5.454034451029726, -5.42519501547848, -5.395356940795781, -5.364798816867809, -5.333805956523788, -5.3026677316291835, -5.271674871285162, -5.24111674735719, -5.211278672674491, -5.182439237123246, -5.154867706500953, -5.128821508409477, -5.104543828642796, -5.082261340473032, -5.0621820879444, -5.044493542696982, -5.029360851739738, -5.016925289963552, -5.007302920271364, -5.000583398517876, -4.996827954126621, -4.995132590483476, -4.991668015279151, -4.985468938411906, -4.976591846923071, -4.965119452582219, -4.95115882891082, -4.934840308682565, -4.916316247829989, -4.89575959781451, -4.8733622891140955, -4.849333438551219, -4.823897396531341, -4.7972916522017925, -4.7697646160057054, -4.74157330029935, -4.712980919672162, -4.684254433366641, -4.655662052739454, -4.627470737033098, -4.599943700837011, -4.573337956507463, -4.547901914487585, -4.523873063924708, -4.501475755224294, -4.480919105208815, -4.462395044356239, -4.446076524127983, -4.432115900456584, -4.4206435061157325, -4.411766414626897, -4.405567337759653, -4.4021027625553275, -4.400549932536612, -4.397401493943536, -4.391768072326389, -4.383701000379785, -4.373275442564608, -4.360588702125097, -4.345759219190397, -4.328925447472605, -4.31024455690562, -4.289890964636825, -4.268054705933316, -4.244939659606568, -4.220761644322015, -4.195746403491175, -4.170127497528716, -4.14414412313922, -4.118038879987086, -4.092055505597591, -4.066436599635131, -4.041421358804292, -4.0172433435197386, -3.9941282971929915, -3.9722920384894818, -3.951938446220686, -3.933257555653702, -3.9164237839359095, -3.9015943010012095, -3.888907560561699, -3.878482002746521, -3.8704149307999174, -3.8647815091827704, -3.861633070589695, -3.8602295352289007, -3.857400758934189, -3.8523393009900033, -3.8450912822608228, -3.8357242357281116, -3.8243255853966813, -3.811001746119405, -3.795877114344591, -3.7790929024764575, -3.760805819015841, -3.7411866048690148, -3.720418438945729, -3.6986952277512843, -3.6762197948734077, -3.6532019872393504, -3.629856715811386, -3.6064019490076586, -3.583056677579694, -3.560038869945637, -3.53756343706776, -3.5158402258733155, -3.49507205995003, -3.4754528458032037, -3.457165762342587, -3.4403815504744535, -3.4252569186996396, -3.4119330794223632, -3.400534429090933, -3.391167382558222, -3.3839193638290412, -3.3788579058848556, -3.376029129590144, -3.3747732331239675, -3.3722535420662765, -3.3677451225264616, -3.3612890559891273, -3.3529454964685073, -3.342792315616581, -3.3309243009051226, -3.317452256648704, -3.302501965728355, -3.2862130139462358, -3.2687374862641434, -3.2502385466133235, -3.2308889143736517, -3.2108692516855886, -3.1903664766264206, -3.1695720179884663, -3.148680027948087, -3.127885569310133, -3.107382794250965, -3.0873631315629018, -3.06801349932323, -3.04951455967241, -3.0320390319903177, -3.0157500802081985, -3.0007997892878495, -2.987327745031431, -2.9754597303199724, -2.965306549468046, -2.956962989947426, -2.950506923410092, -2.945998503870277, -2.943478812812586, -2.9423635182469843, -2.9401335211471857, -2.9361434436859923, -2.9304296441269475, -2.9230453604560633, -2.9140595112645844, -2.9035559861176665, -2.8916328499345716, -2.878401424085056, -2.863985245910349, -2.848518914857751, -2.8321468355725687, -2.815021869539557, -2.7973039078088666, -2.7791583781098126, -2.760754700280746, -2.742264704431111, -2.7238610266020444, -2.7057154969029904, -2.6879975351723, -2.6708725691392883, -2.654500489854106, -2.639034158801508, -2.624617980626801, -2.6113865547772854, -2.5994634185941905, -2.5889598934472726, -2.5799740442557937, -2.5725897605849095, -2.5668759610258647, -2.5628858835646713, -2.5606558864648727, -2.5596711212397465, -2.557707313517078, -2.5541935219820826, -2.549161764900046, -2.542658925366951, -2.534745695327973, -2.525495950653138, -2.5149960504887363, -2.503344028041021, -2.4906486742966543, -2.477028521891442, -2.4626107382363482, -2.4475299381092532, -2.4319269267511596, -2.41594738518219, -2.3997405100030758, -2.3834576203773885, -2.367250745198274, -2.3512712036293046, -2.335668192271211, -2.320587392144116, -2.3061696084890224, -2.29254945608381, -2.2798541023394434, -2.268202079891728, -2.2577021797273265, -2.2484524350524913, -2.2405392050135133, -2.234036365480418, -2.2290046083983817, -2.2254908168633865, -2.2235270091407178, -2.2226613208932124, -2.2209384351233545, -2.2178557191507013, -2.2134412632067964, -2.2077361987211486, -2.200793771888628, -2.1926787954114837, -2.1834670338070477, -2.173244493466921, -2.162106618787543, -2.1501574006989483, -2.1375084055832287, -2.1242777335387517, -2.110588915674619, -2.096569760713453, -2.0823511616634334, -2.068065873697391, -2.0538472746473717, -2.0398281196862054, -2.026139301822073, -2.0129086297775958, -2.000259634661876, -1.9883104165732817, -1.9771725418939032, -1.9669500015537769, -1.957738239949341, -1.9496232634721964, -1.942680836639676, -1.936975772154028, -1.9325613162101232, -1.92947860023747, -1.9277557144676123, -1.9269972368940493, -1.9254900056526834, -1.922793154878517, -1.9189312587338663, -1.913940300205324, -1.9078668606332176, -1.900767640079372, -1.8927089195761735, -1.8837659400494258, -1.8740221990696833, -1.8635686709669392, -1.8525029572998792, -1.840928375514721, -1.8289529942659146, -1.8166886243902696, -1.8042497749484896, -1.791752584077787, -1.779313734636007, -1.767049364760362, -1.7550739835115556, -1.7434994017263974, -1.7324336880593374, -1.7219801599565934, -1.7122364189768509, -1.7032934394501031, -1.6952347189469046, -1.688135498393059, -1.6820620588209527, -1.6770711002924104, -1.6732092041477595, -1.6705123533735933, -1.6690051221322273, -1.6683422648894772, -1.667026595981322, -1.6646725028494085, -1.6613014363901986, -1.6569448063140169, -1.6516432736816793, -1.6454463322313633, -1.6384118389734057, -1.6306054720492777, -1.6221001168626719, -1.6129751853141168, -1.6033158742417786, -1.5932123699076777, -1.5827590059248013, -1.5720533824738971, -1.5611954550274467, -1.55028660108612, -1.5394286736396696, -1.5287230501887654, -1.518269686205889, -1.5081661818717882, -1.49850687079945, -1.489381939250895, -1.480876584064289, -1.473070217140161, -1.4660357238822035, -1.4598387824318875, -1.45453724979955, -1.4501806197233682, -1.4468095532641583, -1.4444554601322448, -1.4431397912240895, -1.4425616538704005, -1.4414152179437318, -1.4393639291092686, -1.4364264790592827, -1.4326302373091124, -1.4280106347339938, -1.4226107987493728, -1.4164811442847567, -1.4096789013776672, -1.4022675802659799, -1.39431637818861, -1.3858995332122224, -1.3770956310434725, -1.3679868712709886, -1.358658299876297, -1.3491970151741868, -1.339691354593781, -1.3302300698916707, -1.3209014984969791, -1.3117927387244952, -1.3029888365557454, -1.2945719915793577, -1.2866207895019879, -1.2792094683903006, -1.272407225483211, -1.266277571018595, -1.260877735033974, -1.2562581324588553, -1.252461890708685, -1.2495244406586992, -1.247473151824236, -1.2463267158975673, -1.2458230878925636, -1.2448247308246958, -1.2430383957505016, -1.2404803600585865, -1.2371744580936768, -1.2331515443186247, -1.2284491756164868, -1.2231112550960448, -1.2171876207038637, -1.21073357940773, -1.2038093906176477, -1.1964797034752168, -1.188812953201149, -1.1808807221127584, -1.1727570712672533, -1.1645178489664407, -1.156239982576841, -1.1480007602760285, -1.1398771094305233, -1.1319448783421326, -1.124278128068065, -1.116948440925634, -1.1100242521355517, -1.103570210839418, -1.097646576447237, -1.092308655926795, -1.087606287224657, -1.083583373449605, -1.0802774714846952, -1.0777194357927802, -1.075933100718586, -1.0749347436507182, -1.0744947040532327, -1.0736190711192952, -1.0720523232368437, -1.0698087368786964, -1.0669092165266982, -1.0633808238251274, -1.0592564989361348, -1.0545747481308618, -1.0493792829718116, -1.0437186117572963, -1.0376455864434713, -1.0312169091055343, -1.0244926024898808, -1.0175354495792173, -1.0104104073943347, -1.0031840005016266, -0.9959236998869895, -0.9886972929942812, -0.9815722508093986, -0.9746150978987352, -0.9678907912830815, -0.9614621139451448, -0.9553890886313198, -0.9497284174168044, -0.9445329522577541, -0.9398512014524812, -0.9357268765634885, -0.9321984838619177, -0.9292989635099197, -0.9270553771517722, -0.9254886292693209, -0.9246129963353834, -0.9242288141745852, -0.9234683363304901, -0.9221076325404561, -0.9201591017685344, -0.9176408993337742, -0.9145765279849879, -0.9109945959009291, -0.9069285453665176, -0.9024163394065849, -0.8975001069597437, -0.8922257493850173, -0.8866425118286662, -0.880802523404393, -0.8747603104616356, -0.8685722874786701, -0.8622962303303746, -0.8559907368468503, -0.8497146796985549, -0.8435266567155894, -0.8374844437728319, -0.8316444553485588, -0.8260612177922076, -0.8207868602174813, -0.81587062777064, -0.8113584218107074, -0.8072923712762958, -0.8037104391922371, -0.8006460678434507, -0.7981278654086905, -0.7961793346367688, -0.7948186308467349, -0.7940581530026397, -0.7937244949022416, -0.7930640280228621, -0.7918822713248311, -0.790189993175903, -0.7880029612766228, -0.7853415875131293, -0.7822307177828973, -0.7786993963529383, -0.7747805937045583, -0.7705108983706553, -0.7659301751909339, -0.7610811930485739, -0.7560092255216546, -0.7507616281618684, -0.7453873963406235, -0.7399367077877251, -0.7344604540923049, -0.7290097655394066, -0.7236355337181616, -0.7183879363583754, -0.7133159688314561, -0.7084669866890961, -0.7038862635093747, -0.6996165681754717, -0.6956977655270917, -0.6921664440971327, -0.6890555743669007, -0.6863942006034072, -0.684207168704127, -0.6825148905551989, -0.6813331338571679, -0.6806726669777884, -0.6803828884838313, -0.6798092800583599, -0.6787829369970928, -0.6773132115123293, -0.6754137976834625, -0.6731024230154359, -0.6704006659046455, -0.6673337509865572, -0.6639303127717866, -0.6602221280100865, -0.6562438188886526, -0.6520325297254002, -0.647627580138993, -0.6430700979199258, -0.6384026350245889, -0.6336687702750039, -0.6289127024723866, -0.6241788377228016, -0.6195113748274648, -0.6149538926083975, -0.6105489430219904, -0.606337653858738, -0.602359344737304, -0.5986511599756039, -0.5952477217608333, -0.592180806842745, -0.5894790497319546, -0.587167675063928, -0.5852682612350613, -0.5837985357502977, -0.5827721926890306, -0.5821985842635592, -0.5819469147387977, -0.581448741952176, -0.5805573739733305, -0.5792809330986837, -0.5776313124898221, -0.5756239082953123, -0.5732774611217877, -0.5706138782955419, -0.5676580285829902, -0.5644375097516535, -0.5609823908010588, -0.5573249311743058, -0.5534992795399443, -0.5495411549444322, -0.5454875133070867, -0.5413762023690497, -0.5372456083167673, -0.5331342973787303, -0.5290806557413847, -0.5251225311458727, -0.5212968795115112, -0.5176394198847581, -0.5141843009341635, -0.5109637821028268, -0.5080079323902751, -0.5053443495640293, -0.5029979023905047, -0.5009904981959948, -0.4993408775871333, -0.4980644367124865, -0.497173068733641, -0.49667489594701936, -0.4964563236546839, -0.49602366591412433, -0.49524952235170744, -0.4941409470950627, -0.4927082692279103, -0.4909648601407213, -0.48892699585005206, -0.4866137026346361, -0.4840465787523004, -0.4812495925691634, -0.47824885868992784, -0.4750723940961271, -0.47174985654140533, -0.4683122676358355, -0.46479172320034834, -0.46122109359359753, -0.4576337168082282, -0.45406308720147737, -0.4505425427659902, -0.4471049538604204, -0.4437824163056986, -0.44060595171189787, -0.4376052178326623, -0.4348082316495253, -0.4322411077671896, -0.42992781455177365, -0.4278899502611044, -0.4261465411739154, -0.42471386330676303, -0.42360528805011827, -0.42283114448770137, -0.4223984867471418, -0.4222086590474152, -0.421832900424116, -0.4211605650144374, -0.42019777925282886, -0.4189535138381012, -0.417439381679961, -0.41566951832482435, -0.41366044789241285, -0.41143092823880045, -0.4090017756337799, -0.4063956703324147, -0.4036369447837127, -0.4007513564297227, -0.3977658472072248, -0.3947082919936475, -0.3916072383441531, -0.38849163994902747, -0.3853905862995331, -0.3823330310859558, -0.3793475218634579, -0.3764619335094679, -0.3737032079607659, -0.3710971026594007, -0.36866795005438013, -0.36643843040076773, -0.36442935996835624, -0.3626594966132196, -0.3611453644550794, -0.3599010990403517, -0.3589383132787432, -0.3582659778690646, -0.35789021924576536, -0.35772535591748866, -0.35739901356937503, -0.3568150974521933, -0.35597892830878164, -0.3548982970951756, -0.35358328949933315, -0.35204618209223165, -0.3503013258952345, -0.34836501190585223, -0.3462553188319094, -0.34399194423251517, -0.34159602057956023, -0.3390899179361607, -0.3364970350864465, -0.3338415810635292, -0.3311483491139423, -0.3284424852082334, -0.3257492532586465, -0.3230937992357292, -0.32050091638601497, -0.31799481374261546, -0.3155988900896605, -0.3133355154902663, -0.31122582241632346, -0.3092895084269412, -0.30754465222994404, -0.30600754482284254, -0.30469253722700007, -0.30361190601339405, -0.3027757368699824, -0.30219182075280066, -0.301865478404687, -0.3017222963661878, -0.3014388715248968, -0.30093174661819644, -0.30020554265437205, -0.2992670259954683, -0.29812495595367783, -0.29678999459967886, -0.29527460564213737, -0.29359293763826816, -0.2917606917525862, -0.28979497510464425, -0.28771414102040926, -0.28553761766059943, -0.2832857266191384, -0.2809794931825301, -0.27864045002039123, -0.2762904361393745, -0.2739513929772356, -0.2716451595406273, -0.2693932684991663, -0.26721674513935645, -0.26513591105512146, -0.26317019440717954, -0.26133794852149755, -0.25965628051762835, -0.25814089156008685, -0.2568059302060879, -0.25566386016429743, -0.25472534350539366, -0.2539991395415693, -0.2534920146348689, -0.2532085897935779, -0.25308423772351424, -0.25283808627818344, -0.2523976537170185, -0.2517669533363245, -0.2509518616492164, -0.24995998602471134, -0.24880058635723376, -0.24748448724454433, -0.24602397655736002, -0.24443269058924322, -0.24272548669067953, -0.24091830452910523, -0.23902801725445016, -0.23707227395383357, -0.2350693348638595, -0.2330379008779424, -0.23099693893993822, -0.22896550495402113, -0.22696256586404706, -0.22500682256343046, -0.2231165352887754, -0.2213093531272011, -0.2196021492286374, -0.2180108632605206, -0.2165503525733363, -0.21523425346064687, -0.2140748537931693, -0.2130829781686642, -0.21226788648155612, -0.21163718610086213, -0.21119675353969722, -0.2109506020943664, -0.21084260365062862, -0.21062882375129985, -0.2102463127794045, -0.20969855623988812, -0.20899065782158113, -0.208129224443165, -0.2071222982239749, -0.20597928021146936, -0.2047108422900296, -0.20332882743486566, -0.20184613909607452, -0.20027662070445656, -0.19863492641038052, -0.19693638425737073, -0.1951968530657468, -0.19343257436155842, -0.19166002073282, -0.18989574202863163, -0.1881562108370077, -0.1864576686839979, -0.18481597438992187, -0.18324645599830391, -0.18176376765951277, -0.18038175280434884, -0.17911331488290907, -0.17797029687040353, -0.17696337065121343, -0.1761019372727973, -0.17539403885449031, -0.17484628231497393, -0.17446377134307858, -0.1742499914437498, -0.1741561959496836, -0.17397053039206076, -0.17363832370136253, -0.17316260300138006, -0.17254780079131274, -0.17179965510941872, -0.17092515045038395, -0.16993245152344494, -0.16883082674612246, -0.16763056161580517, -0.16634286264098627, -0.16497975269335313, -0.16355395874587303, -0.16207879304051603, -0.1605680287932259, -0.15903577159578244, -0.15749632771481223, -0.15596407051736877, -0.15445330627007864, -0.15297814056472164, -0.15155234661724154, -0.1501892366696084, -0.1489015376947895, -0.1477012725644722, -0.14659964778714973, -0.14560694886021072, -0.14473244420117595, -0.14398429851928193, -0.1433694963092146, -0.14289377560923214, -0.14256156891853392, -0.14237590336091108, -0.14229444297682917, -0.14213319442448336, -0.1418446764643375, -0.14143151812104937, -0.14089756897279782, -0.1402478124444801, -0.1394883144950786, -0.13862616608729833, -0.13766941674269245, -0.1366269993058085, -0.13550864650949423, -0.1343248000893061, -0.1330865132852364, -0.1318053476371509, -0.1304932650358845, -0.12916251603713302, -0.12782552548055204, -0.12649477648180057, -0.12518269388053416, -0.12390152823244865, -0.12266324142837895, -0.12147939500819083, -0.12036104221187657, -0.11931862477499261, -0.11836187543038673, -0.11749972702260646, -0.11674022907320497, -0.11609047254488725, -0.11555652339663569, -0.11514336505334757, -0.11485484709320172, -0.1146935985408559, -0.11462285106795396, -0.11448280842371489, -0.11423223365909539, -0.11387341005391093, -0.11340968092566435, -0.1128453743256146, -0.1121857584743031, -0.11143699179704873, -0.11060606521728474, -0.1097007368150237, -0.10872945936471752, -0.10770130140209254, -0.1066258625479417, -0.10551318387606519, -0.10437365416080077, -0.10321791287883271, -0.10205675087060133, -0.10090100958863327, -0.09976147987336885, -0.09864880120149234, -0.0975733623473415, -0.09654520438471652, -0.09557392693441034, -0.0946685985321493, -0.09383767195238531, -0.09308890527513095, -0.09242928942381944, -0.09186498282376969, -0.09140125369552311, -0.09104243009033865, -0.09079185532571915, -0.09065181268148008, -0.09059036925743512, -0.09046874371773163, -0.09025112221287845, -0.08993948774699095, -0.08953674395558596, -0.08904664970492236, -0.08847378038823199, -0.08782348453208128, -0.08710183367875082, -0.08631556563781084, -0.08547202155352705, -0.0845790773522505, -0.0836450702020362, -0.08267872066815757, -0.08168905129008863, -0.08068530233961171, -0.07967684554631346, -0.07867309659583654, -0.07768342721776761, -0.07671707768388898, -0.07578307053367468, -0.07489012633239812, -0.07404658224811433, -0.07326031420717435, -0.0725386633538439, -0.07188836749769319, -0.07131549818100281, -0.07082540393033922, -0.07042266013893422, -0.07011102567304672, -0.06989340416819355, -0.06977177862849006, -0.0697184156714329, -0.06961278519017094, -0.06942378323921038, -0.06915313203643045, -0.06880335335824259, -0.06837771173981673, -0.06788018086127155, -0.06731540586076332, -0.06668865980786824, -0.06600579441818236, -0.06527318539703601, -0.06449767290228484, -0.06368649767527443, -0.06284723343373674, -0.06198771615676931, -0.06111597092165227, -0.06024013697536374, -0.0593683917402467, -0.058508874463279265, -0.05766961022174158, -0.05685843499473118, -0.056082922499979995, -0.05535031347883366, -0.05466744808914776, -0.0540407020362527, -0.053475927035744455, -0.05297839615719928, -0.05255275453877342, -0.05220297586058555, -0.051932324657805624, -0.05174332270684506, -0.05163769222558311, -0.05159134706773839, -0.051499608123772904, -0.05133546194947366, -0.05110040427266119, -0.050796625229195314, -0.05042696003297878, -0.04999485978272278, -0.04950435873126736, -0.048960036483179335, -0.04836697519090891, -0.04773071208639008, -0.04705718777361073, -0.04635269075903832, -0.04562379873557284, -0.044877317167307196, -0.04412021574808472, -0.04335956332691121, -0.04260246190768874, -0.041855980339423095, -0.04112708831595761, -0.0404225913013852, -0.039749066988605856, -0.03911280388408702, -0.0385197425918166, -0.037975420343728576, -0.037484919292273156, -0.037052819042017154, -0.03668315384580062, -0.036379374802334746, -0.036144317125522275, -0.03598017095122303, -0.03588843200725755, -0.03584818173302047, -0.03576850744072001, -0.03562594824278505, -0.03542180316284092, -0.03515797431047306, -0.034836924038652364, -0.03446164958972313, -0.03403565466915761, -0.03356291661457389, -0.03304784922105541, -0.032495261515353195, -0.03191031284853579, -0.03129846472125671, -0.03066542978949523, -0.030017118526077174, -0.029359584035611296, -0.02869896553790512, -0.028041431047439242, -0.027393119784021185, -0.026760084852259707, -0.026148236724980626, -0.02556328805816322, -0.025010700352461012, -0.024495632958942522, -0.024022894904358806, -0.02359689998379329, -0.023221625534864048, -0.022900575263043357, -0.02263674641067549, -0.022432601330731366, -0.02229004213279641, -0.02221036784049595, -0.022175410907528146, -0.022106214636248123, -0.021982403496557428, -0.0218051056765903, -0.02157597313819136, -0.021297144408597476, -0.020971222560749216, -0.02060125052540059, -0.020190682577761906, -0.01974335205168715, -0.01926343553550927, -0.018755413870486584, -0.0182240303115625, -0.017674246239396424, -0.017111194836464665, -0.016540133159422512, -0.01596639305505496, -0.015395331378012807, -0.014832279975081047, -0.014282495902914971, -0.013751112343990887, -0.013243090678968202, -0.012763174162790323, -0.012315843636715566, -0.011905275689076882, -0.011535303653728256, -0.011209381805879997, -0.010930553076286112, -0.010701420537887172, -0.010524122717920045, -0.010400311578229347, -0.010331115306949325, -0.010300755584297059, -0.010240659362281022, -0.010133130710790536, -0.009979149449161779, -0.009780150288600128, -0.00953799051715358, -0.009254930875848593, -0.008933614117521254, -0.008577040243271383, -0.008188538462579333, -0.007771736097771632, -0.007330524711588544, -0.006869023770251073, -0.0063915421798331805, -0.005902538054450534, -0.005406577091619241, -0.004908289943283678, -0.004412328980452385, -0.003923324855069739, -0.0034458432646518465, -0.0029843423233143758, -0.0025431309371312873, -0.0021263285723235868, -0.0017378267916315353, -0.0013812529173816651, -0.0010599361590543266, -0.0007768765177493386, -0.0005347167463027918, -0.0003357175857411414, -0.00018173632411238222, -7.420767262189644e-5, -1.411145060586143e-5, 1.411145060586143e-5, 7.420767262189644e-5, 0.00018173632411238222, 0.0003357175857411414, 0.0005347167463027918, 0.0007768765177493386, 0.0010599361590543266, 0.0013812529173816651, 0.0017378267916315353, 0.0021263285723235868, 0.0025431309371312873, 0.0029843423233143758, 0.0034458432646518465, 0.003923324855069739, 0.004412328980452385, 0.004908289943283678, 0.005406577091619241, 0.005902538054450534, 0.0063915421798331805, 0.006869023770251073, 0.007330524711588544, 0.007771736097771632, 0.008188538462579333, 0.008577040243271383, 0.008933614117521254, 0.009254930875848593, 0.00953799051715358, 0.009780150288600128, 0.009979149449161779, 0.010133130710790536, 0.010240659362281022, 0.010300755584297059, 0.010331115306949325, 0.010400311578229347, 0.010524122717920045, 0.010701420537887172, 0.010930553076286112, 0.011209381805879997, 0.011535303653728256, 0.011905275689076882, 0.012315843636715566, 0.012763174162790323, 0.013243090678968202, 0.013751112343990887, 0.014282495902914971, 0.014832279975081047, 0.015395331378012807, 0.01596639305505496, 0.016540133159422512, 0.017111194836464665, 0.017674246239396424, 0.0182240303115625, 0.018755413870486584, 0.01926343553550927, 0.01974335205168715, 0.020190682577761906, 0.02060125052540059, 0.020971222560749216, 0.021297144408597476, 0.02157597313819136, 0.0218051056765903, 0.021982403496557428, 0.022106214636248123, 0.022175410907528146, 0.02221036784049595, 0.02229004213279641, 0.022432601330731366, 0.02263674641067549, 0.022900575263043357, 0.023221625534864048, 0.02359689998379329, 0.024022894904358806, 0.024495632958942522, 0.025010700352461012, 0.02556328805816322, 0.026148236724980626, 0.026760084852259707, 0.027393119784021185, 0.028041431047439242, 0.02869896553790512, 0.029359584035611296, 0.030017118526077174, 0.03066542978949523, 0.03129846472125671, 0.03191031284853579, 0.032495261515353195, 0.03304784922105541, 0.03356291661457389, 0.03403565466915761, 0.03446164958972313, 0.034836924038652364, 0.03515797431047306, 0.03542180316284092, 0.03562594824278505, 0.03576850744072001, 0.03584818173302047, 0.03588843200725755, 0.03598017095122303, 0.036144317125522275, 0.036379374802334746, 0.03668315384580062, 0.037052819042017154, 0.037484919292273156, 0.037975420343728576, 0.0385197425918166, 0.03911280388408702, 0.039749066988605856, 0.0404225913013852, 0.04112708831595761, 0.041855980339423095, 0.04260246190768874, 0.04335956332691121, 0.04412021574808472, 0.044877317167307196, 0.04562379873557284, 0.04635269075903832, 0.04705718777361073, 0.04773071208639008, 0.04836697519090891, 0.048960036483179335, 0.04950435873126736, 0.04999485978272278, 0.05042696003297878, 0.050796625229195314, 0.05110040427266119, 0.05133546194947366, 0.051499608123772904, 0.05159134706773839, 0.05163769222558311, 0.05174332270684506, 0.051932324657805624, 0.05220297586058555, 0.05255275453877342, 0.05297839615719928, 0.053475927035744455, 0.0540407020362527, 0.05466744808914776, 0.05535031347883366, 0.056082922499979995, 0.05685843499473118, 0.05766961022174158, 0.058508874463279265, 0.0593683917402467, 0.06024013697536374, 0.06111597092165227, 0.06198771615676931, 0.06284723343373674, 0.06368649767527443, 0.06449767290228484, 0.06527318539703601, 0.06600579441818236, 0.06668865980786824, 0.06731540586076332, 0.06788018086127155, 0.06837771173981673, 0.06880335335824259, 0.06915313203643045, 0.06942378323921038, 0.06961278519017094, 0.0697184156714329, 0.06977177862849006, 0.06989340416819355, 0.07011102567304672, 0.07042266013893422, 0.07082540393033922, 0.07131549818100281, 0.07188836749769319, 0.0725386633538439, 0.07326031420717435, 0.07404658224811433, 0.07489012633239812, 0.07578307053367468, 0.07671707768388898, 0.07768342721776761, 0.07867309659583654, 0.07967684554631346, 0.08068530233961171, 0.08168905129008863, 0.08267872066815757, 0.0836450702020362, 0.0845790773522505, 0.08547202155352705, 0.08631556563781084, 0.08710183367875082, 0.08782348453208128, 0.08847378038823199, 0.08904664970492236, 0.08953674395558596, 0.08993948774699095, 0.09025112221287845, 0.09046874371773163, 0.09059036925743512, 0.09065181268148008, 0.09079185532571915, 0.09104243009033865, 0.09140125369552311, 0.09186498282376969, 0.09242928942381944, 0.09308890527513095, 0.09383767195238531, 0.0946685985321493, 0.09557392693441034, 0.09654520438471652, 0.0975733623473415, 0.09864880120149234, 0.09976147987336885, 0.10090100958863327, 0.10205675087060133, 0.10321791287883271, 0.10437365416080077, 0.10551318387606519, 0.1066258625479417, 0.10770130140209254, 0.10872945936471752, 0.1097007368150237, 0.11060606521728474, 0.11143699179704873, 0.1121857584743031, 0.1128453743256146, 0.11340968092566435, 0.11387341005391093, 0.11423223365909539, 0.11448280842371489, 0.11462285106795396, 0.1146935985408559, 0.11485484709320172, 0.11514336505334757, 0.11555652339663569, 0.11609047254488725, 0.11674022907320497, 0.11749972702260646, 0.11836187543038673, 0.11931862477499261, 0.12036104221187657, 0.12147939500819083, 0.12266324142837895, 0.12390152823244865, 0.12518269388053416, 0.12649477648180057, 0.12782552548055204, 0.12916251603713302, 0.1304932650358845, 0.1318053476371509, 0.1330865132852364, 0.1343248000893061, 0.13550864650949423, 0.1366269993058085, 0.13766941674269245, 0.13862616608729833, 0.1394883144950786, 0.1402478124444801, 0.14089756897279782, 0.14143151812104937, 0.1418446764643375, 0.14213319442448336, 0.14229444297682917, 0.14237590336091108, 0.14256156891853392, 0.14289377560923214, 0.1433694963092146, 0.14398429851928193, 0.14473244420117595, 0.14560694886021072, 0.14659964778714973, 0.1477012725644722, 0.1489015376947895, 0.1501892366696084, 0.15155234661724154, 0.15297814056472164, 0.15445330627007864, 0.15596407051736877, 0.15749632771481223, 0.15903577159578244, 0.1605680287932259, 0.16207879304051603, 0.16355395874587303, 0.16497975269335313, 0.16634286264098627, 0.16763056161580517, 0.16883082674612246, 0.16993245152344494, 0.17092515045038395, 0.17179965510941872, 0.17254780079131274, 0.17316260300138006, 0.17363832370136253, 0.17397053039206076, 0.1741561959496836, 0.1742499914437498, 0.17446377134307858, 0.17484628231497393, 0.17539403885449031, 0.1761019372727973, 0.17696337065121343, 0.17797029687040353, 0.17911331488290907, 0.18038175280434884, 0.18176376765951277, 0.18324645599830391, 0.18481597438992187, 0.1864576686839979, 0.1881562108370077, 0.18989574202863163, 0.19166002073282, 0.19343257436155842, 0.1951968530657468, 0.19693638425737073, 0.19863492641038052, 0.20027662070445656, 0.20184613909607452, 0.20332882743486566, 0.2047108422900296, 0.20597928021146936, 0.2071222982239749, 0.208129224443165, 0.20899065782158113, 0.20969855623988812, 0.2102463127794045, 0.21062882375129985, 0.21084260365062862, 0.2109506020943664, 0.21119675353969722, 0.21163718610086213, 0.21226788648155612, 0.2130829781686642, 0.2140748537931693, 0.21523425346064687, 0.2165503525733363, 0.2180108632605206, 0.2196021492286374, 0.2213093531272011, 0.2231165352887754, 0.22500682256343046, 0.22696256586404706, 0.22896550495402113, 0.23099693893993822, 0.2330379008779424, 0.2350693348638595, 0.23707227395383357, 0.23902801725445016, 0.24091830452910523, 0.24272548669067953, 0.24443269058924322, 0.24602397655736002, 0.24748448724454433, 0.24880058635723376, 0.24995998602471134, 0.2509518616492164, 0.2517669533363245, 0.2523976537170185, 0.25283808627818344, 0.25308423772351424, 0.2532085897935779, 0.2534920146348689, 0.2539991395415693, 0.25472534350539366, 0.25566386016429743, 0.2568059302060879, 0.25814089156008685, 0.25965628051762835, 0.26133794852149755, 0.26317019440717954, 0.26513591105512146, 0.26721674513935645, 0.2693932684991663, 0.2716451595406273, 0.2739513929772356, 0.2762904361393745, 0.27864045002039123, 0.2809794931825301, 0.2832857266191384, 0.28553761766059943, 0.28771414102040926, 0.28979497510464425, 0.2917606917525862, 0.29359293763826816, 0.29527460564213737, 0.29678999459967886, 0.29812495595367783, 0.2992670259954683, 0.30020554265437205, 0.30093174661819644, 0.3014388715248968, 0.3017222963661878, 0.301865478404687, 0.30219182075280066, 0.3027757368699824, 0.30361190601339405, 0.30469253722700007, 0.30600754482284254, 0.30754465222994404, 0.3092895084269412, 0.31122582241632346, 0.3133355154902663, 0.3155988900896605, 0.31799481374261546, 0.32050091638601497, 0.3230937992357292, 0.3257492532586465, 0.3284424852082334, 0.3311483491139423, 0.3338415810635292, 0.3364970350864465, 0.3390899179361607, 0.34159602057956023, 0.34399194423251517, 0.3462553188319094, 0.34836501190585223, 0.3503013258952345, 0.35204618209223165, 0.35358328949933315, 0.3548982970951756, 0.35597892830878164, 0.3568150974521933, 0.35739901356937503, 0.35772535591748866, 0.35789021924576536, 0.3582659778690646, 0.3589383132787432, 0.3599010990403517, 0.3611453644550794, 0.3626594966132196, 0.36442935996835624, 0.36643843040076773, 0.36866795005438013, 0.3710971026594007, 0.3737032079607659, 0.3764619335094679, 0.3793475218634579, 0.3823330310859558, 0.3853905862995331, 0.38849163994902747, 0.3916072383441531, 0.3947082919936475, 0.3977658472072248, 0.4007513564297227, 0.4036369447837127, 0.4063956703324147, 0.4090017756337799, 0.41143092823880045, 0.41366044789241285, 0.41566951832482435, 0.417439381679961, 0.4189535138381012, 0.42019777925282886, 0.4211605650144374, 0.421832900424116, 0.4222086590474152, 0.4223984867471418, 0.42283114448770137, 0.42360528805011827, 0.42471386330676303, 0.4261465411739154, 0.4278899502611044, 0.42992781455177365, 0.4322411077671896, 0.4348082316495253, 0.4376052178326623, 0.44060595171189787, 0.4437824163056986, 0.4471049538604204, 0.4505425427659902, 0.45406308720147737, 0.4576337168082282, 0.46122109359359753, 0.46479172320034834, 0.4683122676358355, 0.47174985654140533, 0.4750723940961271, 0.47824885868992784, 0.4812495925691634, 0.4840465787523004, 0.4866137026346361, 0.48892699585005206, 0.4909648601407213, 0.4927082692279103, 0.4941409470950627, 0.49524952235170744, 0.49602366591412433, 0.4964563236546839, 0.49667489594701936, 0.497173068733641, 0.4980644367124865, 0.4993408775871333, 0.5009904981959948, 0.5029979023905047, 0.5053443495640293, 0.5080079323902751, 0.5109637821028268, 0.5141843009341635, 0.5176394198847581, 0.5212968795115112, 0.5251225311458727, 0.5290806557413847, 0.5331342973787303, 0.5372456083167673, 0.5413762023690497, 0.5454875133070867, 0.5495411549444322, 0.5534992795399443, 0.5573249311743058, 0.5609823908010588, 0.5644375097516535, 0.5676580285829902, 0.5706138782955419, 0.5732774611217877, 0.5756239082953123, 0.5776313124898221, 0.5792809330986837, 0.5805573739733305, 0.581448741952176, 0.5819469147387977, 0.5821985842635592, 0.5827721926890306, 0.5837985357502977, 0.5852682612350613, 0.587167675063928, 0.5894790497319546, 0.592180806842745, 0.5952477217608333, 0.5986511599756039, 0.602359344737304, 0.606337653858738, 0.6105489430219904, 0.6149538926083975, 0.6195113748274648, 0.6241788377228016, 0.6289127024723866, 0.6336687702750039, 0.6384026350245889, 0.6430700979199258, 0.647627580138993, 0.6520325297254002, 0.6562438188886526, 0.6602221280100865, 0.6639303127717866, 0.6673337509865572, 0.6704006659046455, 0.6731024230154359, 0.6754137976834625, 0.6773132115123293, 0.6787829369970928, 0.6798092800583599, 0.6803828884838313, 0.6806726669777884, 0.6813331338571679, 0.6825148905551989, 0.684207168704127, 0.6863942006034072, 0.6890555743669007, 0.6921664440971327, 0.6956977655270917, 0.6996165681754717, 0.7038862635093747, 0.7084669866890961, 0.7133159688314561, 0.7183879363583754, 0.7236355337181616, 0.7290097655394066, 0.7344604540923049, 0.7399367077877251, 0.7453873963406235, 0.7507616281618684, 0.7560092255216546, 0.7610811930485739, 0.7659301751909339, 0.7705108983706553, 0.7747805937045583, 0.7786993963529383, 0.7822307177828973, 0.7853415875131293, 0.7880029612766228, 0.790189993175903, 0.7918822713248311, 0.7930640280228621, 0.7937244949022416, 0.7940581530026397, 0.7948186308467349, 0.7961793346367688, 0.7981278654086905, 0.8006460678434507, 0.8037104391922371, 0.8072923712762958, 0.8113584218107074, 0.81587062777064, 0.8207868602174813, 0.8260612177922076, 0.8316444553485588, 0.8374844437728319, 0.8435266567155894, 0.8497146796985549, 0.8559907368468503, 0.8622962303303746, 0.8685722874786701, 0.8747603104616356, 0.880802523404393, 0.8866425118286662, 0.8922257493850173, 0.8975001069597437, 0.9024163394065849, 0.9069285453665176, 0.9109945959009291, 0.9145765279849879, 0.9176408993337742, 0.9201591017685344, 0.9221076325404561, 0.9234683363304901, 0.9242288141745852, 0.9246129963353834, 0.9254886292693209, 0.9270553771517722, 0.9292989635099197, 0.9321984838619177, 0.9357268765634885, 0.9398512014524812, 0.9445329522577541, 0.9497284174168044, 0.9553890886313198, 0.9614621139451448, 0.9678907912830815, 0.9746150978987352, 0.9815722508093986, 0.9886972929942812, 0.9959236998869895, 1.0031840005016266, 1.0104104073943347, 1.0175354495792173, 1.0244926024898808, 1.0312169091055343, 1.0376455864434713, 1.0437186117572963, 1.0493792829718116, 1.0545747481308618, 1.0592564989361348, 1.0633808238251274, 1.0669092165266982, 1.0698087368786964, 1.0720523232368437, 1.0736190711192952, 1.0744947040532327, 1.0749347436507182, 1.075933100718586, 1.0777194357927802, 1.0802774714846952, 1.083583373449605, 1.087606287224657, 1.092308655926795, 1.097646576447237, 1.103570210839418, 1.1100242521355517, 1.116948440925634, 1.124278128068065, 1.1319448783421326, 1.1398771094305233, 1.1480007602760285, 1.156239982576841, 1.1645178489664407, 1.1727570712672533, 1.1808807221127584, 1.188812953201149, 1.1964797034752168, 1.2038093906176477, 1.21073357940773, 1.2171876207038637, 1.2231112550960448, 1.2284491756164868, 1.2331515443186247, 1.2371744580936768, 1.2404803600585865, 1.2430383957505016, 1.2448247308246958, 1.2458230878925636, 1.2463267158975673, 1.247473151824236, 1.2495244406586992, 1.252461890708685, 1.2562581324588553, 1.260877735033974, 1.266277571018595, 1.272407225483211, 1.2792094683903006, 1.2866207895019879, 1.2945719915793577, 1.3029888365557454, 1.3117927387244952, 1.3209014984969791, 1.3302300698916707, 1.339691354593781, 1.3491970151741868, 1.358658299876297, 1.3679868712709886, 1.3770956310434725, 1.3858995332122224, 1.39431637818861, 1.4022675802659799, 1.4096789013776672, 1.4164811442847567, 1.4226107987493728, 1.4280106347339938, 1.4326302373091124, 1.4364264790592827, 1.4393639291092686, 1.4414152179437318, 1.4425616538704005, 1.4431397912240895, 1.4444554601322448, 1.4468095532641583, 1.4501806197233682, 1.45453724979955, 1.4598387824318875, 1.4660357238822035, 1.473070217140161, 1.480876584064289, 1.489381939250895, 1.49850687079945, 1.5081661818717882, 1.518269686205889, 1.5287230501887654, 1.5394286736396696, 1.55028660108612, 1.5611954550274467, 1.5720533824738971, 1.5827590059248013, 1.5932123699076777, 1.6033158742417786, 1.6129751853141168, 1.6221001168626719, 1.6306054720492777, 1.6384118389734057, 1.6454463322313633, 1.6516432736816793, 1.6569448063140169, 1.6613014363901986, 1.6646725028494085, 1.667026595981322, 1.6683422648894772, 1.6690051221322273, 1.6705123533735933, 1.6732092041477595, 1.6770711002924104, 1.6820620588209527, 1.688135498393059, 1.6952347189469046, 1.7032934394501031, 1.7122364189768509, 1.7219801599565934, 1.7324336880593374, 1.7434994017263974, 1.7550739835115556, 1.767049364760362, 1.779313734636007, 1.791752584077787, 1.8042497749484896, 1.8166886243902696, 1.8289529942659146, 1.840928375514721, 1.8525029572998792, 1.8635686709669392, 1.8740221990696833, 1.8837659400494258, 1.8927089195761735, 1.900767640079372, 1.9078668606332176, 1.913940300205324, 1.9189312587338663, 1.922793154878517, 1.9254900056526834, 1.9269972368940493, 1.9277557144676123, 1.92947860023747, 1.9325613162101232, 1.936975772154028, 1.942680836639676, 1.9496232634721964, 1.957738239949341, 1.9669500015537769, 1.9771725418939032, 1.9883104165732817, 2.000259634661876, 2.0129086297775958, 2.026139301822073, 2.0398281196862054, 2.0538472746473717, 2.068065873697391, 2.0823511616634334, 2.096569760713453, 2.110588915674619, 2.1242777335387517, 2.1375084055832287, 2.1501574006989483, 2.162106618787543, 2.173244493466921, 2.1834670338070477, 2.1926787954114837, 2.200793771888628, 2.2077361987211486, 2.2134412632067964, 2.2178557191507013, 2.2209384351233545, 2.2226613208932124, 2.2235270091407178, 2.2254908168633865, 2.2290046083983817, 2.234036365480418, 2.2405392050135133, 2.2484524350524913, 2.2577021797273265, 2.268202079891728, 2.2798541023394434, 2.29254945608381, 2.3061696084890224, 2.320587392144116, 2.335668192271211, 2.3512712036293046, 2.367250745198274, 2.3834576203773885, 2.3997405100030758, 2.41594738518219, 2.4319269267511596, 2.4475299381092532, 2.4626107382363482, 2.477028521891442, 2.4906486742966543, 2.503344028041021, 2.5149960504887363, 2.525495950653138, 2.534745695327973, 2.542658925366951, 2.549161764900046, 2.5541935219820826, 2.557707313517078, 2.5596711212397465, 2.5606558864648727, 2.5628858835646713, 2.5668759610258647, 2.5725897605849095, 2.5799740442557937, 2.5889598934472726, 2.5994634185941905, 2.6113865547772854, 2.624617980626801, 2.639034158801508, 2.654500489854106, 2.6708725691392883, 2.6879975351723, 2.7057154969029904, 2.7238610266020444, 2.742264704431111, 2.760754700280746, 2.7791583781098126, 2.7973039078088666, 2.815021869539557, 2.8321468355725687, 2.848518914857751, 2.863985245910349, 2.878401424085056, 2.8916328499345716, 2.9035559861176665, 2.9140595112645844, 2.9230453604560633, 2.9304296441269475, 2.9361434436859923, 2.9401335211471857, 2.9423635182469843, 2.943478812812586, 2.945998503870277, 2.950506923410092, 2.956962989947426, 2.965306549468046, 2.9754597303199724, 2.987327745031431, 3.0007997892878495, 3.0157500802081985, 3.0320390319903177, 3.04951455967241, 3.06801349932323, 3.0873631315629018, 3.107382794250965, 3.127885569310133, 3.148680027948087, 3.1695720179884663, 3.1903664766264206, 3.2108692516855886, 3.2308889143736517, 3.2502385466133235, 3.2687374862641434, 3.2862130139462358, 3.302501965728355, 3.317452256648704, 3.3309243009051226, 3.342792315616581, 3.3529454964685073, 3.3612890559891273, 3.3677451225264616, 3.3722535420662765, 3.3747732331239675, 3.376029129590144, 3.3788579058848556, 3.3839193638290412, 3.391167382558222, 3.400534429090933, 3.4119330794223632, 3.4252569186996396, 3.4403815504744535, 3.457165762342587, 3.4754528458032037, 3.49507205995003, 3.5158402258733155, 3.53756343706776, 3.560038869945637, 3.583056677579694, 3.6064019490076586, 3.629856715811386, 3.6532019872393504, 3.6762197948734077, 3.6986952277512843, 3.720418438945729, 3.7411866048690148, 3.760805819015841, 3.7790929024764575, 3.795877114344591, 3.811001746119405, 3.8243255853966813, 3.8357242357281116, 3.8450912822608228, 3.8523393009900033, 3.857400758934189, 3.8602295352289007, 3.861633070589695, 3.8647815091827704, 3.8704149307999174, 3.878482002746521, 3.888907560561699, 3.9015943010012095, 3.9164237839359095, 3.933257555653702, 3.951938446220686, 3.9722920384894818, 3.9941282971929915, 4.0172433435197386, 4.041421358804292, 4.066436599635131, 4.092055505597591, 4.118038879987086, 4.14414412313922, 4.170127497528716, 4.195746403491175, 4.220761644322015, 4.244939659606568, 4.268054705933316, 4.289890964636825, 4.31024455690562, 4.328925447472605, 4.345759219190397, 4.360588702125097, 4.373275442564608, 4.383701000379785, 4.391768072326389, 4.397401493943536, 4.400549932536612, 4.4021027625553275, 4.405567337759653, 4.411766414626897, 4.4206435061157325, 4.432115900456584, 4.446076524127983, 4.462395044356239, 4.480919105208815, 4.501475755224294, 4.523873063924708, 4.547901914487585, 4.573337956507463, 4.599943700837011, 4.627470737033098, 4.655662052739454, 4.684254433366641, 4.712980919672162, 4.74157330029935, 4.7697646160057054, 4.7972916522017925, 4.823897396531341, 4.849333438551219, 4.8733622891140955, 4.89575959781451, 4.916316247829989, 4.934840308682565, 4.95115882891082, 4.965119452582219, 4.976591846923071, 4.985468938411906, 4.991668015279151, 4.995132590483476, 4.996827954126621, 5.000583398517876, 5.007302920271364, 5.016925289963552, 5.029360851739738, 5.044493542696982, 5.0621820879444, 5.082261340473032, 5.104543828642796, 5.128821508409477, 5.154867706500953, 5.182439237123246, 5.211278672674491, 5.24111674735719, 5.271674871285162, 5.3026677316291835, 5.333805956523788, 5.364798816867809, 5.395356940795781, 5.42519501547848, 5.454034451029726, 5.481605981652018, 5.507652179743495, 5.531929859510176, 5.55421234767994, 5.574291600208571, 5.59198014545599, 5.607112836413234, 5.619548398189419, 5.629170767881607, 5.635890289635095, 5.639645734026351, 5.641464590015929, 5.645455080214804, 5.652595163492529, 5.662819778197528, 5.676033657093174, 5.692113473129889, 5.710909109301883, 5.732245082376823, 5.755922187236918, 5.7817193587743185, 5.809395736686886, 5.838692914664666, 5.869337353223344, 5.901042933753809, 5.933513629982077, 5.96644627191546, 5.999533376478009, 6.032466018411393, 6.064936714639661, 6.096642295170126, 6.127286733728804, 6.1565839117065835, 6.184260289619151, 6.210057461156551, 6.233734566016646, 6.255070539091586, 6.2738661752635805, 6.2899459913002955, 6.303159870195942, 6.313384484900941, 6.320524568178666, 6.324515058377541, 6.326422083763063, 6.330553013831992, 6.337944382620448, 6.348528838720601, 6.362207762095125, 6.378853485366824, 6.398310608366253, 6.420397471967612, 6.44490786030018, 6.471612928170585, 6.5002633385262545, 6.530591590798937, 6.5623145186545555, 6.595135933929063, 6.628749392106757, 6.6628410535397835, 6.697092613703931, 6.7311842751369575, 6.764797733314651, 6.797619148589159, 6.829342076444777, 6.85967032871746, 6.888320739073129, 6.915025806943534, 6.939536195276102, 6.9616230588774615, 6.98108018187689, 6.997725905148589, 7.011404828523113, 7.021989284623267, 7.029380653411723, 7.033511583480651, 7.03545131019143, 7.039581065031321, 7.0469703310121545, 7.057551775887245, 7.0712268076761715, 7.087867795322473, 7.107319382867279, 7.1293999628659055, 7.153903378115022, 7.180600848526574, 7.209243107983137, 7.239562732019043, 7.271276634859625, 7.304088712604893, 7.337692607921085, 7.371774570446165, 7.406016386211972, 7.4400983487370524, 7.473702244053245, 7.506514321798512, 7.538228224639094, 7.568547848675, 7.597190108131563, 7.6238875785431155, 7.648390993792232, 7.670471573790858, 7.689923161335664, 7.706564148981966, 7.720239180770892, 7.730820625645983, 7.738209891626816, 7.742339646466707, 7.744234253627448, 7.748173033748648, 7.75522059349104, 7.765312714293221, 7.778355363422586, 7.794226811941817, 7.8127788881104046, 7.8338383826651565, 7.857208671853379, 7.882671555201221, 7.909989293553148, 7.938906829112721, 7.969154167009763, 8.00044889625372, 8.032498826575923, 8.065004716559647, 8.097663067595247, 8.130168957578972, 8.162218887901174, 8.19351361714513, 8.223760955042174, 8.252678490601747, 8.279996228953674, 8.305459112301516, 8.328829401489738, 8.34988889604449, 8.368440972213078, 8.384312420732309, 8.397355069861673, 8.407447190663854, 8.414494750406247, 8.418433530527446, 8.420184500221556, 8.423702548347114, 8.429997302961123, 8.43901140519037, 8.450660866675902, 8.464836961302879, 8.481407344716477, 8.500217309493337, 8.521091234805867, 8.54383422788412, 8.568233944356296, 8.594062571149546, 8.621078953663286, 8.64903084743974, 8.677657273344414, 8.70669095428318, 8.735860810713158, 8.764894491651924, 8.793520917556599, 8.821472811333052, 8.848489193846792, 8.874317820640043, 8.898717537112217, 8.92146053019047, 8.942334455503001, 8.961144420279862, 8.977714803693459, 8.991890898320436, 9.003540359805967, 9.012554462035215, 9.018849216649224, 9.022367264774783, 9.02386228105813, 9.026711036246489, 9.031808241920235, 9.039107451475505, 9.04854065496337, 9.060019810926555, 9.07343775293242, 9.088669205953671, 9.105571960240482, 9.12398820050161, 9.143745979933229, 9.16466082588173, 9.186537462331808, 9.209171633206745, 9.232352009486327, 9.255862162349386, 9.27948258392489, 9.30299273678795, 9.326173113067531, 9.348807283942469, 9.370683920392546, 9.391598766341048, 9.411356545772666, 9.429772786033794, 9.446675540320605, 9.461906993341856, 9.475324935347722, 9.486804091310907, 9.496237294798771, 9.503536504354042, 9.508633710027787, 9.511482465216146, 9.512608660223501, 9.514556014739636, 9.518040366967934, 9.523029966899074, 9.529478324233807, 9.537325255517223, 9.546497503827338, 9.556909433553496, 9.56846383283289, 9.581052822153305, 9.594558861971041, 9.608855850311251, 9.623810300227825, 9.639282586176575, 9.655128247684525, 9.671199338152384, 9.687345806201314, 9.703416896669173, 9.719262558177123, 9.734734844125873, 9.749689294042447, 9.763986282382657, 9.777492322200393, 9.790081311520808, 9.801635710800202, 9.81204764052636, 9.821219888836476, 9.829066820119891, 9.835515177454624, 9.840504777385764, 9.843989129614062, 9.845936484130197, 9.846603894722033, 9.847498831634548, 9.849100119638079, 9.851393167524357, 9.854356609956705, 9.857962788696788, 9.862178037392113, 9.86696300087218, 9.872273003920615, 9.878058468837633, 9.884265378506434, 9.890835780812452, 9.89770832976325, 9.904818858278622, 9.912100977311997, 9.919486695713491, 9.926907055049195, 9.93429277345069, 9.941574892484065, 9.948685420999437, 9.955557969950235, 9.962128372256252, 9.968335281925054, 9.974120746842072, 9.979430749890506, 9.984215713370574, 9.988430962065898, 9.992037140805982, 9.99500058323833, 9.997293631124608, 9.998894919128139, 9.999789856040653], 0.0), 0x0000000000006d9f), Union{Ptr{Nothing}, Base.InterpreterIP}[Ptr{Nothing} @0x0000000106008691, Ptr{Nothing} @0x00000001060085b0, Ptr{Nothing} @0x000000010600b924, Ptr{Nothing} @0x000000010600b966, Ptr{Nothing} @0x00000001785136a1, Ptr{Nothing} @0x0000000178513715, Ptr{Nothing} @0x0000000106016a64, Ptr{Nothing} @0x0000000106016cd5, Ptr{Nothing} @0x000000016b85303f, Ptr{Nothing} @0x0000000106016a64, Ptr{Nothing} @0x000000016b852f6f, Ptr{Nothing} @0x0000000106016a64, Ptr{Nothing} @0x0000000142acaa14, Ptr{Nothing} @0x0000000142acb395, Ptr{Nothing} @0x0000000142aca6c2, Ptr{Nothing} @0x0000000142aca735, Ptr{Nothing} @0x0000000113da7446, Ptr{Nothing} @0x0000000113da72be, Ptr{Nothing} @0x000000012b6a03c6, Ptr{Nothing} @0x000000012b787d2f, Ptr{Nothing} @0x000000012b784d8f, Ptr{Nothing} @0x000000012b788b23, Ptr{Nothing} @0x000000012b6a0b3f, Ptr{Nothing} @0x000000012b6a312f, Ptr{Nothing} @0x0000000178513147, Ptr{Nothing} @0x00000001785135e3, Ptr{Nothing} @0x000000016b8a186c, Ptr{Nothing} @0x000000016b8a1972, Ptr{Nothing} @0x0000000106020fcf, Ptr{Nothing} @0x000000010601f8df, Ptr{Nothing} @0x000000010601fbbc, Base.InterpreterIP in top-level CodeInfo for Main at statement 2, Ptr{Nothing} @0x00000001060391ce, Ptr{Nothing} @0x0000000106011b6d, Ptr{Nothing} @0x000000010a81f8f1, Ptr{Nothing} @0x0000000106016a64, Ptr{Nothing} @0x0000000106016cd5, Ptr{Nothing} @0x0000000113d88a38, Ptr{Nothing} @0x0000000113d8916b, Ptr{Nothing} @0x0000000113d8981f, Ptr{Nothing} @0x0000000113d8991f, Ptr{Nothing} @0x0000000113d7d894, Ptr{Nothing} @0x0000000113d704f9, Ptr{Nothing} @0x0000000113d70bbc, Ptr{Nothing} @0x0000000113d70c28, Ptr{Nothing} @0x0000000106020fcf, Ptr{Nothing} @0x000000010601f8df, Ptr{Nothing} @0x000000010601fbbc, Base.InterpreterIP in top-level CodeInfo for Main at statement 25, Ptr{Nothing} @0x00000001060391ce, Ptr{Nothing} @0x0000000106011b6d, Ptr{Nothing} @0x000000010603a27c, Ptr{Nothing} @0x000000010acfad4f, Ptr{Nothing} @0x000000010a77ea35, Ptr{Nothing} @0x000000010ad9c19c, Ptr{Nothing} @0x000000010a87001d, Ptr{Nothing} @0x000000010a870165, Ptr{Nothing} @0x0000000105f737b0, Ptr{Nothing} @0x0000000105f7368b])",
     "output_type": "error",
     "traceback": [
      "PyCall.PyJlError(MethodError(-, ([-9.999789856040653, -9.998894919128139, -9.997293631124608, -9.99500058323833, -9.992037140805982, -9.988430962065898, -9.984215713370574, -9.979430749890506, -9.974120746842072, -9.968335281925054, -9.962128372256252, -9.955557969950235, -9.948685420999437, -9.941574892484065, -9.93429277345069, -9.926907055049195, -9.919486695713491, -9.912100977311997, -9.904818858278622, -9.89770832976325, -9.890835780812452, -9.884265378506434, -9.878058468837633, -9.872273003920615, -9.86696300087218, -9.862178037392113, -9.857962788696788, -9.854356609956705, -9.851393167524357, -9.849100119638079, -9.847498831634548, -9.846603894722033, -9.845936484130197, -9.843989129614062, -9.840504777385764, -9.835515177454624, -9.829066820119891, -9.821219888836476, -9.81204764052636, -9.801635710800202, -9.790081311520808, -9.777492322200393, -9.763986282382657, -9.749689294042447, -9.734734844125873, -9.719262558177123, -9.703416896669173, -9.687345806201314, -9.671199338152384, -9.655128247684525, -9.639282586176575, -9.623810300227825, -9.608855850311251, -9.594558861971041, -9.581052822153305, -9.56846383283289, -9.556909433553496, -9.546497503827338, -9.537325255517223, -9.529478324233807, -9.523029966899074, -9.518040366967934, -9.514556014739636, -9.512608660223501, -9.511482465216146, -9.508633710027787, -9.503536504354042, -9.496237294798771, -9.486804091310907, -9.475324935347722, -9.461906993341856, -9.446675540320605, -9.429772786033794, -9.411356545772666, -9.391598766341048, -9.370683920392546, -9.348807283942469, -9.326173113067531, -9.30299273678795, -9.27948258392489, -9.255862162349386, -9.232352009486327, -9.209171633206745, -9.186537462331808, -9.16466082588173, -9.143745979933229, -9.12398820050161, -9.105571960240482, -9.088669205953671, -9.07343775293242, -9.060019810926555, -9.04854065496337, -9.039107451475505, -9.031808241920235, -9.026711036246489, -9.02386228105813, -9.022367264774783, -9.018849216649224, -9.012554462035215, -9.003540359805967, -8.991890898320436, -8.977714803693459, -8.961144420279862, -8.942334455503001, -8.92146053019047, -8.898717537112217, -8.874317820640043, -8.848489193846792, -8.821472811333052, -8.793520917556599, -8.764894491651924, -8.735860810713158, -8.70669095428318, -8.677657273344414, -8.64903084743974, -8.621078953663286, -8.594062571149546, -8.568233944356296, -8.54383422788412, -8.521091234805867, -8.500217309493337, -8.481407344716477, -8.464836961302879, -8.450660866675902, -8.43901140519037, -8.429997302961123, -8.423702548347114, -8.420184500221556, -8.418433530527446, -8.414494750406247, -8.407447190663854, -8.397355069861673, -8.384312420732309, -8.368440972213078, -8.34988889604449, -8.328829401489738, -8.305459112301516, -8.279996228953674, -8.252678490601747, -8.223760955042174, -8.19351361714513, -8.162218887901174, -8.130168957578972, -8.097663067595247, -8.065004716559647, -8.032498826575923, -8.00044889625372, -7.969154167009763, -7.938906829112721, -7.909989293553148, -7.882671555201221, -7.857208671853379, -7.8338383826651565, -7.8127788881104046, -7.794226811941817, -7.778355363422586, -7.765312714293221, -7.75522059349104, -7.748173033748648, -7.744234253627448, -7.742339646466707, -7.738209891626816, -7.730820625645983, -7.720239180770892, -7.706564148981966, -7.689923161335664, -7.670471573790858, -7.648390993792232, -7.6238875785431155, -7.597190108131563, -7.568547848675, -7.538228224639094, -7.506514321798512, -7.473702244053245, -7.4400983487370524, -7.406016386211972, -7.371774570446165, -7.337692607921085, -7.304088712604893, -7.271276634859625, -7.239562732019043, -7.209243107983137, -7.180600848526574, -7.153903378115022, -7.1293999628659055, -7.107319382867279, -7.087867795322473, -7.0712268076761715, -7.057551775887245, -7.0469703310121545, -7.039581065031321, -7.03545131019143, -7.033511583480651, -7.029380653411723, -7.021989284623267, -7.011404828523113, -6.997725905148589, -6.98108018187689, -6.9616230588774615, -6.939536195276102, -6.915025806943534, -6.888320739073129, -6.85967032871746, -6.829342076444777, -6.797619148589159, -6.764797733314651, -6.7311842751369575, -6.697092613703931, -6.6628410535397835, -6.628749392106757, -6.595135933929063, -6.5623145186545555, -6.530591590798937, -6.5002633385262545, -6.471612928170585, -6.44490786030018, -6.420397471967612, -6.398310608366253, -6.378853485366824, -6.362207762095125, -6.348528838720601, -6.337944382620448, -6.330553013831992, -6.326422083763063, -6.324515058377541, -6.320524568178666, -6.313384484900941, -6.303159870195942, -6.2899459913002955, -6.2738661752635805, -6.255070539091586, -6.233734566016646, -6.210057461156551, -6.184260289619151, -6.1565839117065835, -6.127286733728804, -6.096642295170126, -6.064936714639661, -6.032466018411393, -5.999533376478009, -5.96644627191546, -5.933513629982077, -5.901042933753809, -5.869337353223344, -5.838692914664666, -5.809395736686886, -5.7817193587743185, -5.755922187236918, -5.732245082376823, -5.710909109301883, -5.692113473129889, -5.676033657093174, -5.662819778197528, -5.652595163492529, -5.645455080214804, -5.641464590015929, -5.639645734026351, -5.635890289635095, -5.629170767881607, -5.619548398189419, -5.607112836413234, -5.59198014545599, -5.574291600208571, -5.55421234767994, -5.531929859510176, -5.507652179743495, -5.481605981652018, -5.454034451029726, -5.42519501547848, -5.395356940795781, -5.364798816867809, -5.333805956523788, -5.3026677316291835, -5.271674871285162, -5.24111674735719, -5.211278672674491, -5.182439237123246, -5.154867706500953, -5.128821508409477, -5.104543828642796, -5.082261340473032, -5.0621820879444, -5.044493542696982, -5.029360851739738, -5.016925289963552, -5.007302920271364, -5.000583398517876, -4.996827954126621, -4.995132590483476, -4.991668015279151, -4.985468938411906, -4.976591846923071, -4.965119452582219, -4.95115882891082, -4.934840308682565, -4.916316247829989, -4.89575959781451, -4.8733622891140955, -4.849333438551219, -4.823897396531341, -4.7972916522017925, -4.7697646160057054, -4.74157330029935, -4.712980919672162, -4.684254433366641, -4.655662052739454, -4.627470737033098, -4.599943700837011, -4.573337956507463, -4.547901914487585, -4.523873063924708, -4.501475755224294, -4.480919105208815, -4.462395044356239, -4.446076524127983, -4.432115900456584, -4.4206435061157325, -4.411766414626897, -4.405567337759653, -4.4021027625553275, -4.400549932536612, -4.397401493943536, -4.391768072326389, -4.383701000379785, -4.373275442564608, -4.360588702125097, -4.345759219190397, -4.328925447472605, -4.31024455690562, -4.289890964636825, -4.268054705933316, -4.244939659606568, -4.220761644322015, -4.195746403491175, -4.170127497528716, -4.14414412313922, -4.118038879987086, -4.092055505597591, -4.066436599635131, -4.041421358804292, -4.0172433435197386, -3.9941282971929915, -3.9722920384894818, -3.951938446220686, -3.933257555653702, -3.9164237839359095, -3.9015943010012095, -3.888907560561699, -3.878482002746521, -3.8704149307999174, -3.8647815091827704, -3.861633070589695, -3.8602295352289007, -3.857400758934189, -3.8523393009900033, -3.8450912822608228, -3.8357242357281116, -3.8243255853966813, -3.811001746119405, -3.795877114344591, -3.7790929024764575, -3.760805819015841, -3.7411866048690148, -3.720418438945729, -3.6986952277512843, -3.6762197948734077, -3.6532019872393504, -3.629856715811386, -3.6064019490076586, -3.583056677579694, -3.560038869945637, -3.53756343706776, -3.5158402258733155, -3.49507205995003, -3.4754528458032037, -3.457165762342587, -3.4403815504744535, -3.4252569186996396, -3.4119330794223632, -3.400534429090933, -3.391167382558222, -3.3839193638290412, -3.3788579058848556, -3.376029129590144, -3.3747732331239675, -3.3722535420662765, -3.3677451225264616, -3.3612890559891273, -3.3529454964685073, -3.342792315616581, -3.3309243009051226, -3.317452256648704, -3.302501965728355, -3.2862130139462358, -3.2687374862641434, -3.2502385466133235, -3.2308889143736517, -3.2108692516855886, -3.1903664766264206, -3.1695720179884663, -3.148680027948087, -3.127885569310133, -3.107382794250965, -3.0873631315629018, -3.06801349932323, -3.04951455967241, -3.0320390319903177, -3.0157500802081985, -3.0007997892878495, -2.987327745031431, -2.9754597303199724, -2.965306549468046, -2.956962989947426, -2.950506923410092, -2.945998503870277, -2.943478812812586, -2.9423635182469843, -2.9401335211471857, -2.9361434436859923, -2.9304296441269475, -2.9230453604560633, -2.9140595112645844, -2.9035559861176665, -2.8916328499345716, -2.878401424085056, -2.863985245910349, -2.848518914857751, -2.8321468355725687, -2.815021869539557, -2.7973039078088666, -2.7791583781098126, -2.760754700280746, -2.742264704431111, -2.7238610266020444, -2.7057154969029904, -2.6879975351723, -2.6708725691392883, -2.654500489854106, -2.639034158801508, -2.624617980626801, -2.6113865547772854, -2.5994634185941905, -2.5889598934472726, -2.5799740442557937, -2.5725897605849095, -2.5668759610258647, -2.5628858835646713, -2.5606558864648727, -2.5596711212397465, -2.557707313517078, -2.5541935219820826, -2.549161764900046, -2.542658925366951, -2.534745695327973, -2.525495950653138, -2.5149960504887363, -2.503344028041021, -2.4906486742966543, -2.477028521891442, -2.4626107382363482, -2.4475299381092532, -2.4319269267511596, -2.41594738518219, -2.3997405100030758, -2.3834576203773885, -2.367250745198274, -2.3512712036293046, -2.335668192271211, -2.320587392144116, -2.3061696084890224, -2.29254945608381, -2.2798541023394434, -2.268202079891728, -2.2577021797273265, -2.2484524350524913, -2.2405392050135133, -2.234036365480418, -2.2290046083983817, -2.2254908168633865, -2.2235270091407178, -2.2226613208932124, -2.2209384351233545, -2.2178557191507013, -2.2134412632067964, -2.2077361987211486, -2.200793771888628, -2.1926787954114837, -2.1834670338070477, -2.173244493466921, -2.162106618787543, -2.1501574006989483, -2.1375084055832287, -2.1242777335387517, -2.110588915674619, -2.096569760713453, -2.0823511616634334, -2.068065873697391, -2.0538472746473717, -2.0398281196862054, -2.026139301822073, -2.0129086297775958, -2.000259634661876, -1.9883104165732817, -1.9771725418939032, -1.9669500015537769, -1.957738239949341, -1.9496232634721964, -1.942680836639676, -1.936975772154028, -1.9325613162101232, -1.92947860023747, -1.9277557144676123, -1.9269972368940493, -1.9254900056526834, -1.922793154878517, -1.9189312587338663, -1.913940300205324, -1.9078668606332176, -1.900767640079372, -1.8927089195761735, -1.8837659400494258, -1.8740221990696833, -1.8635686709669392, -1.8525029572998792, -1.840928375514721, -1.8289529942659146, -1.8166886243902696, -1.8042497749484896, -1.791752584077787, -1.779313734636007, -1.767049364760362, -1.7550739835115556, -1.7434994017263974, -1.7324336880593374, -1.7219801599565934, -1.7122364189768509, -1.7032934394501031, -1.6952347189469046, -1.688135498393059, -1.6820620588209527, -1.6770711002924104, -1.6732092041477595, -1.6705123533735933, -1.6690051221322273, -1.6683422648894772, -1.667026595981322, -1.6646725028494085, -1.6613014363901986, -1.6569448063140169, -1.6516432736816793, -1.6454463322313633, -1.6384118389734057, -1.6306054720492777, -1.6221001168626719, -1.6129751853141168, -1.6033158742417786, -1.5932123699076777, -1.5827590059248013, -1.5720533824738971, -1.5611954550274467, -1.55028660108612, -1.5394286736396696, -1.5287230501887654, -1.518269686205889, -1.5081661818717882, -1.49850687079945, -1.489381939250895, -1.480876584064289, -1.473070217140161, -1.4660357238822035, -1.4598387824318875, -1.45453724979955, -1.4501806197233682, -1.4468095532641583, -1.4444554601322448, -1.4431397912240895, -1.4425616538704005, -1.4414152179437318, -1.4393639291092686, -1.4364264790592827, -1.4326302373091124, -1.4280106347339938, -1.4226107987493728, -1.4164811442847567, -1.4096789013776672, -1.4022675802659799, -1.39431637818861, -1.3858995332122224, -1.3770956310434725, -1.3679868712709886, -1.358658299876297, -1.3491970151741868, -1.339691354593781, -1.3302300698916707, -1.3209014984969791, -1.3117927387244952, -1.3029888365557454, -1.2945719915793577, -1.2866207895019879, -1.2792094683903006, -1.272407225483211, -1.266277571018595, -1.260877735033974, -1.2562581324588553, -1.252461890708685, -1.2495244406586992, -1.247473151824236, -1.2463267158975673, -1.2458230878925636, -1.2448247308246958, -1.2430383957505016, -1.2404803600585865, -1.2371744580936768, -1.2331515443186247, -1.2284491756164868, -1.2231112550960448, -1.2171876207038637, -1.21073357940773, -1.2038093906176477, -1.1964797034752168, -1.188812953201149, -1.1808807221127584, -1.1727570712672533, -1.1645178489664407, -1.156239982576841, -1.1480007602760285, -1.1398771094305233, -1.1319448783421326, -1.124278128068065, -1.116948440925634, -1.1100242521355517, -1.103570210839418, -1.097646576447237, -1.092308655926795, -1.087606287224657, -1.083583373449605, -1.0802774714846952, -1.0777194357927802, -1.075933100718586, -1.0749347436507182, -1.0744947040532327, -1.0736190711192952, -1.0720523232368437, -1.0698087368786964, -1.0669092165266982, -1.0633808238251274, -1.0592564989361348, -1.0545747481308618, -1.0493792829718116, -1.0437186117572963, -1.0376455864434713, -1.0312169091055343, -1.0244926024898808, -1.0175354495792173, -1.0104104073943347, -1.0031840005016266, -0.9959236998869895, -0.9886972929942812, -0.9815722508093986, -0.9746150978987352, -0.9678907912830815, -0.9614621139451448, -0.9553890886313198, -0.9497284174168044, -0.9445329522577541, -0.9398512014524812, -0.9357268765634885, -0.9321984838619177, -0.9292989635099197, -0.9270553771517722, -0.9254886292693209, -0.9246129963353834, -0.9242288141745852, -0.9234683363304901, -0.9221076325404561, -0.9201591017685344, -0.9176408993337742, -0.9145765279849879, -0.9109945959009291, -0.9069285453665176, -0.9024163394065849, -0.8975001069597437, -0.8922257493850173, -0.8866425118286662, -0.880802523404393, -0.8747603104616356, -0.8685722874786701, -0.8622962303303746, -0.8559907368468503, -0.8497146796985549, -0.8435266567155894, -0.8374844437728319, -0.8316444553485588, -0.8260612177922076, -0.8207868602174813, -0.81587062777064, -0.8113584218107074, -0.8072923712762958, -0.8037104391922371, -0.8006460678434507, -0.7981278654086905, -0.7961793346367688, -0.7948186308467349, -0.7940581530026397, -0.7937244949022416, -0.7930640280228621, -0.7918822713248311, -0.790189993175903, -0.7880029612766228, -0.7853415875131293, -0.7822307177828973, -0.7786993963529383, -0.7747805937045583, -0.7705108983706553, -0.7659301751909339, -0.7610811930485739, -0.7560092255216546, -0.7507616281618684, -0.7453873963406235, -0.7399367077877251, -0.7344604540923049, -0.7290097655394066, -0.7236355337181616, -0.7183879363583754, -0.7133159688314561, -0.7084669866890961, -0.7038862635093747, -0.6996165681754717, -0.6956977655270917, -0.6921664440971327, -0.6890555743669007, -0.6863942006034072, -0.684207168704127, -0.6825148905551989, -0.6813331338571679, -0.6806726669777884, -0.6803828884838313, -0.6798092800583599, -0.6787829369970928, -0.6773132115123293, -0.6754137976834625, -0.6731024230154359, -0.6704006659046455, -0.6673337509865572, -0.6639303127717866, -0.6602221280100865, -0.6562438188886526, -0.6520325297254002, -0.647627580138993, -0.6430700979199258, -0.6384026350245889, -0.6336687702750039, -0.6289127024723866, -0.6241788377228016, -0.6195113748274648, -0.6149538926083975, -0.6105489430219904, -0.606337653858738, -0.602359344737304, -0.5986511599756039, -0.5952477217608333, -0.592180806842745, -0.5894790497319546, -0.587167675063928, -0.5852682612350613, -0.5837985357502977, -0.5827721926890306, -0.5821985842635592, -0.5819469147387977, -0.581448741952176, -0.5805573739733305, -0.5792809330986837, -0.5776313124898221, -0.5756239082953123, -0.5732774611217877, -0.5706138782955419, -0.5676580285829902, -0.5644375097516535, -0.5609823908010588, -0.5573249311743058, -0.5534992795399443, -0.5495411549444322, -0.5454875133070867, -0.5413762023690497, -0.5372456083167673, -0.5331342973787303, -0.5290806557413847, -0.5251225311458727, -0.5212968795115112, -0.5176394198847581, -0.5141843009341635, -0.5109637821028268, -0.5080079323902751, -0.5053443495640293, -0.5029979023905047, -0.5009904981959948, -0.4993408775871333, -0.4980644367124865, -0.497173068733641, -0.49667489594701936, -0.4964563236546839, -0.49602366591412433, -0.49524952235170744, -0.4941409470950627, -0.4927082692279103, -0.4909648601407213, -0.48892699585005206, -0.4866137026346361, -0.4840465787523004, -0.4812495925691634, -0.47824885868992784, -0.4750723940961271, -0.47174985654140533, -0.4683122676358355, -0.46479172320034834, -0.46122109359359753, -0.4576337168082282, -0.45406308720147737, -0.4505425427659902, -0.4471049538604204, -0.4437824163056986, -0.44060595171189787, -0.4376052178326623, -0.4348082316495253, -0.4322411077671896, -0.42992781455177365, -0.4278899502611044, -0.4261465411739154, -0.42471386330676303, -0.42360528805011827, -0.42283114448770137, -0.4223984867471418, -0.4222086590474152, -0.421832900424116, -0.4211605650144374, -0.42019777925282886, -0.4189535138381012, -0.417439381679961, -0.41566951832482435, -0.41366044789241285, -0.41143092823880045, -0.4090017756337799, -0.4063956703324147, -0.4036369447837127, -0.4007513564297227, -0.3977658472072248, -0.3947082919936475, -0.3916072383441531, -0.38849163994902747, -0.3853905862995331, -0.3823330310859558, -0.3793475218634579, -0.3764619335094679, -0.3737032079607659, -0.3710971026594007, -0.36866795005438013, -0.36643843040076773, -0.36442935996835624, -0.3626594966132196, -0.3611453644550794, -0.3599010990403517, -0.3589383132787432, -0.3582659778690646, -0.35789021924576536, -0.35772535591748866, -0.35739901356937503, -0.3568150974521933, -0.35597892830878164, -0.3548982970951756, -0.35358328949933315, -0.35204618209223165, -0.3503013258952345, -0.34836501190585223, -0.3462553188319094, -0.34399194423251517, -0.34159602057956023, -0.3390899179361607, -0.3364970350864465, -0.3338415810635292, -0.3311483491139423, -0.3284424852082334, -0.3257492532586465, -0.3230937992357292, -0.32050091638601497, -0.31799481374261546, -0.3155988900896605, -0.3133355154902663, -0.31122582241632346, -0.3092895084269412, -0.30754465222994404, -0.30600754482284254, -0.30469253722700007, -0.30361190601339405, -0.3027757368699824, -0.30219182075280066, -0.301865478404687, -0.3017222963661878, -0.3014388715248968, -0.30093174661819644, -0.30020554265437205, -0.2992670259954683, -0.29812495595367783, -0.29678999459967886, -0.29527460564213737, -0.29359293763826816, -0.2917606917525862, -0.28979497510464425, -0.28771414102040926, -0.28553761766059943, -0.2832857266191384, -0.2809794931825301, -0.27864045002039123, -0.2762904361393745, -0.2739513929772356, -0.2716451595406273, -0.2693932684991663, -0.26721674513935645, -0.26513591105512146, -0.26317019440717954, -0.26133794852149755, -0.25965628051762835, -0.25814089156008685, -0.2568059302060879, -0.25566386016429743, -0.25472534350539366, -0.2539991395415693, -0.2534920146348689, -0.2532085897935779, -0.25308423772351424, -0.25283808627818344, -0.2523976537170185, -0.2517669533363245, -0.2509518616492164, -0.24995998602471134, -0.24880058635723376, -0.24748448724454433, -0.24602397655736002, -0.24443269058924322, -0.24272548669067953, -0.24091830452910523, -0.23902801725445016, -0.23707227395383357, -0.2350693348638595, -0.2330379008779424, -0.23099693893993822, -0.22896550495402113, -0.22696256586404706, -0.22500682256343046, -0.2231165352887754, -0.2213093531272011, -0.2196021492286374, -0.2180108632605206, -0.2165503525733363, -0.21523425346064687, -0.2140748537931693, -0.2130829781686642, -0.21226788648155612, -0.21163718610086213, -0.21119675353969722, -0.2109506020943664, -0.21084260365062862, -0.21062882375129985, -0.2102463127794045, -0.20969855623988812, -0.20899065782158113, -0.208129224443165, -0.2071222982239749, -0.20597928021146936, -0.2047108422900296, -0.20332882743486566, -0.20184613909607452, -0.20027662070445656, -0.19863492641038052, -0.19693638425737073, -0.1951968530657468, -0.19343257436155842, -0.19166002073282, -0.18989574202863163, -0.1881562108370077, -0.1864576686839979, -0.18481597438992187, -0.18324645599830391, -0.18176376765951277, -0.18038175280434884, -0.17911331488290907, -0.17797029687040353, -0.17696337065121343, -0.1761019372727973, -0.17539403885449031, -0.17484628231497393, -0.17446377134307858, -0.1742499914437498, -0.1741561959496836, -0.17397053039206076, -0.17363832370136253, -0.17316260300138006, -0.17254780079131274, -0.17179965510941872, -0.17092515045038395, -0.16993245152344494, -0.16883082674612246, -0.16763056161580517, -0.16634286264098627, -0.16497975269335313, -0.16355395874587303, -0.16207879304051603, -0.1605680287932259, -0.15903577159578244, -0.15749632771481223, -0.15596407051736877, -0.15445330627007864, -0.15297814056472164, -0.15155234661724154, -0.1501892366696084, -0.1489015376947895, -0.1477012725644722, -0.14659964778714973, -0.14560694886021072, -0.14473244420117595, -0.14398429851928193, -0.1433694963092146, -0.14289377560923214, -0.14256156891853392, -0.14237590336091108, -0.14229444297682917, -0.14213319442448336, -0.1418446764643375, -0.14143151812104937, -0.14089756897279782, -0.1402478124444801, -0.1394883144950786, -0.13862616608729833, -0.13766941674269245, -0.1366269993058085, -0.13550864650949423, -0.1343248000893061, -0.1330865132852364, -0.1318053476371509, -0.1304932650358845, -0.12916251603713302, -0.12782552548055204, -0.12649477648180057, -0.12518269388053416, -0.12390152823244865, -0.12266324142837895, -0.12147939500819083, -0.12036104221187657, -0.11931862477499261, -0.11836187543038673, -0.11749972702260646, -0.11674022907320497, -0.11609047254488725, -0.11555652339663569, -0.11514336505334757, -0.11485484709320172, -0.1146935985408559, -0.11462285106795396, -0.11448280842371489, -0.11423223365909539, -0.11387341005391093, -0.11340968092566435, -0.1128453743256146, -0.1121857584743031, -0.11143699179704873, -0.11060606521728474, -0.1097007368150237, -0.10872945936471752, -0.10770130140209254, -0.1066258625479417, -0.10551318387606519, -0.10437365416080077, -0.10321791287883271, -0.10205675087060133, -0.10090100958863327, -0.09976147987336885, -0.09864880120149234, -0.0975733623473415, -0.09654520438471652, -0.09557392693441034, -0.0946685985321493, -0.09383767195238531, -0.09308890527513095, -0.09242928942381944, -0.09186498282376969, -0.09140125369552311, -0.09104243009033865, -0.09079185532571915, -0.09065181268148008, -0.09059036925743512, -0.09046874371773163, -0.09025112221287845, -0.08993948774699095, -0.08953674395558596, -0.08904664970492236, -0.08847378038823199, -0.08782348453208128, -0.08710183367875082, -0.08631556563781084, -0.08547202155352705, -0.0845790773522505, -0.0836450702020362, -0.08267872066815757, -0.08168905129008863, -0.08068530233961171, -0.07967684554631346, -0.07867309659583654, -0.07768342721776761, -0.07671707768388898, -0.07578307053367468, -0.07489012633239812, -0.07404658224811433, -0.07326031420717435, -0.0725386633538439, -0.07188836749769319, -0.07131549818100281, -0.07082540393033922, -0.07042266013893422, -0.07011102567304672, -0.06989340416819355, -0.06977177862849006, -0.0697184156714329, -0.06961278519017094, -0.06942378323921038, -0.06915313203643045, -0.06880335335824259, -0.06837771173981673, -0.06788018086127155, -0.06731540586076332, -0.06668865980786824, -0.06600579441818236, -0.06527318539703601, -0.06449767290228484, -0.06368649767527443, -0.06284723343373674, -0.06198771615676931, -0.06111597092165227, -0.06024013697536374, -0.0593683917402467, -0.058508874463279265, -0.05766961022174158, -0.05685843499473118, -0.056082922499979995, -0.05535031347883366, -0.05466744808914776, -0.0540407020362527, -0.053475927035744455, -0.05297839615719928, -0.05255275453877342, -0.05220297586058555, -0.051932324657805624, -0.05174332270684506, -0.05163769222558311, -0.05159134706773839, -0.051499608123772904, -0.05133546194947366, -0.05110040427266119, -0.050796625229195314, -0.05042696003297878, -0.04999485978272278, -0.04950435873126736, -0.048960036483179335, -0.04836697519090891, -0.04773071208639008, -0.04705718777361073, -0.04635269075903832, -0.04562379873557284, -0.044877317167307196, -0.04412021574808472, -0.04335956332691121, -0.04260246190768874, -0.041855980339423095, -0.04112708831595761, -0.0404225913013852, -0.039749066988605856, -0.03911280388408702, -0.0385197425918166, -0.037975420343728576, -0.037484919292273156, -0.037052819042017154, -0.03668315384580062, -0.036379374802334746, -0.036144317125522275, -0.03598017095122303, -0.03588843200725755, -0.03584818173302047, -0.03576850744072001, -0.03562594824278505, -0.03542180316284092, -0.03515797431047306, -0.034836924038652364, -0.03446164958972313, -0.03403565466915761, -0.03356291661457389, -0.03304784922105541, -0.032495261515353195, -0.03191031284853579, -0.03129846472125671, -0.03066542978949523, -0.030017118526077174, -0.029359584035611296, -0.02869896553790512, -0.028041431047439242, -0.027393119784021185, -0.026760084852259707, -0.026148236724980626, -0.02556328805816322, -0.025010700352461012, -0.024495632958942522, -0.024022894904358806, -0.02359689998379329, -0.023221625534864048, -0.022900575263043357, -0.02263674641067549, -0.022432601330731366, -0.02229004213279641, -0.02221036784049595, -0.022175410907528146, -0.022106214636248123, -0.021982403496557428, -0.0218051056765903, -0.02157597313819136, -0.021297144408597476, -0.020971222560749216, -0.02060125052540059, -0.020190682577761906, -0.01974335205168715, -0.01926343553550927, -0.018755413870486584, -0.0182240303115625, -0.017674246239396424, -0.017111194836464665, -0.016540133159422512, -0.01596639305505496, -0.015395331378012807, -0.014832279975081047, -0.014282495902914971, -0.013751112343990887, -0.013243090678968202, -0.012763174162790323, -0.012315843636715566, -0.011905275689076882, -0.011535303653728256, -0.011209381805879997, -0.010930553076286112, -0.010701420537887172, -0.010524122717920045, -0.010400311578229347, -0.010331115306949325, -0.010300755584297059, -0.010240659362281022, -0.010133130710790536, -0.009979149449161779, -0.009780150288600128, -0.00953799051715358, -0.009254930875848593, -0.008933614117521254, -0.008577040243271383, -0.008188538462579333, -0.007771736097771632, -0.007330524711588544, -0.006869023770251073, -0.0063915421798331805, -0.005902538054450534, -0.005406577091619241, -0.004908289943283678, -0.004412328980452385, -0.003923324855069739, -0.0034458432646518465, -0.0029843423233143758, -0.0025431309371312873, -0.0021263285723235868, -0.0017378267916315353, -0.0013812529173816651, -0.0010599361590543266, -0.0007768765177493386, -0.0005347167463027918, -0.0003357175857411414, -0.00018173632411238222, -7.420767262189644e-5, -1.411145060586143e-5, 1.411145060586143e-5, 7.420767262189644e-5, 0.00018173632411238222, 0.0003357175857411414, 0.0005347167463027918, 0.0007768765177493386, 0.0010599361590543266, 0.0013812529173816651, 0.0017378267916315353, 0.0021263285723235868, 0.0025431309371312873, 0.0029843423233143758, 0.0034458432646518465, 0.003923324855069739, 0.004412328980452385, 0.004908289943283678, 0.005406577091619241, 0.005902538054450534, 0.0063915421798331805, 0.006869023770251073, 0.007330524711588544, 0.007771736097771632, 0.008188538462579333, 0.008577040243271383, 0.008933614117521254, 0.009254930875848593, 0.00953799051715358, 0.009780150288600128, 0.009979149449161779, 0.010133130710790536, 0.010240659362281022, 0.010300755584297059, 0.010331115306949325, 0.010400311578229347, 0.010524122717920045, 0.010701420537887172, 0.010930553076286112, 0.011209381805879997, 0.011535303653728256, 0.011905275689076882, 0.012315843636715566, 0.012763174162790323, 0.013243090678968202, 0.013751112343990887, 0.014282495902914971, 0.014832279975081047, 0.015395331378012807, 0.01596639305505496, 0.016540133159422512, 0.017111194836464665, 0.017674246239396424, 0.0182240303115625, 0.018755413870486584, 0.01926343553550927, 0.01974335205168715, 0.020190682577761906, 0.02060125052540059, 0.020971222560749216, 0.021297144408597476, 0.02157597313819136, 0.0218051056765903, 0.021982403496557428, 0.022106214636248123, 0.022175410907528146, 0.02221036784049595, 0.02229004213279641, 0.022432601330731366, 0.02263674641067549, 0.022900575263043357, 0.023221625534864048, 0.02359689998379329, 0.024022894904358806, 0.024495632958942522, 0.025010700352461012, 0.02556328805816322, 0.026148236724980626, 0.026760084852259707, 0.027393119784021185, 0.028041431047439242, 0.02869896553790512, 0.029359584035611296, 0.030017118526077174, 0.03066542978949523, 0.03129846472125671, 0.03191031284853579, 0.032495261515353195, 0.03304784922105541, 0.03356291661457389, 0.03403565466915761, 0.03446164958972313, 0.034836924038652364, 0.03515797431047306, 0.03542180316284092, 0.03562594824278505, 0.03576850744072001, 0.03584818173302047, 0.03588843200725755, 0.03598017095122303, 0.036144317125522275, 0.036379374802334746, 0.03668315384580062, 0.037052819042017154, 0.037484919292273156, 0.037975420343728576, 0.0385197425918166, 0.03911280388408702, 0.039749066988605856, 0.0404225913013852, 0.04112708831595761, 0.041855980339423095, 0.04260246190768874, 0.04335956332691121, 0.04412021574808472, 0.044877317167307196, 0.04562379873557284, 0.04635269075903832, 0.04705718777361073, 0.04773071208639008, 0.04836697519090891, 0.048960036483179335, 0.04950435873126736, 0.04999485978272278, 0.05042696003297878, 0.050796625229195314, 0.05110040427266119, 0.05133546194947366, 0.051499608123772904, 0.05159134706773839, 0.05163769222558311, 0.05174332270684506, 0.051932324657805624, 0.05220297586058555, 0.05255275453877342, 0.05297839615719928, 0.053475927035744455, 0.0540407020362527, 0.05466744808914776, 0.05535031347883366, 0.056082922499979995, 0.05685843499473118, 0.05766961022174158, 0.058508874463279265, 0.0593683917402467, 0.06024013697536374, 0.06111597092165227, 0.06198771615676931, 0.06284723343373674, 0.06368649767527443, 0.06449767290228484, 0.06527318539703601, 0.06600579441818236, 0.06668865980786824, 0.06731540586076332, 0.06788018086127155, 0.06837771173981673, 0.06880335335824259, 0.06915313203643045, 0.06942378323921038, 0.06961278519017094, 0.0697184156714329, 0.06977177862849006, 0.06989340416819355, 0.07011102567304672, 0.07042266013893422, 0.07082540393033922, 0.07131549818100281, 0.07188836749769319, 0.0725386633538439, 0.07326031420717435, 0.07404658224811433, 0.07489012633239812, 0.07578307053367468, 0.07671707768388898, 0.07768342721776761, 0.07867309659583654, 0.07967684554631346, 0.08068530233961171, 0.08168905129008863, 0.08267872066815757, 0.0836450702020362, 0.0845790773522505, 0.08547202155352705, 0.08631556563781084, 0.08710183367875082, 0.08782348453208128, 0.08847378038823199, 0.08904664970492236, 0.08953674395558596, 0.08993948774699095, 0.09025112221287845, 0.09046874371773163, 0.09059036925743512, 0.09065181268148008, 0.09079185532571915, 0.09104243009033865, 0.09140125369552311, 0.09186498282376969, 0.09242928942381944, 0.09308890527513095, 0.09383767195238531, 0.0946685985321493, 0.09557392693441034, 0.09654520438471652, 0.0975733623473415, 0.09864880120149234, 0.09976147987336885, 0.10090100958863327, 0.10205675087060133, 0.10321791287883271, 0.10437365416080077, 0.10551318387606519, 0.1066258625479417, 0.10770130140209254, 0.10872945936471752, 0.1097007368150237, 0.11060606521728474, 0.11143699179704873, 0.1121857584743031, 0.1128453743256146, 0.11340968092566435, 0.11387341005391093, 0.11423223365909539, 0.11448280842371489, 0.11462285106795396, 0.1146935985408559, 0.11485484709320172, 0.11514336505334757, 0.11555652339663569, 0.11609047254488725, 0.11674022907320497, 0.11749972702260646, 0.11836187543038673, 0.11931862477499261, 0.12036104221187657, 0.12147939500819083, 0.12266324142837895, 0.12390152823244865, 0.12518269388053416, 0.12649477648180057, 0.12782552548055204, 0.12916251603713302, 0.1304932650358845, 0.1318053476371509, 0.1330865132852364, 0.1343248000893061, 0.13550864650949423, 0.1366269993058085, 0.13766941674269245, 0.13862616608729833, 0.1394883144950786, 0.1402478124444801, 0.14089756897279782, 0.14143151812104937, 0.1418446764643375, 0.14213319442448336, 0.14229444297682917, 0.14237590336091108, 0.14256156891853392, 0.14289377560923214, 0.1433694963092146, 0.14398429851928193, 0.14473244420117595, 0.14560694886021072, 0.14659964778714973, 0.1477012725644722, 0.1489015376947895, 0.1501892366696084, 0.15155234661724154, 0.15297814056472164, 0.15445330627007864, 0.15596407051736877, 0.15749632771481223, 0.15903577159578244, 0.1605680287932259, 0.16207879304051603, 0.16355395874587303, 0.16497975269335313, 0.16634286264098627, 0.16763056161580517, 0.16883082674612246, 0.16993245152344494, 0.17092515045038395, 0.17179965510941872, 0.17254780079131274, 0.17316260300138006, 0.17363832370136253, 0.17397053039206076, 0.1741561959496836, 0.1742499914437498, 0.17446377134307858, 0.17484628231497393, 0.17539403885449031, 0.1761019372727973, 0.17696337065121343, 0.17797029687040353, 0.17911331488290907, 0.18038175280434884, 0.18176376765951277, 0.18324645599830391, 0.18481597438992187, 0.1864576686839979, 0.1881562108370077, 0.18989574202863163, 0.19166002073282, 0.19343257436155842, 0.1951968530657468, 0.19693638425737073, 0.19863492641038052, 0.20027662070445656, 0.20184613909607452, 0.20332882743486566, 0.2047108422900296, 0.20597928021146936, 0.2071222982239749, 0.208129224443165, 0.20899065782158113, 0.20969855623988812, 0.2102463127794045, 0.21062882375129985, 0.21084260365062862, 0.2109506020943664, 0.21119675353969722, 0.21163718610086213, 0.21226788648155612, 0.2130829781686642, 0.2140748537931693, 0.21523425346064687, 0.2165503525733363, 0.2180108632605206, 0.2196021492286374, 0.2213093531272011, 0.2231165352887754, 0.22500682256343046, 0.22696256586404706, 0.22896550495402113, 0.23099693893993822, 0.2330379008779424, 0.2350693348638595, 0.23707227395383357, 0.23902801725445016, 0.24091830452910523, 0.24272548669067953, 0.24443269058924322, 0.24602397655736002, 0.24748448724454433, 0.24880058635723376, 0.24995998602471134, 0.2509518616492164, 0.2517669533363245, 0.2523976537170185, 0.25283808627818344, 0.25308423772351424, 0.2532085897935779, 0.2534920146348689, 0.2539991395415693, 0.25472534350539366, 0.25566386016429743, 0.2568059302060879, 0.25814089156008685, 0.25965628051762835, 0.26133794852149755, 0.26317019440717954, 0.26513591105512146, 0.26721674513935645, 0.2693932684991663, 0.2716451595406273, 0.2739513929772356, 0.2762904361393745, 0.27864045002039123, 0.2809794931825301, 0.2832857266191384, 0.28553761766059943, 0.28771414102040926, 0.28979497510464425, 0.2917606917525862, 0.29359293763826816, 0.29527460564213737, 0.29678999459967886, 0.29812495595367783, 0.2992670259954683, 0.30020554265437205, 0.30093174661819644, 0.3014388715248968, 0.3017222963661878, 0.301865478404687, 0.30219182075280066, 0.3027757368699824, 0.30361190601339405, 0.30469253722700007, 0.30600754482284254, 0.30754465222994404, 0.3092895084269412, 0.31122582241632346, 0.3133355154902663, 0.3155988900896605, 0.31799481374261546, 0.32050091638601497, 0.3230937992357292, 0.3257492532586465, 0.3284424852082334, 0.3311483491139423, 0.3338415810635292, 0.3364970350864465, 0.3390899179361607, 0.34159602057956023, 0.34399194423251517, 0.3462553188319094, 0.34836501190585223, 0.3503013258952345, 0.35204618209223165, 0.35358328949933315, 0.3548982970951756, 0.35597892830878164, 0.3568150974521933, 0.35739901356937503, 0.35772535591748866, 0.35789021924576536, 0.3582659778690646, 0.3589383132787432, 0.3599010990403517, 0.3611453644550794, 0.3626594966132196, 0.36442935996835624, 0.36643843040076773, 0.36866795005438013, 0.3710971026594007, 0.3737032079607659, 0.3764619335094679, 0.3793475218634579, 0.3823330310859558, 0.3853905862995331, 0.38849163994902747, 0.3916072383441531, 0.3947082919936475, 0.3977658472072248, 0.4007513564297227, 0.4036369447837127, 0.4063956703324147, 0.4090017756337799, 0.41143092823880045, 0.41366044789241285, 0.41566951832482435, 0.417439381679961, 0.4189535138381012, 0.42019777925282886, 0.4211605650144374, 0.421832900424116, 0.4222086590474152, 0.4223984867471418, 0.42283114448770137, 0.42360528805011827, 0.42471386330676303, 0.4261465411739154, 0.4278899502611044, 0.42992781455177365, 0.4322411077671896, 0.4348082316495253, 0.4376052178326623, 0.44060595171189787, 0.4437824163056986, 0.4471049538604204, 0.4505425427659902, 0.45406308720147737, 0.4576337168082282, 0.46122109359359753, 0.46479172320034834, 0.4683122676358355, 0.47174985654140533, 0.4750723940961271, 0.47824885868992784, 0.4812495925691634, 0.4840465787523004, 0.4866137026346361, 0.48892699585005206, 0.4909648601407213, 0.4927082692279103, 0.4941409470950627, 0.49524952235170744, 0.49602366591412433, 0.4964563236546839, 0.49667489594701936, 0.497173068733641, 0.4980644367124865, 0.4993408775871333, 0.5009904981959948, 0.5029979023905047, 0.5053443495640293, 0.5080079323902751, 0.5109637821028268, 0.5141843009341635, 0.5176394198847581, 0.5212968795115112, 0.5251225311458727, 0.5290806557413847, 0.5331342973787303, 0.5372456083167673, 0.5413762023690497, 0.5454875133070867, 0.5495411549444322, 0.5534992795399443, 0.5573249311743058, 0.5609823908010588, 0.5644375097516535, 0.5676580285829902, 0.5706138782955419, 0.5732774611217877, 0.5756239082953123, 0.5776313124898221, 0.5792809330986837, 0.5805573739733305, 0.581448741952176, 0.5819469147387977, 0.5821985842635592, 0.5827721926890306, 0.5837985357502977, 0.5852682612350613, 0.587167675063928, 0.5894790497319546, 0.592180806842745, 0.5952477217608333, 0.5986511599756039, 0.602359344737304, 0.606337653858738, 0.6105489430219904, 0.6149538926083975, 0.6195113748274648, 0.6241788377228016, 0.6289127024723866, 0.6336687702750039, 0.6384026350245889, 0.6430700979199258, 0.647627580138993, 0.6520325297254002, 0.6562438188886526, 0.6602221280100865, 0.6639303127717866, 0.6673337509865572, 0.6704006659046455, 0.6731024230154359, 0.6754137976834625, 0.6773132115123293, 0.6787829369970928, 0.6798092800583599, 0.6803828884838313, 0.6806726669777884, 0.6813331338571679, 0.6825148905551989, 0.684207168704127, 0.6863942006034072, 0.6890555743669007, 0.6921664440971327, 0.6956977655270917, 0.6996165681754717, 0.7038862635093747, 0.7084669866890961, 0.7133159688314561, 0.7183879363583754, 0.7236355337181616, 0.7290097655394066, 0.7344604540923049, 0.7399367077877251, 0.7453873963406235, 0.7507616281618684, 0.7560092255216546, 0.7610811930485739, 0.7659301751909339, 0.7705108983706553, 0.7747805937045583, 0.7786993963529383, 0.7822307177828973, 0.7853415875131293, 0.7880029612766228, 0.790189993175903, 0.7918822713248311, 0.7930640280228621, 0.7937244949022416, 0.7940581530026397, 0.7948186308467349, 0.7961793346367688, 0.7981278654086905, 0.8006460678434507, 0.8037104391922371, 0.8072923712762958, 0.8113584218107074, 0.81587062777064, 0.8207868602174813, 0.8260612177922076, 0.8316444553485588, 0.8374844437728319, 0.8435266567155894, 0.8497146796985549, 0.8559907368468503, 0.8622962303303746, 0.8685722874786701, 0.8747603104616356, 0.880802523404393, 0.8866425118286662, 0.8922257493850173, 0.8975001069597437, 0.9024163394065849, 0.9069285453665176, 0.9109945959009291, 0.9145765279849879, 0.9176408993337742, 0.9201591017685344, 0.9221076325404561, 0.9234683363304901, 0.9242288141745852, 0.9246129963353834, 0.9254886292693209, 0.9270553771517722, 0.9292989635099197, 0.9321984838619177, 0.9357268765634885, 0.9398512014524812, 0.9445329522577541, 0.9497284174168044, 0.9553890886313198, 0.9614621139451448, 0.9678907912830815, 0.9746150978987352, 0.9815722508093986, 0.9886972929942812, 0.9959236998869895, 1.0031840005016266, 1.0104104073943347, 1.0175354495792173, 1.0244926024898808, 1.0312169091055343, 1.0376455864434713, 1.0437186117572963, 1.0493792829718116, 1.0545747481308618, 1.0592564989361348, 1.0633808238251274, 1.0669092165266982, 1.0698087368786964, 1.0720523232368437, 1.0736190711192952, 1.0744947040532327, 1.0749347436507182, 1.075933100718586, 1.0777194357927802, 1.0802774714846952, 1.083583373449605, 1.087606287224657, 1.092308655926795, 1.097646576447237, 1.103570210839418, 1.1100242521355517, 1.116948440925634, 1.124278128068065, 1.1319448783421326, 1.1398771094305233, 1.1480007602760285, 1.156239982576841, 1.1645178489664407, 1.1727570712672533, 1.1808807221127584, 1.188812953201149, 1.1964797034752168, 1.2038093906176477, 1.21073357940773, 1.2171876207038637, 1.2231112550960448, 1.2284491756164868, 1.2331515443186247, 1.2371744580936768, 1.2404803600585865, 1.2430383957505016, 1.2448247308246958, 1.2458230878925636, 1.2463267158975673, 1.247473151824236, 1.2495244406586992, 1.252461890708685, 1.2562581324588553, 1.260877735033974, 1.266277571018595, 1.272407225483211, 1.2792094683903006, 1.2866207895019879, 1.2945719915793577, 1.3029888365557454, 1.3117927387244952, 1.3209014984969791, 1.3302300698916707, 1.339691354593781, 1.3491970151741868, 1.358658299876297, 1.3679868712709886, 1.3770956310434725, 1.3858995332122224, 1.39431637818861, 1.4022675802659799, 1.4096789013776672, 1.4164811442847567, 1.4226107987493728, 1.4280106347339938, 1.4326302373091124, 1.4364264790592827, 1.4393639291092686, 1.4414152179437318, 1.4425616538704005, 1.4431397912240895, 1.4444554601322448, 1.4468095532641583, 1.4501806197233682, 1.45453724979955, 1.4598387824318875, 1.4660357238822035, 1.473070217140161, 1.480876584064289, 1.489381939250895, 1.49850687079945, 1.5081661818717882, 1.518269686205889, 1.5287230501887654, 1.5394286736396696, 1.55028660108612, 1.5611954550274467, 1.5720533824738971, 1.5827590059248013, 1.5932123699076777, 1.6033158742417786, 1.6129751853141168, 1.6221001168626719, 1.6306054720492777, 1.6384118389734057, 1.6454463322313633, 1.6516432736816793, 1.6569448063140169, 1.6613014363901986, 1.6646725028494085, 1.667026595981322, 1.6683422648894772, 1.6690051221322273, 1.6705123533735933, 1.6732092041477595, 1.6770711002924104, 1.6820620588209527, 1.688135498393059, 1.6952347189469046, 1.7032934394501031, 1.7122364189768509, 1.7219801599565934, 1.7324336880593374, 1.7434994017263974, 1.7550739835115556, 1.767049364760362, 1.779313734636007, 1.791752584077787, 1.8042497749484896, 1.8166886243902696, 1.8289529942659146, 1.840928375514721, 1.8525029572998792, 1.8635686709669392, 1.8740221990696833, 1.8837659400494258, 1.8927089195761735, 1.900767640079372, 1.9078668606332176, 1.913940300205324, 1.9189312587338663, 1.922793154878517, 1.9254900056526834, 1.9269972368940493, 1.9277557144676123, 1.92947860023747, 1.9325613162101232, 1.936975772154028, 1.942680836639676, 1.9496232634721964, 1.957738239949341, 1.9669500015537769, 1.9771725418939032, 1.9883104165732817, 2.000259634661876, 2.0129086297775958, 2.026139301822073, 2.0398281196862054, 2.0538472746473717, 2.068065873697391, 2.0823511616634334, 2.096569760713453, 2.110588915674619, 2.1242777335387517, 2.1375084055832287, 2.1501574006989483, 2.162106618787543, 2.173244493466921, 2.1834670338070477, 2.1926787954114837, 2.200793771888628, 2.2077361987211486, 2.2134412632067964, 2.2178557191507013, 2.2209384351233545, 2.2226613208932124, 2.2235270091407178, 2.2254908168633865, 2.2290046083983817, 2.234036365480418, 2.2405392050135133, 2.2484524350524913, 2.2577021797273265, 2.268202079891728, 2.2798541023394434, 2.29254945608381, 2.3061696084890224, 2.320587392144116, 2.335668192271211, 2.3512712036293046, 2.367250745198274, 2.3834576203773885, 2.3997405100030758, 2.41594738518219, 2.4319269267511596, 2.4475299381092532, 2.4626107382363482, 2.477028521891442, 2.4906486742966543, 2.503344028041021, 2.5149960504887363, 2.525495950653138, 2.534745695327973, 2.542658925366951, 2.549161764900046, 2.5541935219820826, 2.557707313517078, 2.5596711212397465, 2.5606558864648727, 2.5628858835646713, 2.5668759610258647, 2.5725897605849095, 2.5799740442557937, 2.5889598934472726, 2.5994634185941905, 2.6113865547772854, 2.624617980626801, 2.639034158801508, 2.654500489854106, 2.6708725691392883, 2.6879975351723, 2.7057154969029904, 2.7238610266020444, 2.742264704431111, 2.760754700280746, 2.7791583781098126, 2.7973039078088666, 2.815021869539557, 2.8321468355725687, 2.848518914857751, 2.863985245910349, 2.878401424085056, 2.8916328499345716, 2.9035559861176665, 2.9140595112645844, 2.9230453604560633, 2.9304296441269475, 2.9361434436859923, 2.9401335211471857, 2.9423635182469843, 2.943478812812586, 2.945998503870277, 2.950506923410092, 2.956962989947426, 2.965306549468046, 2.9754597303199724, 2.987327745031431, 3.0007997892878495, 3.0157500802081985, 3.0320390319903177, 3.04951455967241, 3.06801349932323, 3.0873631315629018, 3.107382794250965, 3.127885569310133, 3.148680027948087, 3.1695720179884663, 3.1903664766264206, 3.2108692516855886, 3.2308889143736517, 3.2502385466133235, 3.2687374862641434, 3.2862130139462358, 3.302501965728355, 3.317452256648704, 3.3309243009051226, 3.342792315616581, 3.3529454964685073, 3.3612890559891273, 3.3677451225264616, 3.3722535420662765, 3.3747732331239675, 3.376029129590144, 3.3788579058848556, 3.3839193638290412, 3.391167382558222, 3.400534429090933, 3.4119330794223632, 3.4252569186996396, 3.4403815504744535, 3.457165762342587, 3.4754528458032037, 3.49507205995003, 3.5158402258733155, 3.53756343706776, 3.560038869945637, 3.583056677579694, 3.6064019490076586, 3.629856715811386, 3.6532019872393504, 3.6762197948734077, 3.6986952277512843, 3.720418438945729, 3.7411866048690148, 3.760805819015841, 3.7790929024764575, 3.795877114344591, 3.811001746119405, 3.8243255853966813, 3.8357242357281116, 3.8450912822608228, 3.8523393009900033, 3.857400758934189, 3.8602295352289007, 3.861633070589695, 3.8647815091827704, 3.8704149307999174, 3.878482002746521, 3.888907560561699, 3.9015943010012095, 3.9164237839359095, 3.933257555653702, 3.951938446220686, 3.9722920384894818, 3.9941282971929915, 4.0172433435197386, 4.041421358804292, 4.066436599635131, 4.092055505597591, 4.118038879987086, 4.14414412313922, 4.170127497528716, 4.195746403491175, 4.220761644322015, 4.244939659606568, 4.268054705933316, 4.289890964636825, 4.31024455690562, 4.328925447472605, 4.345759219190397, 4.360588702125097, 4.373275442564608, 4.383701000379785, 4.391768072326389, 4.397401493943536, 4.400549932536612, 4.4021027625553275, 4.405567337759653, 4.411766414626897, 4.4206435061157325, 4.432115900456584, 4.446076524127983, 4.462395044356239, 4.480919105208815, 4.501475755224294, 4.523873063924708, 4.547901914487585, 4.573337956507463, 4.599943700837011, 4.627470737033098, 4.655662052739454, 4.684254433366641, 4.712980919672162, 4.74157330029935, 4.7697646160057054, 4.7972916522017925, 4.823897396531341, 4.849333438551219, 4.8733622891140955, 4.89575959781451, 4.916316247829989, 4.934840308682565, 4.95115882891082, 4.965119452582219, 4.976591846923071, 4.985468938411906, 4.991668015279151, 4.995132590483476, 4.996827954126621, 5.000583398517876, 5.007302920271364, 5.016925289963552, 5.029360851739738, 5.044493542696982, 5.0621820879444, 5.082261340473032, 5.104543828642796, 5.128821508409477, 5.154867706500953, 5.182439237123246, 5.211278672674491, 5.24111674735719, 5.271674871285162, 5.3026677316291835, 5.333805956523788, 5.364798816867809, 5.395356940795781, 5.42519501547848, 5.454034451029726, 5.481605981652018, 5.507652179743495, 5.531929859510176, 5.55421234767994, 5.574291600208571, 5.59198014545599, 5.607112836413234, 5.619548398189419, 5.629170767881607, 5.635890289635095, 5.639645734026351, 5.641464590015929, 5.645455080214804, 5.652595163492529, 5.662819778197528, 5.676033657093174, 5.692113473129889, 5.710909109301883, 5.732245082376823, 5.755922187236918, 5.7817193587743185, 5.809395736686886, 5.838692914664666, 5.869337353223344, 5.901042933753809, 5.933513629982077, 5.96644627191546, 5.999533376478009, 6.032466018411393, 6.064936714639661, 6.096642295170126, 6.127286733728804, 6.1565839117065835, 6.184260289619151, 6.210057461156551, 6.233734566016646, 6.255070539091586, 6.2738661752635805, 6.2899459913002955, 6.303159870195942, 6.313384484900941, 6.320524568178666, 6.324515058377541, 6.326422083763063, 6.330553013831992, 6.337944382620448, 6.348528838720601, 6.362207762095125, 6.378853485366824, 6.398310608366253, 6.420397471967612, 6.44490786030018, 6.471612928170585, 6.5002633385262545, 6.530591590798937, 6.5623145186545555, 6.595135933929063, 6.628749392106757, 6.6628410535397835, 6.697092613703931, 6.7311842751369575, 6.764797733314651, 6.797619148589159, 6.829342076444777, 6.85967032871746, 6.888320739073129, 6.915025806943534, 6.939536195276102, 6.9616230588774615, 6.98108018187689, 6.997725905148589, 7.011404828523113, 7.021989284623267, 7.029380653411723, 7.033511583480651, 7.03545131019143, 7.039581065031321, 7.0469703310121545, 7.057551775887245, 7.0712268076761715, 7.087867795322473, 7.107319382867279, 7.1293999628659055, 7.153903378115022, 7.180600848526574, 7.209243107983137, 7.239562732019043, 7.271276634859625, 7.304088712604893, 7.337692607921085, 7.371774570446165, 7.406016386211972, 7.4400983487370524, 7.473702244053245, 7.506514321798512, 7.538228224639094, 7.568547848675, 7.597190108131563, 7.6238875785431155, 7.648390993792232, 7.670471573790858, 7.689923161335664, 7.706564148981966, 7.720239180770892, 7.730820625645983, 7.738209891626816, 7.742339646466707, 7.744234253627448, 7.748173033748648, 7.75522059349104, 7.765312714293221, 7.778355363422586, 7.794226811941817, 7.8127788881104046, 7.8338383826651565, 7.857208671853379, 7.882671555201221, 7.909989293553148, 7.938906829112721, 7.969154167009763, 8.00044889625372, 8.032498826575923, 8.065004716559647, 8.097663067595247, 8.130168957578972, 8.162218887901174, 8.19351361714513, 8.223760955042174, 8.252678490601747, 8.279996228953674, 8.305459112301516, 8.328829401489738, 8.34988889604449, 8.368440972213078, 8.384312420732309, 8.397355069861673, 8.407447190663854, 8.414494750406247, 8.418433530527446, 8.420184500221556, 8.423702548347114, 8.429997302961123, 8.43901140519037, 8.450660866675902, 8.464836961302879, 8.481407344716477, 8.500217309493337, 8.521091234805867, 8.54383422788412, 8.568233944356296, 8.594062571149546, 8.621078953663286, 8.64903084743974, 8.677657273344414, 8.70669095428318, 8.735860810713158, 8.764894491651924, 8.793520917556599, 8.821472811333052, 8.848489193846792, 8.874317820640043, 8.898717537112217, 8.92146053019047, 8.942334455503001, 8.961144420279862, 8.977714803693459, 8.991890898320436, 9.003540359805967, 9.012554462035215, 9.018849216649224, 9.022367264774783, 9.02386228105813, 9.026711036246489, 9.031808241920235, 9.039107451475505, 9.04854065496337, 9.060019810926555, 9.07343775293242, 9.088669205953671, 9.105571960240482, 9.12398820050161, 9.143745979933229, 9.16466082588173, 9.186537462331808, 9.209171633206745, 9.232352009486327, 9.255862162349386, 9.27948258392489, 9.30299273678795, 9.326173113067531, 9.348807283942469, 9.370683920392546, 9.391598766341048, 9.411356545772666, 9.429772786033794, 9.446675540320605, 9.461906993341856, 9.475324935347722, 9.486804091310907, 9.496237294798771, 9.503536504354042, 9.508633710027787, 9.511482465216146, 9.512608660223501, 9.514556014739636, 9.518040366967934, 9.523029966899074, 9.529478324233807, 9.537325255517223, 9.546497503827338, 9.556909433553496, 9.56846383283289, 9.581052822153305, 9.594558861971041, 9.608855850311251, 9.623810300227825, 9.639282586176575, 9.655128247684525, 9.671199338152384, 9.687345806201314, 9.703416896669173, 9.719262558177123, 9.734734844125873, 9.749689294042447, 9.763986282382657, 9.777492322200393, 9.790081311520808, 9.801635710800202, 9.81204764052636, 9.821219888836476, 9.829066820119891, 9.835515177454624, 9.840504777385764, 9.843989129614062, 9.845936484130197, 9.846603894722033, 9.847498831634548, 9.849100119638079, 9.851393167524357, 9.854356609956705, 9.857962788696788, 9.862178037392113, 9.86696300087218, 9.872273003920615, 9.878058468837633, 9.884265378506434, 9.890835780812452, 9.89770832976325, 9.904818858278622, 9.912100977311997, 9.919486695713491, 9.926907055049195, 9.93429277345069, 9.941574892484065, 9.948685420999437, 9.955557969950235, 9.962128372256252, 9.968335281925054, 9.974120746842072, 9.979430749890506, 9.984215713370574, 9.988430962065898, 9.992037140805982, 9.99500058323833, 9.997293631124608, 9.998894919128139, 9.999789856040653], 0.0), 0x0000000000006d9f), Union{Ptr{Nothing}, Base.InterpreterIP}[Ptr{Nothing} @0x0000000106008691, Ptr{Nothing} @0x00000001060085b0, Ptr{Nothing} @0x000000010600b924, Ptr{Nothing} @0x000000010600b966, Ptr{Nothing} @0x00000001785136a1, Ptr{Nothing} @0x0000000178513715, Ptr{Nothing} @0x0000000106016a64, Ptr{Nothing} @0x0000000106016cd5, Ptr{Nothing} @0x000000016b85303f, Ptr{Nothing} @0x0000000106016a64, Ptr{Nothing} @0x000000016b852f6f, Ptr{Nothing} @0x0000000106016a64, Ptr{Nothing} @0x0000000142acaa14, Ptr{Nothing} @0x0000000142acb395, Ptr{Nothing} @0x0000000142aca6c2, Ptr{Nothing} @0x0000000142aca735, Ptr{Nothing} @0x0000000113da7446, Ptr{Nothing} @0x0000000113da72be, Ptr{Nothing} @0x000000012b6a03c6, Ptr{Nothing} @0x000000012b787d2f, Ptr{Nothing} @0x000000012b784d8f, Ptr{Nothing} @0x000000012b788b23, Ptr{Nothing} @0x000000012b6a0b3f, Ptr{Nothing} @0x000000012b6a312f, Ptr{Nothing} @0x0000000178513147, Ptr{Nothing} @0x00000001785135e3, Ptr{Nothing} @0x000000016b8a186c, Ptr{Nothing} @0x000000016b8a1972, Ptr{Nothing} @0x0000000106020fcf, Ptr{Nothing} @0x000000010601f8df, Ptr{Nothing} @0x000000010601fbbc, Base.InterpreterIP in top-level CodeInfo for Main at statement 2, Ptr{Nothing} @0x00000001060391ce, Ptr{Nothing} @0x0000000106011b6d, Ptr{Nothing} @0x000000010a81f8f1, Ptr{Nothing} @0x0000000106016a64, Ptr{Nothing} @0x0000000106016cd5, Ptr{Nothing} @0x0000000113d88a38, Ptr{Nothing} @0x0000000113d8916b, Ptr{Nothing} @0x0000000113d8981f, Ptr{Nothing} @0x0000000113d8991f, Ptr{Nothing} @0x0000000113d7d894, Ptr{Nothing} @0x0000000113d704f9, Ptr{Nothing} @0x0000000113d70bbc, Ptr{Nothing} @0x0000000113d70c28, Ptr{Nothing} @0x0000000106020fcf, Ptr{Nothing} @0x000000010601f8df, Ptr{Nothing} @0x000000010601fbbc, Base.InterpreterIP in top-level CodeInfo for Main at statement 25, Ptr{Nothing} @0x00000001060391ce, Ptr{Nothing} @0x0000000106011b6d, Ptr{Nothing} @0x000000010603a27c, Ptr{Nothing} @0x000000010acfad4f, Ptr{Nothing} @0x000000010a77ea35, Ptr{Nothing} @0x000000010ad9c19c, Ptr{Nothing} @0x000000010a87001d, Ptr{Nothing} @0x000000010a870165, Ptr{Nothing} @0x0000000105f737b0, Ptr{Nothing} @0x0000000105f7368b])\n",
      "\n",
      "Stacktrace:\n",
      " [1] pyerr_check at /Users/humiyakakizawa/.julia/packages/PyCall/tqyST/src/exception.jl:62 [inlined]\n",
      " [2] pyerr_check at /Users/humiyakakizawa/.julia/packages/PyCall/tqyST/src/exception.jl:66 [inlined]\n",
      " [3] _handle_error(::String) at /Users/humiyakakizawa/.julia/packages/PyCall/tqyST/src/exception.jl:83\n",
      " [4] macro expansion at /Users/humiyakakizawa/.julia/packages/PyCall/tqyST/src/exception.jl:97 [inlined]\n",
      " [5] #109 at /Users/humiyakakizawa/.julia/packages/PyCall/tqyST/src/pyfncall.jl:43 [inlined]\n",
      " [6] disable_sigint at ./c.jl:446 [inlined]\n",
      " [7] __pycall! at /Users/humiyakakizawa/.julia/packages/PyCall/tqyST/src/pyfncall.jl:42 [inlined]\n",
      " [8] _pycall!(::PyObject, ::PyObject, ::Tuple{var\"#151#152\"}, ::Int64, ::Ptr{Nothing}) at /Users/humiyakakizawa/.julia/packages/PyCall/tqyST/src/pyfncall.jl:29\n",
      " [9] _pycall!(::PyObject, ::PyObject, ::Tuple{var\"#151#152\"}, ::Base.Iterators.Pairs{Union{},Union{},Tuple{},NamedTuple{(),Tuple{}}}) at /Users/humiyakakizawa/.julia/packages/PyCall/tqyST/src/pyfncall.jl:11\n",
      " [10] (::PyObject)(::Function; kwargs::Base.Iterators.Pairs{Union{},Union{},Tuple{},NamedTuple{(),Tuple{}}}) at /Users/humiyakakizawa/.julia/packages/PyCall/tqyST/src/pyfncall.jl:86\n",
      " [11] (::PyObject)(::Function) at /Users/humiyakakizawa/.julia/packages/PyCall/tqyST/src/pyfncall.jl:86\n",
      " [12] top-level scope at /Users/humiyakakizawa/Desktop/seminar/compute_physics_shinaoka/compute_physics_excercise_1-10.ipynb:14\n",
      " [13] include_string(::Function, ::Module, ::String, ::String) at ./loading.jl:1091\n",
      " [14] #invokelatest#1 at ./essentials.jl:710 [inlined]\n",
      " [15] invokelatest at ./essentials.jl:709 [inlined]\n",
      " [16] (::VSCodeServer.var\"#148#149\"{VSCodeServer.NotebookRunCellArguments,String})() at /Users/humiyakakizawa/.vscode/extensions/julialang.language-julia-1.5.4/scripts/packages/VSCodeServer/src/serve_notebook.jl:18\n",
      " [17] withpath(::VSCodeServer.var\"#148#149\"{VSCodeServer.NotebookRunCellArguments,String}, ::String) at /Users/humiyakakizawa/.vscode/extensions/julialang.language-julia-1.5.4/scripts/packages/VSCodeServer/src/repl.jl:185\n",
      " [18] notebook_runcell_request(::VSCodeServer.JSONRPC.JSONRPCEndpoint{Base.PipeEndpoint,Base.PipeEndpoint}, ::VSCodeServer.NotebookRunCellArguments) at /Users/humiyakakizawa/.vscode/extensions/julialang.language-julia-1.5.4/scripts/packages/VSCodeServer/src/serve_notebook.jl:14\n",
      " [19] dispatch_msg(::VSCodeServer.JSONRPC.JSONRPCEndpoint{Base.PipeEndpoint,Base.PipeEndpoint}, ::VSCodeServer.JSONRPC.MsgDispatcher, ::Dict{String,Any}) at /Users/humiyakakizawa/.vscode/extensions/julialang.language-julia-1.5.4/scripts/packages/JSONRPC/src/typed.jl:67\n",
      " [20] serve_notebook(::String; crashreporting_pipename::String) at /Users/humiyakakizawa/.vscode/extensions/julialang.language-julia-1.5.4/scripts/packages/VSCodeServer/src/serve_notebook.jl:94\n",
      " [21] top-level scope at /Users/humiyakakizawa/.vscode/extensions/julialang.language-julia-1.5.4/scripts/notebook/notebook.jl:12\n",
      " [22] include(::Function, ::Module, ::String) at ./Base.jl:380\n",
      " [23] include(::Module, ::String) at ./Base.jl:368\n",
      " [24] exec_options(::Base.JLOptions) at ./client.jl:296\n",
      " [25] _start() at ./client.jl:506"
     ]
    }
   ],
   "source": [
    "# We choose the superposition of three gausian distributions as a spectral functoin \n",
    "function gaussian(x,μ,σ)\n",
    "    (1/(sqrt(2π)*σ)) * exp(-((x-μ)/σ)^2)\n",
    "end\n",
    "\n",
    "ρ = ω -> 0.2 * gaussian(ω,0.0,0.15) + 0.4 * gaussian(ω,1.0,0.8) + 0.4 * gaussian(ω,-1.0,0.8)\n",
    "plt.figure()\n",
    "plt.plot(ωs,ρ.(ωs))\n",
    "plt.xlabel(\"ω\")\n",
    "plt.ylabel(\"ρ(ω)\")\n",
    "plt.xlim(-5,5)\n",
    "plt.savefig(\"check_rho_omega.pdf\")\n",
    "\n",
    "ρ_l = basis.v.overlap(ρ)\n",
    "#ls = [l for l in 1:length(basis.s)]\n",
    "#plt.figure()\n",
    "#=\n",
    "plt.semilogy(1:2:end,1,ls=\"\",marker=\"o\")\n",
    "plt.xlabel(\"l\")\n",
    "plt.ylabel(\"|ρ_l|\")\n",
    "plt.savefig(\"check_rho_l.pdf\")\n",
    "=#"
   ]
  },
  {
   "cell_type": "code",
   "execution_count": 253,
   "metadata": {},
   "outputs": [
    {
     "ename": "UndefVarError",
     "evalue": "UndefVarError: ρ_l not defined",
     "output_type": "error",
     "traceback": [
      "UndefVarError: ρ_l not defined\n",
      "\n",
      "Stacktrace:\n",
      " [1] top-level scope at /Users/humiyakakizawa/Desktop/seminar/compute_physics_shinaoka/compute_physics_excercise_1-10.ipynb:1\n",
      " [2] include_string(::Function, ::Module, ::String, ::String) at ./loading.jl:1091\n",
      " [3] #invokelatest#1 at ./essentials.jl:710 [inlined]\n",
      " [4] invokelatest at ./essentials.jl:709 [inlined]\n",
      " [5] (::VSCodeServer.var\"#148#149\"{VSCodeServer.NotebookRunCellArguments,String})() at /Users/humiyakakizawa/.vscode/extensions/julialang.language-julia-1.5.4/scripts/packages/VSCodeServer/src/serve_notebook.jl:18\n",
      " [6] withpath(::VSCodeServer.var\"#148#149\"{VSCodeServer.NotebookRunCellArguments,String}, ::String) at /Users/humiyakakizawa/.vscode/extensions/julialang.language-julia-1.5.4/scripts/packages/VSCodeServer/src/repl.jl:185\n",
      " [7] notebook_runcell_request(::VSCodeServer.JSONRPC.JSONRPCEndpoint{Base.PipeEndpoint,Base.PipeEndpoint}, ::VSCodeServer.NotebookRunCellArguments) at /Users/humiyakakizawa/.vscode/extensions/julialang.language-julia-1.5.4/scripts/packages/VSCodeServer/src/serve_notebook.jl:14\n",
      " [8] dispatch_msg(::VSCodeServer.JSONRPC.JSONRPCEndpoint{Base.PipeEndpoint,Base.PipeEndpoint}, ::VSCodeServer.JSONRPC.MsgDispatcher, ::Dict{String,Any}) at /Users/humiyakakizawa/.vscode/extensions/julialang.language-julia-1.5.4/scripts/packages/JSONRPC/src/typed.jl:67\n",
      " [9] serve_notebook(::String; crashreporting_pipename::String) at /Users/humiyakakizawa/.vscode/extensions/julialang.language-julia-1.5.4/scripts/packages/VSCodeServer/src/serve_notebook.jl:94\n",
      " [10] top-level scope at /Users/humiyakakizawa/.vscode/extensions/julialang.language-julia-1.5.4/scripts/notebook/notebook.jl:12\n",
      " [11] include(::Function, ::Module, ::String) at ./Base.jl:380\n",
      " [12] include(::Module, ::String) at ./Base.jl:368\n",
      " [13] exec_options(::Base.JLOptions) at ./client.jl:296\n",
      " [14] _start() at ./client.jl:506"
     ]
    }
   ],
   "source": [
    "g_l = - basis.s .* ρ_l"
   ]
  },
  {
   "cell_type": "code",
   "execution_count": 254,
   "metadata": {},
   "outputs": [],
   "source": []
  },
  {
   "cell_type": "markdown",
   "metadata": {},
   "source": [
    "# Exercise 10\n"
   ]
  },
  {
   "cell_type": "code",
   "execution_count": 255,
   "metadata": {},
   "outputs": [],
   "source": []
  },
  {
   "cell_type": "markdown",
   "metadata": {},
   "source": [
    "# Playground"
   ]
  },
  {
   "cell_type": "code",
   "execution_count": 256,
   "metadata": {},
   "outputs": [],
   "source": []
  },
  {
   "cell_type": "code",
   "execution_count": 257,
   "metadata": {},
   "outputs": [],
   "source": [
    "using FastGaussQuadrature,SpecialPolynomials"
   ]
  },
  {
   "cell_type": "code",
   "execution_count": 258,
   "metadata": {},
   "outputs": [],
   "source": []
  },
  {
   "cell_type": "code",
   "execution_count": 259,
   "metadata": {},
   "outputs": [
    {
     "data": {
      "text/plain": [
       "([-0.7745966692414834, 0.0, 0.7745966692414834], [0.5555555555555556, 0.8888888888888888, 0.5555555555555556])"
      ]
     },
     "metadata": {},
     "output_type": "display_data"
    }
   ],
   "source": [
    "x, w = gausslegendre(3)"
   ]
  },
  {
   "cell_type": "code",
   "execution_count": 260,
   "metadata": {},
   "outputs": [],
   "source": [
    "myfunc(x) = x^4\n",
    "I = dot(w,myfunc.(x))\n",
    "@assert I ≈ 2/5\n",
    "p3 = SpecialPolynomials.basis(Legendre,3)\n",
    "x2 = collect(range(-1,1,length=1000))\n",
    "\n",
    "plt.figure()\n",
    "plt.plot(x2,p3.(x2),label=\"P_3\")\n",
    "plt.plot(x,[0,0,0],marker=\"o\")\n",
    "plt.xlabel(\"x\")\n",
    "plt.ylabel(\"3rd basis of Legendre polynomials\")\n",
    "plt.savefig(\"check_gaussquad.pdf\")"
   ]
  },
  {
   "cell_type": "code",
   "execution_count": 261,
   "metadata": {},
   "outputs": [],
   "source": [
    "x = collect(range(0,9,length=10))\n",
    "y = exp.(x)\n",
    "f = LinearInterpolation(x,y)\n",
    "\n",
    "xnew = collect(range(0,9,length=10000))\n",
    "ynew = f(xnew)\n",
    "\n",
    "plt.figure()\n",
    "plt.plot(x,y,marker=\"o\")\n",
    "plt.plot(xnew,ynew)\n",
    "plt.savefig(\"check_interpolate.pdf\")"
   ]
  },
  {
   "cell_type": "code",
   "execution_count": 262,
   "metadata": {},
   "outputs": [],
   "source": []
  },
  {
   "cell_type": "code",
   "execution_count": 263,
   "metadata": {},
   "outputs": [],
   "source": []
  }
 ],
 "metadata": {
  "kernelspec": {
   "display_name": "Julia 1.5.3",
   "language": "julia",
   "name": "julia-1.5"
  },
  "language_info": {
   "file_extension": ".jl",
   "mimetype": "application/julia",
   "name": "julia",
   "version": "1.5.3"
  }
 },
 "nbformat": 4,
 "nbformat_minor": 4
}
