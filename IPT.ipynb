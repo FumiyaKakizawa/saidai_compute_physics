{
 "cells": [
  {
   "cell_type": "code",
   "execution_count": null,
   "metadata": {},
   "outputs": [],
   "source": [
    "using PyPlot"
   ]
  },
  {
   "cell_type": "markdown",
   "metadata": {},
   "source": [
    "1不純物アンダーソンモデルの不純物に対するグリーン関数(不純物グリーン関数)は\n",
    "$$\n",
    "G_f(i\\omega_n) = \\frac{1}{i\\omega_n-E_f-\\Sigma_f(i\\omega_n)-\\Delta(i\\omega_n)}.\n",
    "$$\n",
    "$g$を以下で定義する。\n",
    "$$\n",
    "g(i\\omega_n)^{-1} = G_f(i\\omega_n)^{-1} + \\Sigma_f(i\\omega_n).\n",
    "$$\n",
    "元の格子系のグリーン関数\n",
    "$$\n",
    "G(\\bm{k},i\\omega_n) = \\frac{1}{i\\omega_n-\\epsilon_{\\bm{k}}-\\Sigma(\\bm{k},i\\omega_n)}\n",
    "$$\n",
    "について、自己エネルギーの波数依存性を無視する、すなわち\n",
    "$$\n",
    "\\Sigma_f(\\bm{k},i\\omega_n)\\sim\\Sigma_f(i\\omega)\n",
    "$$\n",
    "とすると、\n",
    "$$\n",
    "G(\\bm{k},i\\omega_n) = \\frac{1}{i\\omega_n-\\epsilon_{\\bm{k}}-\\Sigma_f(i\\omega_n)}.\n",
    "$$\n",
    "波数依存性は$\\epsilon_{\\bm{k}}$にのみ現れるので、波数積分はエネルギーの積分に書き換えられる。\n",
    "$$\n",
    "G_i(i\\omega_n) = \\int\\mathrm{d}\\bm{k}G(\\bm{k},i\\omega_n) = \\int\\mathrm{d}\\epsilon\\rho(\\epsilon)G(\\epsilon,i\\omega_n).\n",
    "$$\n",
    "$G_i(i\\omega_n)$を1サイトグリーン関数という。$\\rho(\\epsilon)$は状態密度。1サイトグリーン関数が不純物グリーン関数と等しいと近似する。\n",
    "$$\n",
    "G_i(i\\omega_n) \\sim G_f(i\\omega_n).\n",
    "$$\n",
    "自己無撞着計算を行う。状態密度は半径2の半円を採用する。\n",
    "$$\n",
    "\\rho(\\epsilon) = \\frac{1}{2\\pi}\\sqrt{4-\\epsilon}.\n",
    "$$\n",
    "不純物ソルバーとしてIPTを採用する。\n",
    "$$\n",
    "\\Sigma^{new}_f(\\tau) = U^2g(\\tau)^2g(\\beta-\\tau)\n",
    "$$"
   ]
  },
  {
   "cell_type": "markdown",
   "metadata": {},
   "source": [
    "自己無撞着計算の手順は以下の通り\n",
    "1. 初期時刻$t=0$の$\\Sigma^{0}_f(i\\omega_n)$を設定する。\n",
    "2. $G^{0}(\\bm{k},i\\omega_n)=\\frac{1}{i\\omega_n-\\epsilon_{\\bm{k}}-\\Sigma_f^{0}(i\\omega_n)}$を計算する。\n",
    "3. $G_i^{0}(i\\omega_n)=\\int\\mathrm{d}\\epsilon\\rho(\\epsilon)G^{0}(\\epsilon,i\\omega_n)$を計算する。\n",
    "4. $(g^{0}(i\\omega_n))^{-1} = (G_i^{0}(i\\omega_n))^{-1}+\\Sigma_f^{0}(i\\omega_n)$を計算する。\n",
    "5. $g^0(i\\omega_n)$をフーリエ変換する。\n",
    "5. $\\Sigma_f^{1}(\\tau)=U^2(g^0(\\tau))^2g(\\beta-\\tau)$を計算する。\n",
    "6. $\\Sigma_f^{1}(\\tau)$をフーリエ変換する。\n",
    "6. $t+=1$とし、2に戻る。\n",
    "\n",
    "\n",
    "[katexで書くと\\beginコマンド使えなくて不便。]\n",
    "\\begin{itembox}\n",
    "    \\item\n",
    "\\end{itembox}"
   ]
  },
  {
   "cell_type": "code",
   "execution_count": null,
   "metadata": {},
   "outputs": [],
   "source": []
  },
  {
   "cell_type": "code",
   "execution_count": null,
   "metadata": {},
   "outputs": [],
   "source": []
  }
 ],
 "metadata": {
  "interpreter": {
   "hash": "979b73ee7dc5b54141e4b7580a073ad7650bf025a1eb2bba0afc4fb640118eb0"
  },
  "kernelspec": {
   "display_name": "Julia 1.5.3",
   "language": "julia",
   "name": "julia-1.5"
  },
  "language_info": {
   "name": "julia",
   "version": "3.9.0"
  }
 },
 "nbformat": 4,
 "nbformat_minor": 2
}
