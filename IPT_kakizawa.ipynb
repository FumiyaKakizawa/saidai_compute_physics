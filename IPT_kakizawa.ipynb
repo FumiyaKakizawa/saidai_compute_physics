{
 "cells": [
  {
   "cell_type": "markdown",
   "metadata": {},
   "source": [
    "# IPT"
   ]
  },
  {
   "cell_type": "code",
   "execution_count": 337,
   "metadata": {},
   "outputs": [
    {
     "data": {
      "text/plain": [
       "\"\\\\usepackage{amsmath}\""
      ]
     },
     "execution_count": 337,
     "metadata": {},
     "output_type": "execute_result"
    }
   ],
   "source": [
    "using PyPlot\n",
    "using LaTeXStrings\n",
    "using QuadGK\n",
    "using FastGaussQuadrature\n",
    "using TensorOperations\n",
    "using Einsum\n",
    "using LinearAlgebra\n",
    "import PyCall: pyimport\n",
    "sparse_ir = pyimport(\"sparse_ir\")\n",
    "\n",
    "rcParams = PyPlot.PyDict(PyPlot.matplotlib.\"rcParams\")\n",
    "\n",
    "rcParams[\"text.usetex\"] = true\n",
    "rcParams[\"font.family\"] = \"serif\"\n",
    "rcParams[\"font.size\"] = 16\n",
    "rcParams[\"text.latex.preamble\"] = raw\"\\usepackage{amsmath}\""
   ]
  },
  {
   "cell_type": "markdown",
   "metadata": {},
   "source": [
    "## Step 1: Generate IR basis and associated sampling points"
   ]
  },
  {
   "cell_type": "code",
   "execution_count": 338,
   "metadata": {},
   "outputs": [
    {
     "name": "stdout",
     "output_type": "stream",
     "text": [
      "cond (tau): 5.89770217368647cond (matsu): 11.266380245503292"
     ]
    }
   ],
   "source": [
    "lambda_ = 100\n",
    "beta    = 10\n",
    "basis   = sparse_ir.FiniteTempBasis(\"F\", beta, lambda_/beta, eps=1e-10)\n",
    "L = basis.size\n",
    "# Sparse sampling in tau\n",
    "smpl_tau = sparse_ir.TauSampling(basis)\n",
    "print(\"cond (tau): \", smpl_tau.cond)\n",
    "\n",
    "# Sparse sampling in Matsubara frequencies\n",
    "smpl_matsu = sparse_ir.MatsubaraSampling(basis)\n",
    "print(\"cond (matsu): \", smpl_matsu.cond)"
   ]
  },
  {
   "cell_type": "code",
   "execution_count": null,
   "metadata": {},
   "outputs": [],
   "source": []
  },
  {
   "cell_type": "markdown",
   "metadata": {},
   "source": [
    "## Step 2\n",
    "Define a non-interacting DOS:\n",
    "$$\n",
    "\\rho(\\omega) = \\frac{\\sqrt{4-\\omega^2}}{2\\pi}.\n",
    "$$"
   ]
  },
  {
   "cell_type": "code",
   "execution_count": 339,
   "metadata": {},
   "outputs": [
    {
     "data": {
      "image/png": "[encoded data removed]",
      "text/plain": [
       "Figure(PyObject <Figure size 640x480 with 1 Axes>)"
      ]
     },
     "metadata": {},
     "output_type": "display_data"
    },
    {
     "name": "stderr",
     "output_type": "stream",
     "text": [
      "sys:1: UserWarning: Matplotlib is currently using agg, which is a non-GUI backend, so cannot show the figure.\n"
     ]
    }
   ],
   "source": [
    "function rho_omega(omega)\n",
    "    return sqrt(4-omega^2)/(2*pi)\n",
    "end\n",
    "\n",
    "@assert abs(quadgk(rho_omega,-2,2)[1]-1) < 1e-9\n",
    "\n",
    "num_omega = 100\n",
    "omegas = collect(range(-2,2,num_omega))\n",
    "plt.figure()\n",
    "plt.plot(omegas,rho_omega.(omegas))\n",
    "plt.tight_layout()\n",
    "plt.title(\"DOS\")\n",
    "fontsize = 20\n",
    "plt.xlabel(L\"$\\omega$\",fontsize=fontsize)\n",
    "plt.ylabel(L\"$\\rho(\\omega)$\",fontsize=fontsize)\n",
    "plt.show()"
   ]
  },
  {
   "cell_type": "code",
   "execution_count": 340,
   "metadata": {},
   "outputs": [
    {
     "name": "stderr",
     "output_type": "stream",
     "text": [
      "WARNING: replacing module IPT.\n"
     ]
    },
    {
     "data": {
      "text/plain": [
       "Main.IPT"
      ]
     },
     "execution_count": 340,
     "metadata": {},
     "output_type": "execute_result"
    }
   ],
   "source": [
    "module IPT\n",
    "import PyCall: pyimport\n",
    "sparse_ir = pyimport(\"sparse_ir\")\n",
    "using FastGaussQuadrature\n",
    "\n",
    "function rho_omega(omega)\n",
    "    return sqrt(4-omega^2)/(2*pi)\n",
    "end\n",
    "\n",
    "function scale_quad(x, w, x_min, x_max)\n",
    "    @assert x_min < x_max\n",
    "    dx = x_max - x_min\n",
    "    x_ = 0.5 .* dx .* (x .+ 1) .+ x_min\n",
    "    w_ = 0.5 .* dx .* w\n",
    "    return x_, w_\n",
    "end\n",
    "\n",
    "struct IPTSolver\n",
    "    U::Float64\n",
    "    basis\n",
    "    beta::Float64\n",
    "    rho_omega\n",
    "    omega_range::Tuple{Float64,Float64}\n",
    "    quad_rule\n",
    "    smpl_matsu\n",
    "    smpl_tau\n",
    "end\n",
    "\n",
    "function IPTSolver(U,basis,rho_omega,omega_range,deg_leg_gauss=1000)\n",
    "    @assert omega_range[1] < omega_range[2]\n",
    "    x_,w_ = gausslegendre(deg_leg_gauss)\n",
    "    quad_rule = scale_quad(x_,w_,omega_range[1],omega_range[2])\n",
    "    smpl_matsu = sparse_ir.MatsubaraSampling(basis)\n",
    "    smpl_tau = sparse_ir.TauSampling(basis)\n",
    "\n",
    "    return IPTSolver(U,basis,basis.beta,rho_omega,omega_range,quad_rule,smpl_matsu,smpl_tau)\n",
    "end\n",
    "\n",
    "U = 2.0\n",
    "omega_range = (-2.0,2.0)\n",
    "lambda_ = 100\n",
    "beta    = 10\n",
    "basis   = sparse_ir.FiniteTempBasis(\"F\", beta, lambda_/beta, eps=1e-10)\n",
    "\n",
    "solver = IPTSolver(U,basis,rho_omega,omega_range)\n",
    "    \n",
    "end"
   ]
  },
  {
   "cell_type": "code",
   "execution_count": 341,
   "metadata": {},
   "outputs": [
    {
     "data": {
      "text/plain": [
       "2.0"
      ]
     },
     "execution_count": 341,
     "metadata": {},
     "output_type": "execute_result"
    }
   ],
   "source": [
    "U = 2.0\n",
    "omega_range = (-2.0,2.0)\n",
    "lambda_ = 100\n",
    "beta    = 10\n",
    "basis   = sparse_ir.FiniteTempBasis(\"F\", beta, lambda_/beta, eps=1e-10)\n",
    "\n",
    "solver = IPT.IPTSolver(U,basis,rho_omega,omega_range)\n",
    "solver.beta\n",
    "solver.U"
   ]
  },
  {
   "cell_type": "code",
   "execution_count": 342,
   "metadata": {},
   "outputs": [
    {
     "data": {
      "text/plain": [
       "1000-element Vector{Float64}:\n",
       " 1.482667683286414e-5\n",
       " 3.451353954747845e-5\n",
       " 5.422921313041171e-5\n",
       " 7.394688401287099e-5\n",
       " 9.36643341394255e-5\n",
       " 0.00011338101302303457\n",
       " 0.00013309663186061572\n",
       " 0.00015281096416832146\n",
       " 0.00017252380265613814\n",
       " 0.00019223494709094108\n",
       " 0.00021194420019803414\n",
       " 0.00023165136607808355\n",
       " 0.00025135624952912284\n",
       " ⋮\n",
       " 0.00023165136607808355\n",
       " 0.00021194420019803414\n",
       " 0.00019223494709094108\n",
       " 0.00017252380265613814\n",
       " 0.00015281096416832146\n",
       " 0.00013309663186061572\n",
       " 0.00011338101302303457\n",
       " 9.36643341394255e-5\n",
       " 7.394688401287099e-5\n",
       " 5.422921313041171e-5\n",
       " 3.451353954747845e-5\n",
       " 1.482667683286414e-5"
      ]
     },
     "execution_count": 342,
     "metadata": {},
     "output_type": "execute_result"
    }
   ],
   "source": [
    "qr = solver.quad_rule\n",
    "x = qr[1]\n",
    "w = qr[2]"
   ]
  },
  {
   "cell_type": "code",
   "execution_count": 343,
   "metadata": {},
   "outputs": [
    {
     "data": {
      "text/plain": [
       "32-element Vector{Int64}:\n",
       " -229\n",
       " -217\n",
       "  -93\n",
       "  -55\n",
       "  -39\n",
       "  -29\n",
       "  -23\n",
       "  -17\n",
       "  -15\n",
       "  -13\n",
       "  -11\n",
       "   -9\n",
       "   -7\n",
       "    ⋮\n",
       "    9\n",
       "   11\n",
       "   13\n",
       "   15\n",
       "   17\n",
       "   23\n",
       "   29\n",
       "   39\n",
       "   55\n",
       "   93\n",
       "  217\n",
       "  229"
      ]
     },
     "execution_count": 343,
     "metadata": {},
     "output_type": "execute_result"
    }
   ],
   "source": [
    "solver.smpl_matsu.sampling_points"
   ]
  },
  {
   "cell_type": "code",
   "execution_count": 344,
   "metadata": {},
   "outputs": [
    {
     "data": {
      "text/plain": [
       "2×2 Matrix{Int64}:\n",
       " 1  2\n",
       " 3  4"
      ]
     },
     "execution_count": 344,
     "metadata": {},
     "output_type": "execute_result"
    }
   ],
   "source": [
    "z = [1 2;3 4]"
   ]
  },
  {
   "cell_type": "markdown",
   "metadata": {},
   "source": [
    "## Self-consistent equation\n",
    "\n",
    "$$\n",
    "\\begin{align*}\n",
    "  G_\\mathrm{loc}(\\mathrm{i}\\nu) &= \\int \\mathrm{d}\\omega \\frac{\\rho(\\omega)}{\\mathrm{i}\\nu - \\omega - \\Sigma(\\mathrm{i}\\nu)}\\\\\n",
    "  \\mathcal{G}(\\mathrm{i}\\nu) &= (G^{-1}_{\\mathrm{loc}}(\\mathrm{i}\\nu) + \\Sigma(\\mathrm{i}\\nu))^{-1}\\\\\n",
    "  \\Sigma(\\tau) &= U^2 \\mathcal{G}(\\tau)^2 \\mathcal{G}(\\beta-\\tau)\n",
    "\\end{align*}\n",
    "$$"
   ]
  },
  {
   "cell_type": "code",
   "execution_count": 345,
   "metadata": {},
   "outputs": [
    {
     "name": "stderr",
     "output_type": "stream",
     "text": [
      "WARNING: redefinition of constant newaxis. This may fail, cause incorrect answers, or produce other errors.\n"
     ]
    },
    {
     "data": {
      "text/plain": [
       "1-element Vector{CartesianIndex{0}}:\n",
       " CartesianIndex()"
      ]
     },
     "execution_count": 345,
     "metadata": {},
     "output_type": "execute_result"
    }
   ],
   "source": [
    "const newaxis = [CartesianIndex()]"
   ]
  },
  {
   "cell_type": "code",
   "execution_count": 346,
   "metadata": {},
   "outputs": [
    {
     "data": {
      "text/plain": [
       "32-element Vector{ComplexF64}:\n",
       "  2.7489231239054475e-21 + 0.013897310458286651im\n",
       " -1.4210374042150712e-20 + 0.014665503466246812im\n",
       "   1.663382340544285e-20 + 0.03418686712409238im\n",
       "  -6.328324596821624e-20 + 0.05768196415180551im\n",
       "  -2.943653524692192e-19 + 0.08108134827108833im\n",
       "    5.90776322593282e-19 + 0.1084705842600468im\n",
       "  -3.278226368978812e-19 + 0.13584178982805456im\n",
       "  -7.574043089689999e-19 + 0.18110011577070237im\n",
       "  -5.356676476695904e-18 + 0.20342510578177503im\n",
       " -1.7864520427634232e-18 + 0.2317079136786483im\n",
       "  -6.707395828955688e-18 + 0.2685096074396494im\n",
       "  5.8631777773259055e-18 + 0.31792844610473436im\n",
       "    3.63699569374868e-17 + 0.3867219997228807im\n",
       "                         ⋮\n",
       "  5.8631777773259055e-18 - 0.31792844610473436im\n",
       "  -6.707395828955688e-18 - 0.2685096074396494im\n",
       " -1.7864520427634232e-18 - 0.2317079136786483im\n",
       "  -5.356676476695904e-18 - 0.20342510578177503im\n",
       "  -7.574043089689999e-19 - 0.18110011577070237im\n",
       "  -3.278226368978812e-19 - 0.13584178982805456im\n",
       "    5.90776322593282e-19 - 0.1084705842600468im\n",
       "  -2.943653524692192e-19 - 0.08108134827108833im\n",
       "  -6.328324596821624e-20 - 0.05768196415180551im\n",
       "   1.663382340544285e-20 - 0.03418686712409238im\n",
       " -1.4210374042150712e-20 - 0.014665503466246812im\n",
       "  2.7489231239054475e-21 - 0.013897310458286651im"
      ]
     },
     "execution_count": 346,
     "metadata": {},
     "output_type": "execute_result"
    }
   ],
   "source": [
    "function compute_gloc_iv(solver,sigma_iv)\n",
    "    quad_points = solver.quad_rule[1]\n",
    "    quad_weight = solver.quad_rule[2] \n",
    "    # sampling Matsubara frequencies\n",
    "    iv = im .* solver.smpl_matsu.sampling_points .* (pi/solver.beta)\n",
    "    gloc_iv = zeros(ComplexF64,length(iv))\n",
    "    temp = (iv .- sigma_iv)[newaxis,:] .- quad_points[:,newaxis]\n",
    "\n",
    "    for j in 1:length(iv)\n",
    "        for i in 1:length(quad_points)\n",
    "            gloc_iv[j] += quad_weight[i] * solver.rho_omega.(quad_points)[i] / temp[i,j]\n",
    "        end\n",
    "    end\n",
    "\n",
    "    #@tensor gloc_iv[j] = quad_weight[i] * solver.rho_omega.(quad_points)[i] * (1 ./ temp)[i,j] \n",
    "\n",
    "    return gloc_iv\n",
    "end\n",
    "\n",
    "len_iv = length(solver.smpl_matsu.sampling_points)\n",
    "sigma_iv = zeros(ComplexF64,len_iv)\n",
    "gloc_iv = compute_gloc_iv(solver,sigma_iv)"
   ]
  },
  {
   "cell_type": "code",
   "execution_count": 347,
   "metadata": {},
   "outputs": [
    {
     "data": {
      "text/plain": [
       "32-element Vector{ComplexF64}:\n",
       "  2.7489231239054475e-21 + 0.013897310458286651im\n",
       " -1.4210374042150712e-20 + 0.01466550346624681im\n",
       "   1.663382340544285e-20 + 0.03418686712409238im\n",
       "  -6.328324596821623e-20 + 0.0576819641518055im\n",
       "  -2.943653524692192e-19 + 0.08108134827108833im\n",
       "    5.90776322593282e-19 + 0.1084705842600468im\n",
       "  -3.278226368978812e-19 + 0.13584178982805456im\n",
       "  -7.574043089689999e-19 + 0.18110011577070237im\n",
       "  -5.356676476695905e-18 + 0.20342510578177503im\n",
       " -1.7864520427634232e-18 + 0.23170791367864832im\n",
       "  -6.707395828955688e-18 + 0.2685096074396494im\n",
       "  5.8631777773259055e-18 + 0.31792844610473436im\n",
       "    3.63699569374868e-17 + 0.3867219997228807im\n",
       "                         ⋮\n",
       "  5.8631777773259055e-18 - 0.31792844610473436im\n",
       "  -6.707395828955688e-18 - 0.2685096074396494im\n",
       " -1.7864520427634232e-18 - 0.23170791367864832im\n",
       "  -5.356676476695905e-18 - 0.20342510578177503im\n",
       "  -7.574043089689999e-19 - 0.18110011577070237im\n",
       "  -3.278226368978812e-19 - 0.13584178982805456im\n",
       "    5.90776322593282e-19 - 0.1084705842600468im\n",
       "  -2.943653524692192e-19 - 0.08108134827108833im\n",
       "  -6.328324596821623e-20 - 0.0576819641518055im\n",
       "   1.663382340544285e-20 - 0.03418686712409238im\n",
       " -1.4210374042150712e-20 - 0.01466550346624681im\n",
       "  2.7489231239054475e-21 - 0.013897310458286651im"
      ]
     },
     "execution_count": 347,
     "metadata": {},
     "output_type": "execute_result"
    }
   ],
   "source": [
    "function compute_g0_iv(solver,gloc_iv,sigma_iv)\n",
    "    return 1 ./ ((1 ./ gloc_iv) .+ sigma_iv)\n",
    "end\n",
    "\n",
    "g0_iv = compute_g0_iv(solver,gloc_iv,sigma_iv)"
   ]
  },
  {
   "cell_type": "code",
   "execution_count": 348,
   "metadata": {},
   "outputs": [
    {
     "data": {
      "text/plain": [
       "32-element Vector{ComplexF64}:\n",
       " -1.0565507249646445e-15 + 0.01388065006239275im\n",
       "  -1.073463162667871e-15 + 0.014645928613525332im\n",
       "   7.538310907447799e-17 + 0.03394100193239812im\n",
       "  -6.193837842334971e-17 + 0.05652296711424053im\n",
       "   6.544120079189193e-17 + 0.07794863685936357im\n",
       " -1.7219443727385461e-16 + 0.1012718617386264im\n",
       "  1.3072874437496554e-17 + 0.12238127033531916im\n",
       "  -3.843857216892678e-16 + 0.15207291937616754im\n",
       "   2.466092039865501e-17 + 0.1643117230589504im\n",
       " -1.3889083555978156e-16 + 0.1776187155939855im\n",
       "  -7.441257752543015e-17 + 0.1914777510836235im\n",
       "  -7.910504533196201e-17 + 0.20453792970507448im\n",
       "  3.3333528891807556e-17 + 0.21365172178497793im\n",
       "                         ⋮\n",
       "  -6.657706539304719e-17 - 0.20453792970507442im\n",
       " -1.1604221318133044e-16 - 0.19147775108362344im\n",
       "   9.495877317134956e-18 - 0.17761871559398545im\n",
       "  -3.446886158888311e-16 - 0.16431172305895034im\n",
       "  -1.659103014440653e-16 - 0.1520729193761675im\n",
       " -2.6140002566686136e-16 - 0.12238127033531913im\n",
       "   6.456136098398864e-18 - 0.1012718617386264im\n",
       " -1.0716018391394353e-16 - 0.07794863685936354im\n",
       "  -3.836362254976406e-19 - 0.05652296711424054im\n",
       "     7.7397498568656e-17 - 0.03394100193239815im\n",
       "   5.339275248068325e-16 - 0.01464592861352527im\n",
       "   5.455881214031205e-16 - 0.013880650062392691im"
      ]
     },
     "execution_count": 348,
     "metadata": {},
     "output_type": "execute_result"
    }
   ],
   "source": [
    "function compute_sigma_iv(solver,g0_iv)\n",
    "    g0_IR = solver.smpl_matsu.fit(g0_iv, axis=0) # axis for Fourier transform\n",
    "    g0_tau = solver.smpl_tau.evaluate(g0_IR)\n",
    "    sigma_tau = solver.U^2 .* g0_tau.^2 .* reverse(g0_tau)\n",
    "    sigma_IR = solver.smpl_tau.fit(sigma_tau)\n",
    "    return solver.smpl_matsu.evaluate(sigma_IR,axis=0)\n",
    "end\n",
    "\n",
    "sigma_iv = compute_sigma_iv(solver,g0_iv)"
   ]
  },
  {
   "cell_type": "code",
   "execution_count": 349,
   "metadata": {},
   "outputs": [
    {
     "data": {
      "text/plain": [
       "mk_new_sigma_iv (generic function with 1 method)"
      ]
     },
     "execution_count": 349,
     "metadata": {},
     "output_type": "execute_result"
    }
   ],
   "source": [
    "function mk_new_sigma_iv(solver,sigma_iv)\n",
    "    gloc_iv = compute_gloc_iv(solver,sigma_iv)\n",
    "    g0_iv = compute_g0_iv(solver,gloc_iv,sigma_iv)\n",
    "    return compute_sigma_iv(solver,g0_iv)\n",
    "end\n"
   ]
  },
  {
   "cell_type": "code",
   "execution_count": 350,
   "metadata": {},
   "outputs": [
    {
     "data": {
      "text/plain": [
       "normalize_factor (generic function with 1 method)"
      ]
     },
     "execution_count": 350,
     "metadata": {},
     "output_type": "execute_result"
    }
   ],
   "source": [
    "function normalize_factor(solver,sigma_history,nitr,mixing) # What is normalize_factor?\n",
    "    # initialize sigma_iv\n",
    "    if length(sigma_history) == 0\n",
    "        sigma_iv = zeros(ComplexF64,length(solver.smpl_matsu.sampling_points))\n",
    "    else \n",
    "        sigma_iv = sigma_history[end]\n",
    "    end\n",
    "   \n",
    "    # mixing sigma_iv with new_sigma_iv\n",
    "    for i in 1:nitr\n",
    "        new_sigma_iv = mk_new_sigma_iv(solver,sigma_iv)\n",
    "        rdiff = maximum(abs.(new_sigma_iv .- sigma_iv)) / maximum(abs.(sigma_iv))\n",
    "        #println(i,rdiff)\n",
    "        if rdiff < 1e-5\n",
    "            break\n",
    "        end\n",
    "        sigma_iv = mixing .* new_sigma_iv .+ (1-mixing) .* sigma_iv\n",
    "    end\n",
    "\n",
    "    center = Int(length(sigma_iv)/2)\n",
    "    println(\"DEBUG A:$(imag(sigma_iv[center]))\")\n",
    "    println(\"DEBUG B:$(imag(sigma_iv[center-1]))\")\n",
    "    println(\"DEBUG C:$((solver.smpl_matsu.sampling_points[center]))\")\n",
    "    println(\"DEBUG D:$((solver.smpl_matsu.sampling_points[center-1]))\")\n",
    "    z = 1/(1 - (imag(sigma_iv[center]) - imag(sigma_iv[center-1])/(solver.smpl_matsu.sampling_points[center] - solver.smpl_matsu.sampling_points[center-1])))\n",
    "\n",
    "    return z, sigma_iv\n",
    "end\n"
   ]
  },
  {
   "cell_type": "code",
   "execution_count": 351,
   "metadata": {},
   "outputs": [
    {
     "name": "stdout",
     "output_type": "stream",
     "text": [
      "5.0\n",
      "DEBUG A:0.6930120950714361\n",
      "DEBUG B:1.5730508606611369\n",
      "DEBUG C:-1\n",
      "DEBUG D:-3\n",
      "5.166666666666667\n",
      "DEBUG A:0.8171361834380987\n",
      "DEBUG B:1.8289170240421293\n",
      "DEBUG C:-1\n",
      "DEBUG D:-3\n",
      "5.333333333333333\n",
      "DEBUG A:0.9818014384327622\n",
      "DEBUG B:2.151901230804968\n",
      "DEBUG C:-1\n",
      "DEBUG D:-3\n",
      "5.5\n",
      "DEBUG A:1.219286552291787\n",
      "DEBUG B:2.583053291207834\n",
      "DEBUG C:-1\n",
      "DEBUG D:-3\n",
      "5.666666666666667\n",
      "DEBUG A:1.6487612704874817\n",
      "DEBUG B:3.255711553877465\n",
      "DEBUG C:-1\n",
      "DEBUG D:-3\n",
      "5.833333333333333\n",
      "DEBUG A:31.0552875312966\n",
      "DEBUG B:10.822593314022782\n",
      "DEBUG C:-1\n",
      "DEBUG D:-3\n",
      "6.0\n",
      "DEBUG A:34.62145389942519\n",
      "DEBUG B:11.939182590273527\n",
      "DEBUG C:-1\n",
      "DEBUG D:-3\n",
      "6.166666666666667\n",
      "DEBUG A:38.19465840356919\n",
      "DEBUG B:13.075901143354034\n",
      "DEBUG C:-1\n",
      "DEBUG D:-3\n",
      "6.333333333333333\n",
      "DEBUG A:41.79769899158613\n",
      "DEBUG B:14.234527931589533\n",
      "DEBUG C:-1\n",
      "DEBUG D:-3\n",
      "6.5\n",
      "DEBUG A:45.44506262945353\n",
      "DEBUG B:15.416382049301943\n",
      "DEBUG C:-1\n",
      "DEBUG D:-3\n"
     ]
    },
    {
     "data": {
      "text/plain": [
       "(Any[0.9144835895055892, 0.9113092606903902, 0.9139521566606935, 0.9326269426383959, 1.0213518648210187, -0.0405778433006746, -0.03616392914685297, -0.03261928859039782, -0.029690827901546785, -0.0272206085144515], Any[ComplexF64[8.399906463102314e-15 + 0.045252805518977125im, 8.54466008242703e-15 + 0.04752214114878074im, 8.661791855617321e-15 + 0.05003101379008681im, -7.160343330047745e-16 + 0.11714364117210613im, 2.0406499850379814e-15 + 0.19687580941575658im, 2.518934751733505e-16 + 0.2870887587684795im, 8.548849901697101e-16 + 0.3858460365396033im, -8.398013337830424e-16 + 0.5116295396535345im, 1.329117782984803e-16 + 0.6377421416177158im, 9.469681621368615e-16 + 0.8089042148763546im  …  2.290738753240773e-15 - 0.8089042148763551im, -5.906673685549427e-16 - 0.6377421416177163im, -2.83607704036028e-16 - 0.5116295396535346im, -7.542054099617202e-16 - 0.3858460365396032im, 5.56657840258678e-16 - 0.2870887587684796im, 1.0975758019201864e-15 - 0.19687580941575672im, -3.345526943795638e-16 - 0.11714364117210618im, -4.990183841497129e-15 - 0.05003101379008704im, -5.064305552896751e-15 - 0.04752214114878097im, -5.102893064049456e-15 - 0.04525280551897733im], ComplexF64[9.1909192129265e-15 + 0.04832027799395186im, 9.35092878808947e-15 + 0.05074347762237423im, 9.481005592936085e-15 + 0.05342246145369446im, -7.830413514086602e-16 + 0.1250892745853141im, 2.181442405586039e-15 + 0.2102479718369785im, 3.1023336246304685e-16 + 0.3066367877723531im, 8.303168284830696e-16 + 0.4122222318976822im, -8.821013525411313e-16 + 0.5468531363168535im, 2.9735003569348317e-17 + 0.6820779056308142im, 8.706154689642133e-16 + 0.8661637500252509im  …  2.3015736049486063e-15 - 0.8661637500252517im, -6.42741385317314e-16 - 0.6820779056308147im, -3.7427759247786725e-16 - 0.5468531363168535im, -8.765787318838838e-16 - 0.41222223189768215im, 5.819235957697828e-16 - 0.3066367877723532im, 1.1188459420648073e-15 - 0.2102479718369786im, -3.5349841264555323e-16 - 0.1250892745853141im, -5.413166637130882e-15 - 0.05342246145369475im, -5.495760943417184e-15 - 0.05074347762237451im, -5.539460144904936e-15 - 0.048320277993952124im], ComplexF64[1.0060017575450704e-14 + 0.05148838262358944im, 1.0236178108074481e-14 + 0.054070500356734885im, 1.0379816584599142e-14 + 0.056925184267190634im, -8.778220147234342e-16 + 0.13329645262710607im, 2.263089701393316e-15 + 0.22406349898256772im, 3.217021851621478e-16 + 0.326841209062426im, 8.094946492033203e-16 + 0.4395013983727434im, -9.27291995678279e-16 + 0.5833229074668379im, -1.4747070088201624e-16 + 0.7280496373006391im, 7.449345775605368e-16 + 0.9256922090763869im  …  2.1572414915323253e-15 - 0.9256922090763877im, -7.663066561273397e-16 - 0.7280496373006395im, -5.4059999611278e-16 - 0.5833229074668379im, -9.682993601525678e-16 - 0.43950139837274327im, 5.682901794450204e-16 - 0.32684120906242614im, 1.0981017396964811e-15 - 0.22406349898256792im, -3.5922782192263134e-16 - 0.13329645262710615im, -5.902861745339593e-15 - 0.05692518426719103im, -5.9941530870329806e-15 - 0.05407050035673526im, -6.042747163724002e-15 - 0.0514883826235898im], ComplexF64[1.1139733925316893e-14 + 0.054757141338732204im, 1.1337754595561216e-14 + 0.05750323475050438im, 1.1500190371798256e-14 + 0.060539211868234924im, -1.0383529719452946e-15 + 0.1417655557542268im, 2.2221413402309197e-15 + 0.23832419674305835im, 5.842348916821795e-17 + 0.3477076221007943im, 3.4401930134967647e-16 + 0.46769713665647794im, -1.7998771316230467e-15 + 0.6210706382820941im, -1.5945700898023207e-15 + 0.7757192610590555im, -1.5119473286048231e-15 + 0.987618144395469im  …  -1.1897136003902595e-16 - 0.9876181443954695im, -2.1143703871530826e-15 - 0.7757192610590563im, -1.5815349072517299e-15 - 0.6210706382820942im, -1.4776805726134677e-15 - 0.4676971366564779im, 2.8222638490127234e-16 - 0.34770762210079453im, 9.443279381167686e-16 - 0.23832419674305846im, -3.9926428925558753e-16 - 0.1417655557542268im, -6.4237772124923486e-15 - 0.060539211868235486im, -6.5284065716029525e-15 - 0.05750323475050491im, -6.585786919589482e-15 - 0.05475714133873269im], ComplexF64[6.6170274848693645e-15 + 0.0581266278123628im, 6.231473054075343e-15 + 0.06104176611811436im, 5.70687143936326e-15 + 0.06426464380172361im, -4.1198229845154626e-14 + 0.15049786160444517im, -1.1100404344601084e-13 + 0.2530361299376879im, -2.417206798760416e-13 + 0.3692548351605436im, -4.3901800173636736e-13 + 0.4968551492021698im, -7.818018651536459e-13 + 0.6602032173744875im, -1.2293027205346393e-12 + 0.8252951940159176im, -2.0218755405062253e-12 + 1.052374493812324im  …  -2.0203932547876437e-12 - 1.052374493812309im, -1.2295982438214745e-12 - 0.8252951940159091im, -7.818462787694583e-13 - 0.6602032173744814im, -4.4087432558079604e-13 - 0.4968551492021665im, -2.416245647214533e-13 - 0.369254835160542im, -1.1250350713994271e-13 - 0.2530361299376872im, -4.042578954324754e-14 - 0.15049786160444492im, -1.4425338676476617e-14 - 0.06426464380172446im, -1.3834529097053322e-14 - 0.06104176611811514im, -1.3289878504514655e-14 - 0.05812662781236354im], ComplexF64[2.70693815207399e-14 + 0.06159953364280307im, 2.764630706007951e-14 + 0.06468921161515409im, 2.8203856585406246e-14 + 0.06810511740809042im, -2.658947032769301e-15 + 0.15954002857083127im, 2.037514829741716e-15 + 0.2684204788999326im, 2.1089719433974118e-15 + 0.3921672244670493im, -6.606328931488371e-16 + 0.528632599678359im, 6.391056029710327e-16 + 0.7045731516434318im, -8.255412188336443e-17 + 0.8842288068167365im, -8.942716664118322e-16 + 1.135210869533813im  …  -8.049738097907443e-16 - 1.1352108695338108im, 2.0529284672705558e-15 - 0.8842288068167429im, -3.1792065942482807e-15 - 0.7045731516434337im, 8.655447972672782e-16 - 0.5286325996783636im, 1.9236265258988215e-16 - 0.3921672244670496im, -8.696675005158819e-16 - 0.2684204788999328im, -5.00172237063186e-16 - 0.15954002857083133im, -1.1904156457317707e-14 - 0.06810511740809827im, -1.2293502588771724e-14 - 0.06468921161516153im, -1.2522464451794207e-14 - 0.06159953364281008im], ComplexF64[2.911180852605762e-14 + 0.06516999201819917im, 2.9736119866413145e-14 + 0.06843877684225291im, 3.0342657172798184e-14 + 0.07205270443404689im, -2.816609820537148e-15 + 0.16879033723865im, 2.074245503420749e-15 + 0.2839948276302323im, 2.1945902127010242e-15 + 0.41495091014032726im, -8.552388400705462e-16 + 0.5594079260843638im, 8.227471716555678e-16 + 0.7457450692249985im, -9.907583173270555e-17 + 0.9361664691099661im, -1.004585858631989e-15 + 1.2025312778571835im  …  -1.2458321213229615e-15 - 1.2025312778571895im, 2.2830325894362487e-15 - 0.9361664691099779im, -3.5092763901035912e-15 - 0.7457450692250042im, 9.39005665810419e-16 - 0.5594079260843708im, 1.1101045136605639e-16 - 0.41495091014032875im, -1.0076486101373095e-15 - 0.2839948276302331im, -4.73530324539985e-16 - 0.16879033723865017im, -1.267110258529501e-14 - 0.07205270443405543im, -1.3095078345283391e-14 - 0.06843877684226096im, -1.3344369383984237e-14 - 0.0651699920182068im], ComplexF64[3.105541474382526e-14 + 0.0688410180422684im, 3.1719141076482115e-14 + 0.07229395364977699im, 3.2366107236613463e-14 + 0.07611147949417485im, -3.0344746263603194e-15 + 0.17830107513736812im, 2.1869098557454348e-15 + 0.300007241295299im, 2.299162678185015e-15 + 0.43837450900950753im, -9.087389068174243e-16 + 0.591046017247209im, 1.0513819577699237e-15 + 0.7880684934527032im, -8.404117368747939e-17 + 0.9895540999322148im, -1.1578330935674646e-15 + 1.2717302332206368im  …  -1.4889453022194832e-15 - 1.271730233220627im, 2.598457077487419e-15 - 0.9895540999322179im, -3.828453010439193e-15 - 0.7880684934527028im, 1.037993955717833e-15 - 0.5910460172472132im, -4.035686127040154e-17 - 0.4383745090095069im, -1.1462950819781261e-15 - 0.3000072412952989im, -4.841459239519383e-16 - 0.178301075137368im, -1.3558258446916353e-14 - 0.07611147949418397im, -1.4011095050057333e-14 - 0.07229395364978561im, -1.427503890574634e-14 - 0.06884101804227652im], ComplexF64[3.3120108053816345e-14 + 0.0726126133288573im, 3.382888564950654e-14 + 0.07625474393215159im, 3.452192988355423e-14 + 0.08028144482732705im, -3.297010839369224e-15 + 0.18807227394202464im, 2.3558676704405226e-15 + 0.31645787458232066im, 2.5867491230495227e-15 + 0.46243851450610834im, -1.0062675888961317e-15 + 0.6235481121434587im, 1.1533773638548557e-15 + 0.8315464513964312im, -1.602702395301274e-16 + 1.0443978650497883im, -1.5258722558385423e-15 + 1.3428212592902806im  …  -1.79247578094394e-15 - 1.3428212592902695im, 2.99764696457043e-15 - 1.0443978650497914im, -4.2248556558087045e-15 - 0.8315464513964307im, 1.1331655944136742e-15 - 0.6235481121434628im, 8.749855680618418e-18 - 0.4624385145061076im, -1.2151851328021625e-15 - 0.3164578745823204im, -5.871392054224462e-16 - 0.18807227394202453im, -1.441102533044283e-14 - 0.08028144482733682im, -1.4894657133386523e-14 - 0.0762547439321608im, -1.5175312335905906e-14 - 0.07261261332886601im], ComplexF64[3.5198870235386804e-14 + 0.07648477859262517im, 3.5953541060608664e-14 + 0.08032114857156587im, 3.6693908163917454e-14 + 0.08456260152353304im, -3.4348233576737914e-15 + 0.19810395374233106im, 2.470314429049478e-15 + 0.3333468293468395im, 2.8004980484481193e-15 + 0.4871432581060058im, -1.1223485163381336e-15 + 0.6569150578538698im, 1.2748174298842445e-15 + 0.8761810550272439im, -1.9272979923137014e-16 + 1.100702146382939im, -1.522857011606561e-15 + 1.415814170262549im  …  -1.942423731443395e-15 - 1.4158141702625326im, 3.370402327106042e-15 - 1.1007021463829396im, -4.525614487118043e-15 - 0.8761810550272412im, 1.3293749922124953e-15 - 0.6569150578538734im, 6.706228121968255e-18 - 0.4871432581060045im, -1.3663120885286207e-15 - 0.333346829346839im, -5.603092310661188e-16 - 0.1981039537423308im, -1.5289596804051568e-14 - 0.08456260152354339im, -1.580579094973271e-14 - 0.08032114857157571im, -1.610421794365202e-14 - 0.07648477859263442im]])"
      ]
     },
     "execution_count": 351,
     "metadata": {},
     "output_type": "execute_result"
    }
   ],
   "source": [
    "\n",
    "function run(D,Us,rho_omega,omega_range,nitr,mixing)\n",
    "    # make sparse ir basis\n",
    "    beta = 10  * D\n",
    "    wmax = 10.0 * D\n",
    "    eps = 1e-9\n",
    "    basis = sparse_ir.FiniteTempBasis(\"F\", beta, wmax, eps=eps)\n",
    "\n",
    "    Z = []\n",
    "    sigma_history = []\n",
    "    for iu in Us\n",
    "        solver = IPT.IPTSolver(iu,basis,rho_omega,omega_range)\n",
    "        println(solver.U)\n",
    "        z, sigma_ = normalize_factor(solver,sigma_history,nitr,mixing) \n",
    "        push!(sigma_history,sigma_)\n",
    "        if abs(z) > 1e-10\n",
    "            push!(Z,z)\n",
    "        else \n",
    "            break\n",
    "        end\n",
    "    end\n",
    "\n",
    "    return Z, sigma_history\n",
    "end\n",
    "\n",
    "D = 2\n",
    "num_U = 10\n",
    "Us = 2 .* collect(range(5/D,6.5/D,num_U))\n",
    "omega_range = (-2.0,2.0)\n",
    "nitr = 1000\n",
    "mixing = 0.1\n",
    "Z,sigma_history = run(D,Us,rho_omega,omega_range,nitr,mixing)"
   ]
  },
  {
   "cell_type": "code",
   "execution_count": 352,
   "metadata": {},
   "outputs": [
    {
     "data": {
      "text/plain": [
       "44-element Vector{ComplexF64}:\n",
       "  8.399906463102314e-15 + 0.045252805518977125im\n",
       "   8.54466008242703e-15 + 0.04752214114878074im\n",
       "  8.661791855617321e-15 + 0.05003101379008681im\n",
       " -7.160343330047745e-16 + 0.11714364117210613im\n",
       " 2.0406499850379814e-15 + 0.19687580941575658im\n",
       "  2.518934751733505e-16 + 0.2870887587684795im\n",
       "  8.548849901697101e-16 + 0.3858460365396033im\n",
       " -8.398013337830424e-16 + 0.5116295396535345im\n",
       "  1.329117782984803e-16 + 0.6377421416177158im\n",
       "  9.469681621368615e-16 + 0.8089042148763546im\n",
       " 2.5058035158253244e-15 + 0.9946506671300523im\n",
       "  8.058515346213025e-16 + 1.1484498842536373im\n",
       "  1.201754146568383e-15 + 1.3501998849322845im\n",
       "                        ⋮\n",
       " 2.3213239618541108e-15 - 1.1484498842536373im\n",
       " 1.0343599249518778e-15 - 0.9946506671300525im\n",
       "  2.290738753240773e-15 - 0.8089042148763551im\n",
       " -5.906673685549427e-16 - 0.6377421416177163im\n",
       "  -2.83607704036028e-16 - 0.5116295396535346im\n",
       " -7.542054099617202e-16 - 0.3858460365396032im\n",
       "   5.56657840258678e-16 - 0.2870887587684796im\n",
       " 1.0975758019201864e-15 - 0.19687580941575672im\n",
       " -3.345526943795638e-16 - 0.11714364117210618im\n",
       " -4.990183841497129e-15 - 0.05003101379008704im\n",
       " -5.064305552896751e-15 - 0.04752214114878097im\n",
       " -5.102893064049456e-15 - 0.04525280551897733im"
      ]
     },
     "execution_count": 352,
     "metadata": {},
     "output_type": "execute_result"
    }
   ],
   "source": [
    "sigma_history[1]\n"
   ]
  },
  {
   "cell_type": "code",
   "execution_count": 353,
   "metadata": {},
   "outputs": [
    {
     "data": {
      "text/plain": [
       "44-element Vector{ComplexF64}:\n",
       "     9.1909192129265e-15 + 0.04832027799395186im\n",
       "    9.35092878808947e-15 + 0.05074347762237423im\n",
       "   9.481005592936085e-15 + 0.05342246145369446im\n",
       "  -7.830413514086602e-16 + 0.1250892745853141im\n",
       "   2.181442405586039e-15 + 0.2102479718369785im\n",
       "  3.1023336246304685e-16 + 0.3066367877723531im\n",
       "   8.303168284830696e-16 + 0.4122222318976822im\n",
       "  -8.821013525411313e-16 + 0.5468531363168535im\n",
       "  2.9735003569348317e-17 + 0.6820779056308142im\n",
       "   8.706154689642133e-16 + 0.8661637500252509im\n",
       "   2.569438752901928e-15 + 1.0669783906034134im\n",
       "   7.691123630386766e-16 + 1.2344191390483281im\n",
       "  1.1053067268778094e-15 + 1.4563575072610733im\n",
       "                         ⋮\n",
       "  2.3776913441467988e-15 - 1.234419139048328im\n",
       "  1.0643176093096914e-15 - 1.0669783906034134im\n",
       "  2.3015736049486063e-15 - 0.8661637500252517im\n",
       "   -6.42741385317314e-16 - 0.6820779056308147im\n",
       " -3.7427759247786725e-16 - 0.5468531363168535im\n",
       "  -8.765787318838838e-16 - 0.41222223189768215im\n",
       "   5.819235957697828e-16 - 0.3066367877723532im\n",
       "  1.1188459420648073e-15 - 0.2102479718369786im\n",
       " -3.5349841264555323e-16 - 0.1250892745853141im\n",
       "  -5.413166637130882e-15 - 0.05342246145369475im\n",
       "  -5.495760943417184e-15 - 0.05074347762237451im\n",
       "  -5.539460144904936e-15 - 0.048320277993952124im"
      ]
     },
     "execution_count": 353,
     "metadata": {},
     "output_type": "execute_result"
    }
   ],
   "source": [
    "sigma_history[2]"
   ]
  },
  {
   "cell_type": "code",
   "execution_count": 354,
   "metadata": {},
   "outputs": [
    {
     "data": {
      "text/plain": [
       "44-element Vector{ComplexF64}:\n",
       "  1.0060017575450704e-14 + 0.05148838262358944im\n",
       "  1.0236178108074481e-14 + 0.054070500356734885im\n",
       "  1.0379816584599142e-14 + 0.056925184267190634im\n",
       "  -8.778220147234342e-16 + 0.13329645262710607im\n",
       "   2.263089701393316e-15 + 0.22406349898256772im\n",
       "   3.217021851621478e-16 + 0.326841209062426im\n",
       "   8.094946492033203e-16 + 0.4395013983727434im\n",
       "   -9.27291995678279e-16 + 0.5833229074668379im\n",
       " -1.4747070088201624e-16 + 0.7280496373006391im\n",
       "   7.449345775605368e-16 + 0.9256922090763869im\n",
       "  2.2913923835354193e-15 + 1.142459074169794im\n",
       "  3.3264676437154783e-16 + 1.3245036297805985im\n",
       "  4.3761334178108647e-16 + 1.568388195659499im\n",
       "                         ⋮\n",
       "   1.914788038475358e-15 - 1.324503629780598im\n",
       "   7.292614004657168e-16 - 1.1424590741697944im\n",
       "  2.1572414915323253e-15 - 0.9256922090763877im\n",
       "  -7.663066561273397e-16 - 0.7280496373006395im\n",
       "    -5.4059999611278e-16 - 0.5833229074668379im\n",
       "  -9.682993601525678e-16 - 0.43950139837274327im\n",
       "   5.682901794450204e-16 - 0.32684120906242614im\n",
       "  1.0981017396964811e-15 - 0.22406349898256792im\n",
       " -3.5922782192263134e-16 - 0.13329645262710615im\n",
       "  -5.902861745339593e-15 - 0.05692518426719103im\n",
       " -5.9941530870329806e-15 - 0.05407050035673526im\n",
       "  -6.042747163724002e-15 - 0.0514883826235898im"
      ]
     },
     "execution_count": 354,
     "metadata": {},
     "output_type": "execute_result"
    }
   ],
   "source": [
    "sigma_history[3]"
   ]
  },
  {
   "cell_type": "code",
   "execution_count": 355,
   "metadata": {},
   "outputs": [
    {
     "data": {
      "text/plain": [
       "2-element Vector{Int64}:\n",
       " 3\n",
       " 4"
      ]
     },
     "execution_count": 355,
     "metadata": {},
     "output_type": "execute_result"
    }
   ],
   "source": [
    "x = [1,2]\n",
    "y = [3,4,5]\n",
    "#z1 = broadcast(-,x,y[:,newaxis]) # dimension unmatched error\n",
    "z2 = broadcast(-,x,y[newaxis,:])\n",
    "\n",
    "y = [1 2;3 4]\n",
    "z = [3,4]\n"
   ]
  },
  {
   "cell_type": "code",
   "execution_count": 356,
   "metadata": {},
   "outputs": [
    {
     "name": "stdout",
     "output_type": "stream",
     "text": [
      "Array{Float64, 6}\n"
     ]
    },
    {
     "data": {
      "text/plain": [
       "5×5×5 Array{Float64, 3}:\n",
       "[:, :, 1] =\n",
       "  10.105      5.86708   -4.60872   1.04186  -7.26486\n",
       " -14.3669     5.93079   -4.68359   7.22336   7.14118\n",
       "  -0.68108   -8.32887    1.00013  12.0189   -0.751057\n",
       "  -0.422035  22.5226   -10.2732   -2.04699  20.0661\n",
       "  -1.66555    3.81622  -10.8098   -2.91974   4.44451\n",
       "\n",
       "[:, :, 2] =\n",
       " -7.4296     0.628208    2.40466   13.28       0.00960121\n",
       " -2.04811    0.837815  -15.6665   -13.4841   -19.3697\n",
       " -0.2172     2.74124     2.32386  -16.9038   -23.9202\n",
       "  0.193789  -2.46063    27.9405    -4.86581   -1.69766\n",
       " -3.86052   14.1526     -8.36419   -1.24803  -10.8448\n",
       "\n",
       "[:, :, 3] =\n",
       "  -8.31095   18.0418      8.84101   -7.61746    -9.06903\n",
       "  12.1661   -12.1272    -12.1635    -0.220288    8.81171\n",
       "  12.1265    -0.932135  -14.5563    -4.16819    24.683\n",
       "   4.10998   23.1548      7.64579  -10.8756    -15.9577\n",
       " -13.6681    -0.26145    -4.21927   -3.66653     1.64093\n",
       "\n",
       "[:, :, 4] =\n",
       " -4.21713  -9.63371     0.212547   -2.39323  11.2282\n",
       "  6.83619  11.4086      7.51471    10.1839   21.3826\n",
       "  5.24348   2.0169    -11.8527    -12.4098    5.51608\n",
       " 29.8068   -0.471057  -20.0354      2.48181  -3.71879\n",
       " 12.6118    0.210952  -19.0332     -3.80251   8.22827\n",
       "\n",
       "[:, :, 5] =\n",
       "  -0.939335    3.49913  -11.558    -3.83802  -4.42907\n",
       " -13.9869    -11.0579    -8.40913  -2.09818   1.29238\n",
       "   2.49235    13.5117     4.12849  -4.18862  12.8279\n",
       " -11.2853     16.6992    -1.93036  -2.51613   7.6071\n",
       "  -5.42457   -10.6506    10.4563   -7.06078   7.87233"
      ]
     },
     "execution_count": 356,
     "metadata": {},
     "output_type": "execute_result"
    }
   ],
   "source": [
    "using TensorOperations\n",
    "α=randn()\n",
    "A=randn(5,5,5,5,5,5)\n",
    "B=randn(5,5,5)\n",
    "C=randn(5,5,5)\n",
    "D=zeros(5,5,5)\n",
    "println(typeof(A))\n",
    "@tensor begin\n",
    "    D[a,b,c] = A[a,e,f,c,f,g]*B[g,b,e] + α*C[c,a,b]\n",
    "    E[a,b,c] := A[a,e,f,c,f,g]*B[g,b,e] + α*C[c,a,b]\n",
    "end"
   ]
  },
  {
   "cell_type": "code",
   "execution_count": 357,
   "metadata": {},
   "outputs": [
    {
     "name": "stdout",
     "output_type": "stream",
     "text": [
      "11\n",
      "0\n"
     ]
    }
   ],
   "source": [
    "a = [1,2]\n",
    "b = [3,4]\n",
    "c = 0\n",
    "inner_prod = dot(a,b)\n",
    "println(inner_prod)\n",
    "@einsum c = a[i] * b[i]\n",
    "println(c)"
   ]
  },
  {
   "cell_type": "code",
   "execution_count": 358,
   "metadata": {},
   "outputs": [
    {
     "data": {
      "text/plain": [
       "2-element Vector{Float64}:\n",
       " 1.0\n",
       " 0.5"
      ]
     },
     "execution_count": 358,
     "metadata": {},
     "output_type": "execute_result"
    }
   ],
   "source": [
    "x = [1,2]\n",
    "1 ./ x"
   ]
  },
  {
   "cell_type": "code",
   "execution_count": 359,
   "metadata": {},
   "outputs": [
    {
     "data": {
      "image/png": "[encoded data removed]",
      "text/plain": [
       "Figure(PyObject <Figure size 2000x400 with 1 Axes>)"
      ]
     },
     "metadata": {},
     "output_type": "display_data"
    },
    {
     "data": {
      "image/png": "[encoded data removed]",
      "text/plain": [
       "Figure(PyObject <Figure size 2000x400 with 1 Axes>)"
      ]
     },
     "metadata": {},
     "output_type": "display_data"
    },
    {
     "name": "stderr",
     "output_type": "stream",
     "text": [
      "sys:1: UserWarning: Matplotlib is currently using agg, which is a non-GUI backend, so cannot show the figure.\n",
      "sys:1: UserWarning: Matplotlib is currently using agg, which is a non-GUI backend, so cannot show the figure.\n"
     ]
    }
   ],
   "source": [
    "fig = plt.figure(figsize=(20,4))\n",
    "plt.plot(gausslegendre(1000)[1][1:10:end] ,marker= \"<\")\n",
    "plt.show()\n",
    "fig = plt.figure(figsize=(20,4))\n",
    "plt.plot(gausslegendre(1000)[2][1:10:end] ,marker= \"<\")\n",
    "plt.show()"
   ]
  },
  {
   "cell_type": "code",
   "execution_count": 360,
   "metadata": {},
   "outputs": [
    {
     "data": {
      "text/plain": [
       "DataType"
      ]
     },
     "execution_count": 360,
     "metadata": {},
     "output_type": "execute_result"
    }
   ],
   "source": [
    "test = (1,2)\n",
    "typeof(typeof(test))"
   ]
  },
  {
   "cell_type": "code",
   "execution_count": 361,
   "metadata": {},
   "outputs": [
    {
     "name": "stdout",
     "output_type": "stream",
     "text": [
      "1.0\n"
     ]
    },
    {
     "name": "stderr",
     "output_type": "stream",
     "text": [
      "WARNING: replacing module Test.\n"
     ]
    },
    {
     "data": {
      "text/plain": [
       "Main.Test"
      ]
     },
     "execution_count": 361,
     "metadata": {},
     "output_type": "execute_result"
    }
   ],
   "source": [
    "module Test\n",
    "\n",
    "\n",
    "struct Point\n",
    "    x::Float64\n",
    "    y::Float64\n",
    "end\n",
    "\n",
    "function compute_distance(p1::Point,p2::Point)\n",
    "    return sqrt((p1.x-p2.x)^2 + (p1.y-p2.y)^2)\n",
    "end\n",
    "\n",
    "p1 = Point(0.0,1.0)\n",
    "p2 = Point(0.0,0.0)\n",
    "distance = compute_distance(p1,p2)\n",
    "println(distance)\n",
    "\n",
    "end"
   ]
  },
  {
   "cell_type": "code",
   "execution_count": 362,
   "metadata": {},
   "outputs": [
    {
     "ename": "LoadError",
     "evalue": "syntax: extra token \"numpy\" after end of expression",
     "output_type": "error",
     "traceback": [
      "syntax: extra token \"numpy\" after end of expression",
      "",
      "Stacktrace:",
      " [1] top-level scope",
      "   @ In[362]:1",
      " [2] eval",
      "   @ ./boot.jl:373 [inlined]",
      " [3] include_string(mapexpr::typeof(REPL.softscope), mod::Module, code::String, filename::String)",
      "   @ Base ./loading.jl:1196"
     ]
    }
   ],
   "source": [
    "from numpy.polynomial.legendre import leggauss\n",
    "\n",
    "def scale_quad(x, w, xmin, xmax):\n",
    "    \"\"\" Scale weights and notes of quadrature to the interval [xmin, xmax] \"\"\"\n",
    "    assert xmin < xmax\n",
    "    dx = xmax - xmin\n",
    "    w_ = 0.5 * dx * w\n",
    "    x_ = (0.5 * dx) * (x + 1) + xmin\n",
    "    return x_, w_\n",
    "\n",
    "class IPTSolver:\n",
    "    def __init__(self, U, basis, rho_omega, omega_range, deg_leggauss=1000):\n",
    "        assert isinstance(omega_range, tuple)\n",
    "        assert omega_range[0] < omega_range[1]\n",
    "        self.U = U\n",
    "        self.basis = basis\n",
    "        self.beta = basis.beta\n",
    "        self.rho_omega = rho_omega\n",
    "\n",
    "        x_, w_ = leggauss(deg_leggauss)\n",
    "        self._quad_rule = scale_quad(x_, w_, omega_range[0], omega_range[1])\n",
    "\n",
    "        self._smpl_matsu = irbasis3.MatsubaraSampling(basis)\n",
    "        self._smpl_tau = irbasis3.TauSampling(basis)\n",
    "\n",
    "    def gloc_iv(self, sigma_iv):\n",
    "        \"\"\"\n",
    "        Compute G_loc(iv) from Sigma_iv\n",
    "\n",
    "        G_loc(iv) \\simeq \\sum_q w_q rho(x_q)/(iv - w_q - \\Sigma(iv))\n",
    "        \"\"\"\n",
    "        quad_points = self._quad_rule[0]\n",
    "        quad_weight = self._quad_rule[1]\n",
    "        iv = 1j * self._smpl_matsu.sampling_points * np.pi/self.beta\n",
    "        r = np.einsum('q,q,wq->w',\n",
    "            quad_weight,\n",
    "            self.rho_omega(quad_points),\n",
    "            1/((iv-sigma_iv)[:,None] - quad_points[None,:]),\n",
    "            optimize=True\n",
    "        )\n",
    "        return r\n",
    "    \n",
    "    def g0_iv(self, gloc, sigma_iw):\n",
    "        \"\"\"\n",
    "        Compute \\mathcal{G}(iv) from G_loc(iv) and Sigma(iv)\n",
    "        \"\"\"\n",
    "        return 1/(1/gloc + sigma_iw)\n",
    "    \n",
    "    def sigma_iv(self, g0_iv):\n",
    "        \"\"\"\n",
    "        Compute Sigma(tau) from \\mathcal{G}(iv)\n",
    "        \"\"\"\n",
    "        g0_IR = self._smpl_matsu.fit(g0_iv, axis=0)\n",
    "        g0_tau = self._smpl_tau.evaluate(g0_IR)\n",
    "        sigma_tau = (self.U**2) * (g0_tau**2) * g0_tau[::-1]\n",
    "        sigma_IR = self._smpl_tau.fit(sigma_tau)\n",
    "        return self._smpl_matsu.evaluate(sigma_IR, axis=0)\n",
    "    \n",
    "    def new_sigma_iv(self, sigma_iv):\n",
    "        gloc_iv = self.gloc_iv(sigma_iv)\n",
    "        g0_iv = self.g0_iv(gloc_iv, sigma_iv)\n",
    "        r = self.sigma_iv(g0_iv)\n",
    "        return r\n"
   ]
  },
  {
   "cell_type": "code",
   "execution_count": null,
   "metadata": {},
   "outputs": [],
   "source": [
    "niter = 1000\n",
    "mixing = 0.1\n",
    "\n",
    "U = 1.0\n",
    "\n",
    "# Initialize solver\n",
    "solver = IPTSolver(U, basis, rho_omega, (-2,2))\n",
    "\n",
    "sigma_iv = np.zeros_like(\n",
    "    solver._smpl_matsu.sampling_points.size, dtype=np.complex128)\n"
   ]
  },
  {
   "cell_type": "code",
   "execution_count": null,
   "metadata": {},
   "outputs": [],
   "source": [
    "# Gloc_iv\n",
    "gloc_iv = solver.gloc_iv(sigma_iv)\n",
    "plt.plot(\n",
    "    solver._smpl_matsu.sampling_points,\n",
    "    gloc_iv.real\n",
    ")\n",
    "plt.plot(\n",
    "    solver._smpl_matsu.sampling_points,\n",
    "    gloc_iv.imag\n",
    ")"
   ]
  },
  {
   "cell_type": "code",
   "execution_count": null,
   "metadata": {},
   "outputs": [],
   "source": [
    "# Gloc_iv\n",
    "g0_iv = solver.g0_iv(gloc_iv, sigma_iv)\n",
    "plt.plot(\n",
    "    solver._smpl_matsu.sampling_points,\n",
    "    g0_iv.real\n",
    ")\n",
    "plt.plot(\n",
    "    solver._smpl_matsu.sampling_points,\n",
    "    g0_iv.imag\n",
    ")"
   ]
  },
  {
   "cell_type": "code",
   "execution_count": null,
   "metadata": {},
   "outputs": [],
   "source": [
    "for iter in range(niter):\n",
    "    new_sigma_iv = solver.new_sigma_iv(sigma_iv)\n",
    "    rdiff = np.abs(new_sigma_iv - sigma_iv).max()/np.abs(sigma_iv).max()\n",
    "    print(iter, rdiff)\n",
    "    if rdiff < 1e-10:\n",
    "        break\n",
    "    sigma_iv = mixing * new_sigma_iv + (1-mixing) * sigma_iv"
   ]
  },
  {
   "cell_type": "code",
   "execution_count": null,
   "metadata": {},
   "outputs": [],
   "source": [
    "plt.plot(\n",
    "    solver._smpl_matsu.sampling_points,\n",
    "    sigma_iv.imag,\n",
    "    marker=\"x\"\n",
    ")"
   ]
  },
  {
   "cell_type": "code",
   "execution_count": null,
   "metadata": {},
   "outputs": [],
   "source": []
  }
 ],
 "metadata": {
  "interpreter": {
   "hash": "aee8b7b246df8f9039afb4144a1f6fd8d2ca17a180786b69acc140d282b71a49"
  },
  "kernelspec": {
   "display_name": "Julia 1.7.1",
   "language": "julia",
   "name": "julia-1.7"
  },
  "language_info": {
   "file_extension": ".jl",
   "mimetype": "application/julia",
   "name": "julia",
   "version": "1.7.1"
  }
 },
 "nbformat": 4,
 "nbformat_minor": 4
}
