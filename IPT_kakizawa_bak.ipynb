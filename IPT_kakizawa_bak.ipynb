{
 "cells": [
  {
   "cell_type": "markdown",
   "metadata": {},
   "source": [
    "# IPT"
   ]
  },
  {
   "cell_type": "code",
   "execution_count": 112,
   "metadata": {},
   "outputs": [
    {
     "data": {
      "text/plain": [
       "\"\\\\usepackage{amsmath}\""
      ]
     },
     "execution_count": 112,
     "metadata": {},
     "output_type": "execute_result"
    }
   ],
   "source": [
    "using PyPlot\n",
    "using LaTeXStrings\n",
    "using QuadGK\n",
    "using FastGaussQuadrature\n",
    "using TensorOperations\n",
    "using Einsum\n",
    "using LinearAlgebra\n",
    "import PyCall: pyimport\n",
    "sparse_ir = pyimport(\"sparse_ir\")\n",
    "\n",
    "rcParams = PyPlot.PyDict(PyPlot.matplotlib.\"rcParams\")\n",
    "\n",
    "rcParams[\"text.usetex\"] = true\n",
    "rcParams[\"font.family\"] = \"serif\"\n",
    "rcParams[\"font.size\"] = 16\n",
    "rcParams[\"text.latex.preamble\"] = raw\"\\usepackage{amsmath}\""
   ]
  },
  {
   "cell_type": "markdown",
   "metadata": {},
   "source": [
    "## Step 1: Generate IR basis and associated sampling points"
   ]
  },
  {
   "cell_type": "code",
   "execution_count": 113,
   "metadata": {},
   "outputs": [
    {
     "name": "stdout",
     "output_type": "stream",
     "text": [
      "cond (tau): 5.89770217368647cond (matsu): 11.266380245503292"
     ]
    }
   ],
   "source": [
    "lambda_ = 100\n",
    "beta    = 10\n",
    "basis   = sparse_ir.FiniteTempBasis(\"F\", beta, lambda_/beta, eps=1e-10)\n",
    "L = basis.size\n",
    "# Sparse sampling in tau\n",
    "smpl_tau = sparse_ir.TauSampling(basis)\n",
    "print(\"cond (tau): \", smpl_tau.cond)\n",
    "\n",
    "# Sparse sampling in Matsubara frequencies\n",
    "smpl_matsu = sparse_ir.MatsubaraSampling(basis)\n",
    "print(\"cond (matsu): \", smpl_matsu.cond)"
   ]
  },
  {
   "cell_type": "markdown",
   "metadata": {},
   "source": [
    "## Step 2\n",
    "Define a non-interacting DOS:\n",
    "$$\n",
    "\\rho(\\omega) = \\frac{\\sqrt{4-\\omega^2}}{2\\pi}.\n",
    "$$"
   ]
  },
  {
   "cell_type": "code",
   "execution_count": 114,
   "metadata": {},
   "outputs": [
    {
     "data": {
      "image/png": "[encoded data removed]",
      "text/plain": [
       "Figure(PyObject <Figure size 640x480 with 1 Axes>)"
      ]
     },
     "metadata": {},
     "output_type": "display_data"
    },
    {
     "name": "stderr",
     "output_type": "stream",
     "text": [
      "sys:1: UserWarning: Matplotlib is currently using agg, which is a non-GUI backend, so cannot show the figure.\n"
     ]
    }
   ],
   "source": [
    "function rho_omega(omega)\n",
    "    return sqrt(4-omega^2)/(2*pi)\n",
    "end\n",
    "\n",
    "@assert abs(quadgk(rho_omega,-2,2)[1]-1) < 1e-9\n",
    "\n",
    "num_omega = 100\n",
    "omegas = collect(range(-2,2,num_omega))\n",
    "plt.figure()\n",
    "plt.plot(omegas,rho_omega.(omegas))\n",
    "plt.tight_layout()\n",
    "plt.title(\"DOS\")\n",
    "fontsize = 20\n",
    "plt.xlabel(L\"$\\omega$\",fontsize=fontsize)\n",
    "plt.ylabel(L\"$\\rho(\\omega)$\",fontsize=fontsize)\n",
    "plt.show()"
   ]
  },
  {
   "cell_type": "code",
   "execution_count": 115,
   "metadata": {},
   "outputs": [
    {
     "name": "stderr",
     "output_type": "stream",
     "text": [
      "WARNING: replacing module IPT.\n"
     ]
    },
    {
     "data": {
      "text/plain": [
       "Main.IPT"
      ]
     },
     "execution_count": 115,
     "metadata": {},
     "output_type": "execute_result"
    }
   ],
   "source": [
    "module IPT\n",
    "import PyCall: pyimport\n",
    "sparse_ir = pyimport(\"sparse_ir\")\n",
    "using FastGaussQuadrature\n",
    "\n",
    "function rho_omega(omega)\n",
    "    return sqrt(4-omega^2)/(2*pi)\n",
    "end\n",
    "\n",
    "function scale_quad(x, w, x_min, x_max)\n",
    "    @assert x_min < x_max\n",
    "    dx = x_max - x_min\n",
    "    x_ = 0.5 .* dx .* (x .+ 1) .+ x_min\n",
    "    w_ = 0.5 .* dx .* w\n",
    "    return x_, w_\n",
    "end\n",
    "\n",
    "struct IPTSolver\n",
    "    U::Float64\n",
    "    basis\n",
    "    beta::Float64\n",
    "    rho_omega\n",
    "    omega_range::Tuple{Float64,Float64}\n",
    "    quad_rule\n",
    "    smpl_matsu\n",
    "    smpl_tau\n",
    "end\n",
    "\n",
    "function IPTSolver(U,basis,rho_omega,omega_range,deg_leg_gauss=1000)\n",
    "    @assert omega_range[1] < omega_range[2]\n",
    "    x_,w_ = gausslegendre(deg_leg_gauss)\n",
    "    quad_rule = scale_quad(x_,w_,omega_range[1],omega_range[2])\n",
    "    smpl_matsu = sparse_ir.MatsubaraSampling(basis)\n",
    "    smpl_tau = sparse_ir.TauSampling(basis)\n",
    "\n",
    "    return IPTSolver(U,basis,basis.beta,rho_omega,omega_range,quad_rule,smpl_matsu,smpl_tau)\n",
    "end\n",
    "\n",
    "U = 2.0\n",
    "omega_range = (-2.0,2.0)\n",
    "lambda_ = 100\n",
    "beta    = 10\n",
    "basis   = sparse_ir.FiniteTempBasis(\"F\", beta, lambda_/beta, eps=1e-10)\n",
    "\n",
    "solver = IPTSolver(U,basis,rho_omega,omega_range)\n",
    "    \n",
    "end"
   ]
  },
  {
   "cell_type": "code",
   "execution_count": 116,
   "metadata": {},
   "outputs": [
    {
     "name": "stdout",
     "output_type": "stream",
     "text": [
      "cond (tau): 11.408396757532548\n",
      "cond (matsu): 17.755472692037568\n"
     ]
    }
   ],
   "source": [
    "D = 2\n",
    "temp = 0.1/D\n",
    "beta = 10*D\n",
    "wmax = 10.0 * D\n",
    "eps = 1e-9\n",
    "\n",
    "basis = sparse_ir.FiniteTempBasis(\"F\",beta,wmax,eps=eps)\n",
    "L = basis.size\n",
    "\n",
    "# Sparse sampling in tau\n",
    "smpl_tau = sparse_ir.TauSampling(basis)\n",
    "println(\"cond (tau): \", smpl_tau.cond)\n",
    "\n",
    "# Sparse sampling in Matsubara frequencies\n",
    "smpl_matsu = sparse_ir.MatsubaraSampling(basis)\n",
    "println(\"cond (matsu): \", smpl_matsu.cond)"
   ]
  },
  {
   "cell_type": "code",
   "execution_count": 117,
   "metadata": {},
   "outputs": [
    {
     "name": "stdout",
     "output_type": "stream",
     "text": [
      "[-879, -837, -795, -339, -201, -137, -101, -75, -59, -45, -35, -29, -23, -19, -15, -13, -11, -9, -7, -5, -3, -1, 1, 3, 5, 7, 9, 11, 13, 15, 19, 23, 29, 35, 45, 59, 75, 101, 137, 201, 339, 795, 837, 879]\n"
     ]
    }
   ],
   "source": [
    "println(smpl_matsu.sampling_points)"
   ]
  },
  {
   "cell_type": "markdown",
   "metadata": {},
   "source": [
    "## Self-consistent equation\n",
    "\n",
    "$$\n",
    "\\begin{align*}\n",
    "  G_\\mathrm{loc}(\\mathrm{i}\\nu) &= \\int \\mathrm{d}\\omega \\frac{\\rho(\\omega)}{\\mathrm{i}\\nu - \\omega - \\Sigma(\\mathrm{i}\\nu)}\\\\\n",
    "  \\mathcal{G}(\\mathrm{i}\\nu) &= (G^{-1}_{\\mathrm{loc}}(\\mathrm{i}\\nu) + \\Sigma(\\mathrm{i}\\nu))^{-1}\\\\\n",
    "  \\Sigma(\\tau) &= U^2 \\mathcal{G}(\\tau)^2 \\mathcal{G}(\\beta-\\tau)\n",
    "\\end{align*}\n",
    "$$"
   ]
  },
  {
   "cell_type": "code",
   "execution_count": 118,
   "metadata": {},
   "outputs": [
    {
     "name": "stderr",
     "output_type": "stream",
     "text": [
      "WARNING: redefinition of constant newaxis. This may fail, cause incorrect answers, or produce other errors.\n"
     ]
    },
    {
     "data": {
      "text/plain": [
       "1-element Vector{CartesianIndex{0}}:\n",
       " CartesianIndex()"
      ]
     },
     "execution_count": 118,
     "metadata": {},
     "output_type": "execute_result"
    }
   ],
   "source": [
    "const newaxis = [CartesianIndex()]"
   ]
  },
  {
   "cell_type": "code",
   "execution_count": 119,
   "metadata": {},
   "outputs": [
    {
     "data": {
      "text/plain": [
       "32-element Vector{ComplexF64}:\n",
       "  2.7489231239054475e-21 + 0.013897310458286651im\n",
       " -1.4210374042150712e-20 + 0.014665503466246812im\n",
       "   1.663382340544285e-20 + 0.03418686712409238im\n",
       "  -6.328324596821624e-20 + 0.05768196415180551im\n",
       "  -2.943653524692192e-19 + 0.08108134827108833im\n",
       "    5.90776322593282e-19 + 0.1084705842600468im\n",
       "  -3.278226368978812e-19 + 0.13584178982805456im\n",
       "  -7.574043089689999e-19 + 0.18110011577070237im\n",
       "  -5.356676476695904e-18 + 0.20342510578177503im\n",
       " -1.7864520427634232e-18 + 0.2317079136786483im\n",
       "  -6.707395828955688e-18 + 0.2685096074396494im\n",
       "  5.8631777773259055e-18 + 0.31792844610473436im\n",
       "    3.63699569374868e-17 + 0.3867219997228807im\n",
       "                         ⋮\n",
       "  5.8631777773259055e-18 - 0.31792844610473436im\n",
       "  -6.707395828955688e-18 - 0.2685096074396494im\n",
       " -1.7864520427634232e-18 - 0.2317079136786483im\n",
       "  -5.356676476695904e-18 - 0.20342510578177503im\n",
       "  -7.574043089689999e-19 - 0.18110011577070237im\n",
       "  -3.278226368978812e-19 - 0.13584178982805456im\n",
       "    5.90776322593282e-19 - 0.1084705842600468im\n",
       "  -2.943653524692192e-19 - 0.08108134827108833im\n",
       "  -6.328324596821624e-20 - 0.05768196415180551im\n",
       "   1.663382340544285e-20 - 0.03418686712409238im\n",
       " -1.4210374042150712e-20 - 0.014665503466246812im\n",
       "  2.7489231239054475e-21 - 0.013897310458286651im"
      ]
     },
     "execution_count": 119,
     "metadata": {},
     "output_type": "execute_result"
    }
   ],
   "source": [
    "function compute_gloc_iv(solver,sigma_iv)\n",
    "    quad_points = solver.quad_rule[1]\n",
    "    quad_weight = solver.quad_rule[2] \n",
    "    # sampling Matsubara frequencies\n",
    "    iv = im .* solver.smpl_matsu.sampling_points .* (pi/solver.beta)\n",
    "    gloc_iv = zeros(ComplexF64,length(iv))\n",
    "    temp = (iv .- sigma_iv)[newaxis,:] .- quad_points[:,newaxis]\n",
    "\n",
    "    for j in 1:length(iv)\n",
    "        for i in 1:length(quad_points)\n",
    "            gloc_iv[j] += quad_weight[i] * solver.rho_omega.(quad_points)[i] / temp[i,j]\n",
    "        end\n",
    "    end\n",
    "\n",
    "    #@tensor gloc_iv[j] = quad_weight[i] * solver.rho_omega.(quad_points)[i] * (1 ./ temp)[i,j] \n",
    "\n",
    "    return gloc_iv\n",
    "end\n",
    "\n",
    "len_iv = length(solver.smpl_matsu.sampling_points)\n",
    "sigma_iv = zeros(ComplexF64,len_iv)\n",
    "gloc_iv = compute_gloc_iv(solver,sigma_iv)"
   ]
  },
  {
   "cell_type": "code",
   "execution_count": 120,
   "metadata": {},
   "outputs": [
    {
     "data": {
      "text/plain": [
       "32-element Vector{ComplexF64}:\n",
       "  2.7489231239054475e-21 + 0.013897310458286651im\n",
       " -1.4210374042150712e-20 + 0.01466550346624681im\n",
       "   1.663382340544285e-20 + 0.03418686712409238im\n",
       "  -6.328324596821623e-20 + 0.0576819641518055im\n",
       "  -2.943653524692192e-19 + 0.08108134827108833im\n",
       "    5.90776322593282e-19 + 0.1084705842600468im\n",
       "  -3.278226368978812e-19 + 0.13584178982805456im\n",
       "  -7.574043089689999e-19 + 0.18110011577070237im\n",
       "  -5.356676476695905e-18 + 0.20342510578177503im\n",
       " -1.7864520427634232e-18 + 0.23170791367864832im\n",
       "  -6.707395828955688e-18 + 0.2685096074396494im\n",
       "  5.8631777773259055e-18 + 0.31792844610473436im\n",
       "    3.63699569374868e-17 + 0.3867219997228807im\n",
       "                         ⋮\n",
       "  5.8631777773259055e-18 - 0.31792844610473436im\n",
       "  -6.707395828955688e-18 - 0.2685096074396494im\n",
       " -1.7864520427634232e-18 - 0.23170791367864832im\n",
       "  -5.356676476695905e-18 - 0.20342510578177503im\n",
       "  -7.574043089689999e-19 - 0.18110011577070237im\n",
       "  -3.278226368978812e-19 - 0.13584178982805456im\n",
       "    5.90776322593282e-19 - 0.1084705842600468im\n",
       "  -2.943653524692192e-19 - 0.08108134827108833im\n",
       "  -6.328324596821623e-20 - 0.0576819641518055im\n",
       "   1.663382340544285e-20 - 0.03418686712409238im\n",
       " -1.4210374042150712e-20 - 0.01466550346624681im\n",
       "  2.7489231239054475e-21 - 0.013897310458286651im"
      ]
     },
     "execution_count": 120,
     "metadata": {},
     "output_type": "execute_result"
    }
   ],
   "source": [
    "function compute_g0_iv(solver,gloc_iv,sigma_iv)\n",
    "    return 1 ./ ((1 ./ gloc_iv) .+ sigma_iv)\n",
    "end\n",
    "\n",
    "g0_iv = compute_g0_iv(solver,gloc_iv,sigma_iv)"
   ]
  },
  {
   "cell_type": "code",
   "execution_count": 121,
   "metadata": {},
   "outputs": [
    {
     "data": {
      "text/plain": [
       "32-element Vector{ComplexF64}:\n",
       " -1.0565507249646445e-15 + 0.01388065006239275im\n",
       "  -1.073463162667871e-15 + 0.014645928613525332im\n",
       "   7.538310907447799e-17 + 0.03394100193239812im\n",
       "  -6.193837842334971e-17 + 0.05652296711424053im\n",
       "   6.544120079189193e-17 + 0.07794863685936357im\n",
       " -1.7219443727385461e-16 + 0.1012718617386264im\n",
       "  1.3072874437496554e-17 + 0.12238127033531916im\n",
       "  -3.843857216892678e-16 + 0.15207291937616754im\n",
       "   2.466092039865501e-17 + 0.1643117230589504im\n",
       " -1.3889083555978156e-16 + 0.1776187155939855im\n",
       "  -7.441257752543015e-17 + 0.1914777510836235im\n",
       "  -7.910504533196201e-17 + 0.20453792970507448im\n",
       "  3.3333528891807556e-17 + 0.21365172178497793im\n",
       "                         ⋮\n",
       "  -6.657706539304719e-17 - 0.20453792970507442im\n",
       " -1.1604221318133044e-16 - 0.19147775108362344im\n",
       "   9.495877317134956e-18 - 0.17761871559398545im\n",
       "  -3.446886158888311e-16 - 0.16431172305895034im\n",
       "  -1.659103014440653e-16 - 0.1520729193761675im\n",
       " -2.6140002566686136e-16 - 0.12238127033531913im\n",
       "   6.456136098398864e-18 - 0.1012718617386264im\n",
       " -1.0716018391394353e-16 - 0.07794863685936354im\n",
       "  -3.836362254976406e-19 - 0.05652296711424054im\n",
       "     7.7397498568656e-17 - 0.03394100193239815im\n",
       "   5.339275248068325e-16 - 0.01464592861352527im\n",
       "   5.455881214031205e-16 - 0.013880650062392691im"
      ]
     },
     "execution_count": 121,
     "metadata": {},
     "output_type": "execute_result"
    }
   ],
   "source": [
    "function compute_sigma_iv(solver,g0_iv)\n",
    "    g0_IR = solver.smpl_matsu.fit(g0_iv, axis=0) # axis for Fourier transform\n",
    "    g0_tau = solver.smpl_tau.evaluate(g0_IR)\n",
    "    sigma_tau = solver.U^2 .* g0_tau.^2 .* reverse(g0_tau)\n",
    "    sigma_IR = solver.smpl_tau.fit(sigma_tau)\n",
    "    return solver.smpl_matsu.evaluate(sigma_IR,axis=0)\n",
    "end\n",
    "\n",
    "sigma_iv = compute_sigma_iv(solver,g0_iv)"
   ]
  },
  {
   "cell_type": "code",
   "execution_count": 122,
   "metadata": {},
   "outputs": [
    {
     "data": {
      "text/plain": [
       "mk_new_sigma_iv (generic function with 1 method)"
      ]
     },
     "execution_count": 122,
     "metadata": {},
     "output_type": "execute_result"
    }
   ],
   "source": [
    "function mk_new_sigma_iv(solver,sigma_iv)\n",
    "    gloc_iv = compute_gloc_iv(solver,sigma_iv)\n",
    "    g0_iv = compute_g0_iv(solver,gloc_iv,sigma_iv)\n",
    "    return compute_sigma_iv(solver,g0_iv)\n",
    "end\n"
   ]
  },
  {
   "cell_type": "code",
   "execution_count": 123,
   "metadata": {},
   "outputs": [
    {
     "data": {
      "text/plain": [
       "normalize_factor (generic function with 1 method)"
      ]
     },
     "execution_count": 123,
     "metadata": {},
     "output_type": "execute_result"
    }
   ],
   "source": [
    "function normalize_factor(solver,sigma_history,nitr,mixing) # What is normalize_factor?\n",
    "    # initialize sigma_iv\n",
    "    if length(sigma_history) == 0\n",
    "        sigma_iv = zeros(ComplexF64,length(solver.smpl_matsu.sampling_points))\n",
    "    else \n",
    "        sigma_iv = sigma_history[end]\n",
    "    end\n",
    "   \n",
    "    # mixing sigma_iv with new_sigma_iv\n",
    "    for i in 1:nitr\n",
    "        new_sigma_iv = mk_new_sigma_iv(solver,sigma_iv)\n",
    "        rdiff = maximum(abs.(new_sigma_iv .- sigma_iv)) / maximum(abs.(sigma_iv))\n",
    "        #println(i,rdiff)\n",
    "        if rdiff < 1e-5\n",
    "            break\n",
    "        end\n",
    "        sigma_iv = mixing .* new_sigma_iv .+ (1-mixing) .* sigma_iv\n",
    "    end\n",
    "\n",
    "    center = Int(length(sigma_iv)/2) + 1 # julia \n",
    "    delta_sigma_iv = imag(sigma_iv[center]-sigma_iv[center-1])\n",
    "    delta_sampling_points = solver.smpl_matsu.sampling_points[center] - solver.smpl_matsu.sampling_points[center-1] \n",
    "    inv_z = 1 - delta_sigma_iv/delta_sampling_points\n",
    "\n",
    "    return 1/inv_z, sigma_iv\n",
    "end\n"
   ]
  },
  {
   "cell_type": "markdown",
   "metadata": {},
   "source": [
    "\n",
    "$$\n",
    "z = \\frac{1}{1-\\frac{\\partial \\Sigma}{\\partial \\omega}}\n",
    "$$\n",
    "Because a self-energy $\\Sigma$ contains an effect of an on-site interaction $U$, then $z$ meets\n",
    "$$\n",
    "z\\approx1 \\ (U\\ll1).\n",
    "$$"
   ]
  },
  {
   "cell_type": "code",
   "execution_count": 124,
   "metadata": {},
   "outputs": [
    {
     "name": "stdout",
     "output_type": "stream",
     "text": [
      "5.0\n",
      "5.078947368421052\n",
      "5.157894736842105\n",
      "5.2368421052631575\n",
      "5.315789473684211\n",
      "5.394736842105263\n",
      "5.473684210526316\n",
      "5.552631578947368\n",
      "5.631578947368421\n",
      "5.7105263157894735\n",
      "5.7894736842105265\n",
      "5.868421052631579\n",
      "5.947368421052632\n",
      "6.026315789473684\n",
      "6.105263157894737\n",
      "6.184210526315789\n",
      "6.2631578947368425\n",
      "6.342105263157895\n",
      "6.421052631578948\n",
      "6.5\n"
     ]
    },
    {
     "data": {
      "text/plain": [
       "(Any[0.5906632344276342, 0.5721199383364783, 0.5525585617301096, 0.5318291944362452, 0.5097204258850562, 0.48591743330190934, 0.4599026889870399, 0.4307147957720943, 0.3961399116907477, 0.3475742659979036, 0.03214016908270687, 0.03048125256034184, 0.028988902829590137, 0.027636177688159222, 0.02640214307626235, 0.02527025598612674, 0.024227185472336772, 0.023262066215305983, 0.022365801232970363, 0.02153080009617702], Any[ComplexF64[8.399906463102314e-15 + 0.045252805518977125im, 8.54466008242703e-15 + 0.04752214114878074im, 8.661791855617321e-15 + 0.05003101379008681im, -7.160343330047745e-16 + 0.11714364117210613im, 2.0406499850379814e-15 + 0.19687580941575658im, 2.518934751733505e-16 + 0.2870887587684795im, 8.548849901697101e-16 + 0.3858460365396033im, -8.398013337830424e-16 + 0.5116295396535345im, 1.329117782984803e-16 + 0.6377421416177158im, 9.469681621368615e-16 + 0.8089042148763546im  …  2.290738753240773e-15 - 0.8089042148763551im, -5.906673685549427e-16 - 0.6377421416177163im, -2.83607704036028e-16 - 0.5116295396535346im, -7.542054099617202e-16 - 0.3858460365396032im, 5.56657840258678e-16 - 0.2870887587684796im, 1.0975758019201864e-15 - 0.19687580941575672im, -3.345526943795638e-16 - 0.11714364117210618im, -4.990183841497129e-15 - 0.05003101379008704im, -5.064305552896751e-15 - 0.04752214114878097im, -5.102893064049456e-15 - 0.04525280551897733im], ComplexF64[8.755861428790705e-15 + 0.04669327545320704im, 8.907213347441412e-15 + 0.04903486415028996im, 9.02985251052527e-15 + 0.05162361926407873im, -7.614227268334971e-16 + 0.12087477448008055im, 2.084957737488444e-15 + 0.20315479466573427im, 2.850008396254398e-16 + 0.29626674738348135im, 7.959740065937354e-16 + 0.3982279942562168im, -9.001967390051256e-16 + 0.5281602987288829im, 5.4077556223138015e-17 + 0.6585417773468532im, 8.797101966735676e-16 + 0.8357493433576318im  …  2.2185007999464288e-15 - 0.8357493433576323im, -6.593955964789204e-16 - 0.6585417773468536im, -3.6177393368160417e-16 - 0.528160298728883im, -8.372153623944514e-16 - 0.3982279942562165im, 5.889955281069366e-16 - 0.2962667473834816im, 1.1049186632253772e-15 - 0.20315479466573438im, -3.4473989278571593e-16 - 0.12087477448008062im, -5.1866166889508975e-15 - 0.05162361926407899im, -5.2644064618505775e-15 - 0.049034864150290215im, -5.305133703264979e-15 - 0.04669327545320728im], ComplexF64[9.142698043582329e-15 + 0.048156323360935775im, 9.30161744948855e-15 + 0.05057129890143613im, 9.430695640927297e-15 + 0.0532411902014222im, -7.985369839593014e-16 + 0.12466456505196691im, 2.149741418334844e-15 + 0.2095331309054233im, 2.971093830490958e-16 + 0.3055916124213004im, 8.0719105895341125e-16 + 0.4108115786881224im, -8.78443262329662e-16 + 0.544968380371569im, 4.1199346148499126e-17 + 0.6797040204872276im, 9.196183274907907e-16 + 0.8630942772804483im  …  2.3287861680573563e-15 - 0.8630942772804489im, -6.318440271170456e-16 - 0.679704020487228im, -3.5926214071954444e-16 - 0.544968380371569im, -8.765362192522363e-16 - 0.4108115786881223im, 5.84493011795148e-16 - 0.3055916124213005im, 1.1130996395202917e-15 - 0.2095331309054234im, -3.572525109175279e-16 - 0.12466456505196694im, -5.386538476438217e-15 - 0.05324119020142249im, -5.4686583610237406e-15 - 0.0505712989014364im, -5.512091340426358e-15 - 0.04815632336093602im], ComplexF64[9.5400123307297e-15 + 0.04964195048163626im, 9.70611416546872e-15 + 0.052131446842852674im, 9.841163467761832e-15 + 0.05488372828891487im, -8.245326892470438e-16 + 0.12851303507884348im, 2.2210553779458447e-15 + 0.21601092387201354im, 2.802207805460005e-16 + 0.31506368229217835im, 8.617095322011114e-16 + 0.4235975884510957im, -9.350231810624217e-16 + 0.5620556533961302im, 2.7766881900348856e-17 + 0.7012325168668699im, 8.360474010078194e-16 + 0.8909466051551396im  …  2.298412727032159e-15 - 0.8909466051551402im, -6.240219947378684e-16 - 0.7012325168668705im, -4.477535797259979e-16 - 0.5620556533961302im, -8.82309825981612e-16 - 0.42359758845109563im, 5.649576091058526e-16 - 0.3150636822921786im, 1.125897302593935e-15 - 0.2160109238720137im, -3.495611518625008e-16 - 0.12851303507884354im, -5.612116899983807e-15 - 0.0548837282889152im, -5.698357044518436e-15 - 0.05213144684285297im, -5.744138905533555e-15 - 0.04964195048163654im], ComplexF64[9.981538867793513e-15 + 0.051150158518370695im, 1.015679350483411e-14 + 0.05371530994638001im, 1.0299768791456898e-14 + 0.05655123582691371im, -8.816590919021005e-16 + 0.13242021402354542im, 2.262089015460526e-15 + 0.2225883133821878im, 2.8823607240624097e-16 + 0.32468339055968704im, 8.362319612306558e-16 + 0.4365870767809083im, -9.44734211154763e-16 + 0.5794245797235734im, -5.2895632356950174e-17 + 0.7231320640416028im, 7.746189515393653e-16 + 0.9193162935301042im  …  2.1733394164655107e-15 - 0.9193162935301051im, -7.003316027372812e-16 - 0.7231320640416032im, -5.52388058246221e-16 - 0.5794245797235734im, -9.366919798817327e-16 - 0.43658707678090825im, 5.561144120863471e-16 - 0.3246833905596873im, 1.1261309378946177e-15 - 0.22258831338218793im, -3.610027852140244e-16 - 0.1324202140235455im, -5.823080046206537e-15 - 0.05655123582691411im, -5.914660564107445e-15 - 0.05371530994638037im, -5.963964131021304e-15 - 0.05115015851837103im], ComplexF64[1.0440986774094294e-14 + 0.052680949852892726im, 1.062480914674498e-14 + 0.05532289097009781im, 1.0774983257020132e-14 + 0.05824371603350289im, -9.399556923223426e-16 + 0.13638614316698788im, 2.2673047819422094e-15 + 0.22926549534957558im, 2.664752017505229e-16 + 0.3344513445945623im, 7.530850635949394e-16 + 0.4497815186749214im, -1.0365994475917355e-15 + 0.5970786055361987im, -3.0864620846038455e-16 + 0.7454093738614119im, 4.518111654910794e-16 + 0.948217269262839im  …  1.9143817212785193e-15 - 0.9482172692628394im, -8.749652235990041e-16 - 0.7454093738614127im, -6.720108493995571e-16 - 0.5970786055361987im, -1.0601154083528164e-15 - 0.4497815186749213im, 5.209315549481504e-16 - 0.33445134459456255im, 1.0642571363288464e-15 - 0.22926549534957574im, -3.7442342410188605e-16 - 0.13638614316698794im, -6.074761098511185e-15 - 0.058243716033503354im, -6.171353178123366e-15 - 0.055322890970098224im, -6.223634364678897e-15 - 0.05268094985289311im], ComplexF64[1.0941573853360548e-14 + 0.05423432820987331im, 1.1134793053631577e-14 + 0.0569541942271195im, 1.1292911250527164e-14 + 0.05996117394109389im, -9.991946604851159e-16 + 0.1404108870777798im, 2.1813812395610763e-15 + 0.2360427762167441im, 3.439977864451879e-17 + 0.34436849443378115im, 4.2314800786288183e-16 + 0.4631832214840252im, -1.766095829573964e-15 + 0.6150231227239434im, -1.5573614658205294e-15 + 0.7680749498483799im, -1.4886847887187482e-15 + 0.9776713270729943im  …  1.2300267349727742e-17 - 0.977671327072995im, -2.0978009128083055e-15 - 0.7680749498483804im, -1.4702337277076337e-15 - 0.6150231227239435im, -1.4340000219250324e-15 - 0.46318322148402513im, 2.663606077230944e-16 - 0.34436849443378154im, 9.02491806077229e-16 - 0.2360427762167442im, -3.830420255421094e-16 - 0.14041088707777988im, -6.350626451999357e-15 - 0.059961173941094424im, -6.45275103716168e-15 - 0.056954194227119996im, -6.508303527619086e-15 - 0.05423432820987377im], ComplexF64[1.1431177201563713e-14 + 0.05581030022710554im, 1.1627698506063076e-14 + 0.05860922740401467im, 1.1786234702787228e-14 + 0.061703618518275216im, -1.6085987885908242e-15 + 0.14449456085939769im, 6.730065395635202e-16 + 0.24292070232604596im, -3.2660797906591403e-15 + 0.3544365341441886im, -5.7243681870573626e-15 + 0.47679630075883317im, -1.2508181326755415e-14 + 0.633267753383349im, -1.8519126958340564e-14 + 0.791147546433272im, -2.943552037537723e-14 + 1.007717404892236im  …  -2.8015391490128425e-14 - 1.007717404892238im, -1.8989861724551995e-14 - 0.7911475464332736im, -1.2347548075998346e-14 - 0.6332677533833495im, -7.575177352620834e-15 - 0.47679630075883356im, -3.066117878731957e-15 - 0.35443653414418896im, -6.611026292450517e-16 - 0.24292070232604618im, -9.32037621657417e-16 - 0.1444945608593978im, -6.744043627174609e-15 - 0.061703618518275875im, -6.842696147116348e-15 - 0.05860922740401528im, -6.893702018076269e-15 - 0.05581030022710612im], ComplexF64[3.0529924335127667e-15 + 0.05740888069594441im, 2.3315692213716543e-15 + 0.060288007629413394im, 1.4188424053225315e-15 + 0.06347106975076336im, -6.247714038589479e-14 + 0.14863742104065558im, -1.7136944352920062e-13 + 0.24990049148180266im, -3.706462521296626e-13 + 0.36465924091744617im, -6.732560122807495e-13 + 0.4906299367564442im, -1.198057609581199e-12 + 0.6518339761618974im, -1.8850523975089925e-12 + 0.8146690611552352im, -3.103121953471825e-12 + 1.0384425776204373im  …  -3.1016195138872085e-12 - 1.038442577620605im, -1.8854300342951885e-12 - 0.8146690611553374im, -1.198031822547889e-12 - 0.6518339761619618im, -6.751287465207082e-13 - 0.49062993675648037im, -3.7050963074522393e-13 - 0.36465924091746627im, -1.7281394718327549e-13 - 0.24990049148181215im, -6.173138315579022e-14 - 0.14863742104065894im, -1.815457471369708e-14 - 0.06347106975076477im, -1.7178359582730716e-14 - 0.06028800762941469im, -1.6303002547353764e-14 - 0.0574088806959456im], ComplexF64[-3.828810185646183e-10 + 0.059030125494240485im, -4.222536054101776e-10 + 0.06199059961298666im, -4.680257235299648e-10 + 0.06526360314432961im, -2.5682124237942293e-9 + 0.15284043697654812im, -7.268534335747495e-9 + 0.25698674644093905im, -1.551022823422402e-8 + 0.37505089619344517im, -2.816784516856883e-8 + 0.5047188578005608im, -4.998862714846906e-8 + 0.6708031101610268im, -7.862338151647542e-8 + 0.8387982634036371im, -1.292646329357813e-7 + 1.0701772017418307im  …  -1.292647152410058e-7 - 1.0701772086784271im, -7.862344545821264e-8 - 0.8387982676227245im, -4.998867739317383e-8 - 0.6708031128435161im, -2.816788416849424e-8 - 0.5047188593121039im, -1.5510255583559302e-8 - 0.37505089702575567im, -7.2685545747503506e-9 - 0.25698674683098366im, -2.568222650808225e-9 - 0.15284043711436376im, -4.680514413466778e-10 - 0.06526360316944672im, -4.222790169951932e-10 - 0.06199059963564746im, -3.8290604968963176e-10 - 0.0590301255147884im], ComplexF64[2.6460924683123895e-14 + 0.06067665382564245im, 2.7015448007398563e-14 + 0.06372003668802534im, 2.7548127477093394e-14 + 0.0670847582490604im, -3.4686080794532907e-15 + 0.15714901548002652im, -5.238046222246745e-16 + 0.2643947460810678im, -3.4056225978837353e-15 + 0.3862777844249522im, -1.060498929831557e-14 + 0.5206770017846228im, -1.7057050764476634e-14 + 0.6939292837185692im, -2.798087361719878e-14 + 0.8708009094433238im, -4.732457441662037e-14 + 1.1178048575966986im  …  -3.800216807996878e-14 - 1.1178048575967081im, -2.1431081351193984e-14 - 0.8708009094433372im, -1.8434749385998912e-14 - 0.6939292837185759im, -8.15833616076547e-15 - 0.5206770017846302im, -4.8458604072520166e-15 - 0.386277784424954im, -3.2194342575562146e-15 - 0.2643947460810687im, -1.3257122752156341e-15 - 0.1571490154800268im, -1.1805301890265908e-14 - 0.06708475824906814im, -1.2173978682082132e-14 - 0.06372003668803267im, -1.238794263576877e-14 - 0.06067665382564935im], ComplexF64[2.7477437501948923e-14 + 0.062342851647059896im, 2.8063194070542844e-14 + 0.06546981717377623im, 2.8629920684285706e-14 + 0.06892694836482495im, -2.678862911426863e-15 + 0.1614658214008764im, 1.9363810925375702e-15 + 0.27166289440292124im, 1.9686124024120552e-15 + 0.3969106426720144im, -7.609433026881494e-16 + 0.5350399965411341im, 6.479604452567159e-16 + 0.7131454223466915im, 2.0967419405130784e-17 + 0.8950429434730176im, -9.498695264606066e-16 + 1.1492283183472343im  …  -9.562849165489352e-16 - 1.149228318347222im, 2.1725410441145015e-15 - 0.8950429434730174im, -3.2984537860427155e-15 - 0.7131454223466897im, 8.120340993939678e-16 - 0.5350399965411365im, 5.0046736736087563e-17 - 0.3969106426720134im, -9.703760892486298e-16 - 0.2716628944029209im, -4.4072370531584197e-16 - 0.1614658214008762im, -1.2065973640230029e-14 - 0.0689269483648329im, -1.2463300215374413e-14 - 0.06546981717378375im, -1.2697019275447188e-14 - 0.06234285164706698im], ComplexF64[2.839821997493474e-14 + 0.06403161411946859im, 2.90036976810278e-14 + 0.06724329398085667im, 2.959080530116756e-14 + 0.07079408594160767im, -2.772513289532987e-15 + 0.16584105356447798im, 2.047733341873349e-15 + 0.27902929514933034im, 2.098447486602823e-15 + 0.4076869583709698im, -8.209220108676855e-16 + 0.5495962664271843im, 7.331855361656044e-16 + 0.7326191855517181im, -6.97969446735324e-17 + 0.9196088134297709im, -9.076083403910467e-16 + 1.181070031815977im  …  -1.0198326550961059e-15 - 1.1810700318159715im, 2.189312236286436e-15 - 0.9196088134297755im, -3.5133053734097727e-15 - 0.7326191855517189im, 8.332816147911951e-16 - 0.5495962664271887im, 4.027911955115295e-17 - 0.4076869583709698im, -9.928241056417716e-16 - 0.27902929514933045im, -4.90356971329267e-16 - 0.16584105356447792im, -1.2495701702277681e-14 - 0.07079408594161596im, -1.290454569630705e-14 - 0.06724329398086451im, -1.3143399120730018e-14 - 0.06403161411947599im], ComplexF64[2.93637673757994e-14 + 0.06574294140288278im, 2.999104212260315e-14 + 0.06904046731109793im, 3.0600531397801144e-14 + 0.0726861712332567im, -2.8706378172882082e-15 + 0.1702747170211211im, 2.1351462661766317e-15 + 0.2864939737696372im, 2.2418060773056037e-15 + 0.41860681284405665im, -7.503309672849243e-16 + 0.5643460142678997im, 9.401917417568312e-16 + 0.752351062827023im, 1.4716094303542656e-16 + 0.9444995031053239im, -1.1219749254404911e-15 + 1.2133321190538577im  …  -1.3015535035190458e-15 - 1.2133321190538466im, 2.554317769707831e-15 - 0.9444995031053247im, -3.52455717664087e-15 - 0.7523510628270219im, 1.0180917556662357e-15 - 0.5643460142679027im, 9.21398350050586e-17 - 0.4186068128440559im, -9.875522775218787e-16 - 0.28649397376963687im, -4.501120579462087e-16 - 0.17027471702112096im, -1.2832472126509286e-14 - 0.07268617123326522im, -1.3259628327422226e-14 - 0.06904046731110604im, -1.3509864726597728e-14 - 0.06574294140289041im], ComplexF64[3.035427408355539e-14 + 0.06747683374076449im, 3.100373255883552e-14 + 0.07086133744745213im, 3.163591096416043e-14 + 0.07460320457105557im, -2.9810476145737077e-15 + 0.1747668161489048im, 2.2408090995396452e-15 + 0.29405695137909105im, 2.3617766903266844e-15 + 0.4296702729231521im, -8.615254221115651e-16 + 0.5792894066151969im, 8.115342582871201e-16 + 0.772341457356868im, 2.2828097525865103e-16 + 0.9697158265032126im, -1.0951321984353923e-15 + 1.2460163464122536im  …  -1.1418067737862581e-15 - 1.2460163464122456im, 3.0108921177951045e-15 - 0.9697158265032165im, -3.737635976264927e-15 - 0.7723414573568681im, 1.0328080961650248e-15 - 0.5792894066152011im, 5.983844698950344e-17 - 0.42967027292315163im, -1.0781755528895167e-15 - 0.2940569513790908im, -5.711321024087109e-16 - 0.17476681614890474im, -1.323798135293898e-14 - 0.07460320457106451im, -1.3678837062031821e-14 - 0.07086133744746051im, -1.3936354671113512e-14 - 0.06747683374077242im], ComplexF64[3.122923923558616e-14 + 0.06923329134774947im, 3.189506431130302e-14 + 0.07270590463705602im, 3.254414447270319e-14 + 0.07654518624179972im, -3.0692954484370086e-15 + 0.1793173544964299im, 2.2348415812817297e-15 + 0.30171824497800764im, 2.417265284003051e-15 + 0.44087739251239544im, -9.145443611014349e-16 + 0.5944265784342014im, 8.508606144430219e-16 + 0.7925906982088393im, -1.1775505890470703e-16 + 0.995258452945429im, -1.279273105292885e-15 + 1.2791241799550892im  …  -1.4648831028689894e-15 - 1.2791241799550854im, 2.7451173043153796e-15 - 0.9952584529454359im, -3.974768874260215e-15 - 0.7925906982088415im, 1.0768756252645666e-15 - 0.5944265784342068im, 4.063256867974167e-17 - 0.4408773925123957im, -1.1485870895357293e-15 - 0.3017182449780078im, -5.266396472394494e-16 - 0.17931735449642994im, -1.3704758881142969e-14 - 0.0765451862418089im, -1.4157153811782451e-14 - 0.0727059046370647im, -1.4419397508701844e-14 - 0.06923329134775764im], ComplexF64[3.2294806043334565e-14 + 0.07101231445988095im, 3.298678959284404e-14 + 0.07457416914550408im, 3.3662606712037487e-14 + 0.07851211654679396im, -3.178936714494988e-15 + 0.18392633512004997im, 2.2576177403739873e-15 + 0.30947786876570704im, 2.364976348229764e-15 + 0.45222821640671435im, -8.996803032167241e-16 + 0.6097576421370017im, 1.008107902915873e-15 + 0.8130990611473583im, -1.2663780776828208e-16 + 1.0211279472879262im, -1.3039874279785443e-15 + 1.31265686794602im  …  -1.532712963867704e-15 - 1.312656867946005im, 2.8643259421409934e-15 - 1.0211279472879264im, -3.992653399606119e-15 - 0.8130990611473559im, 1.28198048149695e-15 - 0.6097576421370048im, -4.057306670430336e-17 - 0.45222821640671323im, -1.2133428280314938e-15 - 0.3094778687657065im, -5.71839215936112e-16 - 0.18392633512004974im, -1.4023658689924795e-14 - 0.0785121165468034im, -1.4495963634807928e-14 - 0.074574169145513im, -1.477123817712054e-14 - 0.07101231445988937im], ComplexF64[3.3214142265320577e-14 + 0.0728139026818322im, 3.39243310854076e-14 + 0.07646613057182244im, 3.4618802650300614e-14 + 0.08050399508125686im, -3.3053441957382774e-15 + 0.18859375895975178im, 2.399636752827907e-15 + 0.31733583164857604im, 2.714274064934889e-15 + 0.46372277726791034im, -9.456755645073698e-16 + 0.6252826847831852im, 1.2805656999204175e-15 + 0.8338667678336313im, 1.2403803902337057e-16 + 1.047324773721838im, -1.3233971019356019e-15 + 1.3466154564931383im  …  -1.8019744489236328e-15 - 1.3466154564931245im, 3.2112968720913824e-15 - 1.0473247737218396im, -4.098617288569452e-15 - 0.8338667678336297im, 1.2979512875063928e-15 - 0.625282684783189im, 1.4665826724495118e-16 - 0.46372277726790945im, -1.1994960685648987e-15 - 0.3173358316485757im, -5.868379627680378e-16 - 0.1885937589597517im, -1.446774153411522e-14 - 0.0805039950812666im, -1.4952449959016482e-14 - 0.07646613057183164im, -1.5233429016534613e-14 - 0.07281390268184089im], ComplexF64[3.4282139796279587e-14 + 0.0746380565905172im, 3.5018622548022946e-14 + 0.07838178953455424im, 3.574011958959893e-14 + 0.08252082251193846im, -3.3643116911924525e-15 + 0.19331962927069268im, 2.4952821694444015e-15 + 0.32529214569661935im, 2.6761205955827596e-15 + 0.47536111051458185im, -1.1095779204560253e-15 + 0.6410017933068181im, 1.2543815077890051e-15 + 0.8548940309750142im, -5.594753477016652e-18 + 1.0738493707241326im, -1.5300534700438867e-15 + 1.3810009251967839im  …  -1.767549586673219e-15 - 1.3810009251967685im, 3.444592050919732e-15 - 1.0738493707241332im, -4.2433730981847415e-15 - 0.8548940309750118im, 1.3044557498064345e-15 - 0.6410017933068216im, 5.5185369364811965e-17 - 0.47536111051458063im, -1.2134834074274003e-15 - 0.32529214569661885im, -5.951332292058484e-16 - 0.19331962927069252im, -1.481081889692662e-14 - 0.08252082251194849im, -1.531499595561409e-14 - 0.0783817895345637im, -1.5608400834372967e-14 - 0.07463805659052618im], ComplexF64[3.5177812253167746e-14 + 0.07648477655271321im, 3.593058522575125e-14 + 0.0803211464292891im, 3.6668709826239156e-14 + 0.084562599268075im, -3.5240943709691815e-15 + 0.1981039484524271im, 2.4688354707788236e-15 + 0.33334682042034164im, 2.7574696416558016e-15 + 0.48714324498579564im, -1.0698438151396202e-15 + 0.6569150399752337im, 1.330274942905398e-15 + 0.8761810306611544im, -2.168529434623283e-16 + 1.1007021147400555im, -1.397813855006699e-15 + 1.4158141267191577im  …  -2.1992579395949437e-15 - 1.4158141267191549im, 3.0339050583561197e-15 - 1.1007021147400649im, -4.6280996961305604e-15 - 0.8761810306611574im, 1.3581669027695265e-15 - 0.6569150399752404im, 7.977272974033968e-17 - 0.4871432449857961im, -1.2143621449041036e-15 - 0.33334682042034197im, -5.229684136744526e-16 - 0.1981039484524272im, -1.525708185698409e-14 - 0.08456259926808543im, -1.5774925852456617e-14 - 0.08032114642929894im, -1.607491604655465e-14 - 0.07648477655272247im]])"
      ]
     },
     "execution_count": 124,
     "metadata": {},
     "output_type": "execute_result"
    }
   ],
   "source": [
    "\n",
    "function run(D,Us,rho_omega,omega_range,nitr,mixing)\n",
    "    # make sparse ir basis\n",
    "    beta = 10  * D\n",
    "    wmax = 10.0 * D\n",
    "    eps = 1e-9\n",
    "    basis = sparse_ir.FiniteTempBasis(\"F\", beta, wmax, eps=eps)\n",
    "\n",
    "    Z = []\n",
    "    sigma_history = []\n",
    "    for iu in Us\n",
    "        solver = IPT.IPTSolver(iu,basis,rho_omega,omega_range)\n",
    "        println(solver.U)\n",
    "        z, sigma_ = normalize_factor(solver,sigma_history,nitr,mixing) \n",
    "        push!(sigma_history,sigma_)\n",
    "        if abs(z) > 1e-10\n",
    "            push!(Z,z)\n",
    "        else \n",
    "            break\n",
    "        end\n",
    "    end\n",
    "\n",
    "    return Z, sigma_history\n",
    "end\n",
    "\n",
    "D = 2\n",
    "num_U = 20\n",
    "U_min = 5 / D\n",
    "U_max = 6.5 / D\n",
    "Us = 2 .* collect(range(U_min,U_max,num_U))\n",
    "omega_range = (-2.0,2.0)\n",
    "nitr = 1000\n",
    "mixing = 0.1\n",
    "Z,sigma_history = run(D,Us,rho_omega,omega_range,nitr,mixing)"
   ]
  },
  {
   "cell_type": "code",
   "execution_count": 125,
   "metadata": {},
   "outputs": [
    {
     "data": {
      "text/plain": [
       "20-element Vector{Any}:\n",
       " 0.5906632344276342\n",
       " 0.5721199383364783\n",
       " 0.5525585617301096\n",
       " 0.5318291944362452\n",
       " 0.5097204258850562\n",
       " 0.48591743330190934\n",
       " 0.4599026889870399\n",
       " 0.4307147957720943\n",
       " 0.3961399116907477\n",
       " 0.3475742659979036\n",
       " 0.03214016908270687\n",
       " 0.03048125256034184\n",
       " 0.028988902829590137\n",
       " 0.027636177688159222\n",
       " 0.02640214307626235\n",
       " 0.02527025598612674\n",
       " 0.024227185472336772\n",
       " 0.023262066215305983\n",
       " 0.022365801232970363\n",
       " 0.02153080009617702"
      ]
     },
     "execution_count": 125,
     "metadata": {},
     "output_type": "execute_result"
    }
   ],
   "source": [
    "Z"
   ]
  },
  {
   "cell_type": "code",
   "execution_count": 126,
   "metadata": {},
   "outputs": [
    {
     "data": {
      "image/png": "[encoded data removed]",
      "text/plain": [
       "Figure(PyObject <Figure size 640x480 with 1 Axes>)"
      ]
     },
     "metadata": {},
     "output_type": "display_data"
    },
    {
     "name": "stderr",
     "output_type": "stream",
     "text": [
      "sys:1: UserWarning: Matplotlib is currently using agg, which is a non-GUI backend, so cannot show the figure.\n"
     ]
    }
   ],
   "source": [
    "plt.figure()\n",
    "plt.plot(Us,Z,marker=\"o\")\n",
    "plt.tight_layout()\n",
    "plt.title(\"scaling plot before optimization in $(L\"$J_2=1\\times10^{-2},\\ L=900$\")\")\n",
    "plt.title(L\"$T=0.05$\")\n",
    "fontsize = 20\n",
    "plt.xlabel(L\"$U$\",fontsize=fontsize)\n",
    "plt.ylabel(L\"$z = (1-\\frac{\\partial \\Sigma}{\\partial \\omega})^{-1}$\",fontsize=fontsize)\n",
    "plt.grid()\n",
    "plt.savefig(\"test_iptsolver.pdf\",bbox_inches=\"tight\",transparent=true)\n",
    "plt.show()"
   ]
  }
 ],
 "metadata": {
  "interpreter": {
   "hash": "aee8b7b246df8f9039afb4144a1f6fd8d2ca17a180786b69acc140d282b71a49"
  },
  "kernelspec": {
   "display_name": "Julia 1.7.1",
   "language": "julia",
   "name": "julia-1.7"
  },
  "language_info": {
   "file_extension": ".jl",
   "mimetype": "application/julia",
   "name": "julia",
   "version": "1.7.1"
  }
 },
 "nbformat": 4,
 "nbformat_minor": 4
}
